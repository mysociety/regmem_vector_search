{
 "cells": [
  {
   "cell_type": "code",
   "execution_count": 1,
   "metadata": {},
   "outputs": [],
   "source": [
    "import datetime\n",
    "import re\n",
    "from pathlib import Path\n",
    "\n",
    "from IPython.display import Markdown as md\n",
    "from mini_transcript_search import Criteria, ModelHandler\n",
    "\n",
    "\n",
    "def dmd(text):\n",
    "    display(md(text))\n",
    "\n",
    "\n",
    "top_level = Path.cwd()\n",
    "while (top_level / \"pyproject.toml\").exists() is False:\n",
    "    top_level = top_level.parent\n",
    "\n",
    "handler = ModelHandler(\n",
    "    use_local_model=False,\n",
    "    override_stored=False,\n",
    "    storage_path=Path(top_level, \"data\", \"parlparse_xmls\"),\n",
    "    silent=True,\n",
    ")\n",
    "\n",
    "search_criteria = Criteria(\n",
    "    [\n",
    "        \"register of members interests\",\n",
    "        \"May I draw attention to my interests as registered in the Register of Members Financial Interests\",\n",
    "        \"May I draw attention to my entry in the Register of Members’ Financial Interests?\",\n",
    "        \"May I draw attention to my interests in register?\",\n",
    "        \"May I draw attention to my interests as declared in the register?\",\n",
    "        \"I refer Members to my registered interest.\",\n",
    "    ],\n",
    "    score_type=\"nearest\",\n",
    ")\n",
    "\n",
    "today = datetime.date.today()\n",
    "one_month_ago = today - datetime.timedelta(days=30)\n",
    "\n",
    "\n",
    "# the last week starting yesterday\n",
    "last_month = ModelHandler.DateRange(start_date=one_month_ago, end_date=today)\n",
    "results = handler.query(\n",
    "    search_criteria,\n",
    "    threshold=0.35,\n",
    "    date_range=last_month,\n",
    "    chamber=ModelHandler.Chamber.COMMONS,\n",
    "    transcript_type=ModelHandler.TranscriptType.DEBATES,\n",
    ")\n",
    "\n",
    "# dump csv\n",
    "df = results.df()"
   ]
  },
  {
   "cell_type": "markdown",
   "metadata": {},
   "source": [
    "# Vector search: register of interests declarations\n",
    "\n"
   ]
  },
  {
   "cell_type": "code",
   "execution_count": 2,
   "metadata": {},
   "outputs": [
    {
     "data": {
      "text/markdown": [
       "Last run date: 2024-10-09"
      ],
      "text/plain": [
       "<IPython.core.display.Markdown object>"
      ]
     },
     "metadata": {},
     "output_type": "display_data"
    }
   ],
   "source": [
    "dmd(f\"Last run date: {today}\")"
   ]
  },
  {
   "cell_type": "code",
   "execution_count": 3,
   "metadata": {},
   "outputs": [],
   "source": [
    "def bold_icase(text: str, word: str) -> str:\n",
    "    \"\"\"\n",
    "    Bold a word in a case insensitive way.\n",
    "    We are passing 'interest' but want to bold 'Interest' for example.\n",
    "    \"\"\"\n",
    "    return re.sub(re.compile(f\"({word})\", re.IGNORECASE), r\"**\\1**\", text)"
   ]
  },
  {
   "cell_type": "code",
   "execution_count": 6,
   "metadata": {},
   "outputs": [
    {
     "data": {
      "text/markdown": [
       "# 2024-10-08"
      ],
      "text/plain": [
       "<IPython.core.display.Markdown object>"
      ]
     },
     "metadata": {},
     "output_type": "display_data"
    },
    {
     "name": "stdout",
     "output_type": "stream",
     "text": [
      "James-Frith-\\(25622\\)\n"
     ]
    },
    {
     "data": {
      "text/markdown": [
       "## James Frith (25622)"
      ],
      "text/plain": [
       "<IPython.core.display.Markdown object>"
      ]
     },
     "metadata": {},
     "output_type": "display_data"
    },
    {
     "data": {
      "text/markdown": [
       "[🔗](#James-Frith-\\(25622\\))"
      ],
      "text/plain": [
       "<IPython.core.display.Markdown object>"
      ]
     },
     "metadata": {},
     "output_type": "display_data"
    },
    {
     "data": {
      "text/markdown": [
       "[Debate link](https://www.theyworkforyou.com/debates/?id=2024-10-08a.186.2) | [Register link](https://www.theyworkforyou.com/mp/25622/register)"
      ],
      "text/plain": [
       "<IPython.core.display.Markdown object>"
      ]
     },
     "metadata": {},
     "output_type": "display_data"
    },
    {
     "data": {
      "text/markdown": [
       "match score: 0.9"
      ],
      "text/plain": [
       "<IPython.core.display.Markdown object>"
      ]
     },
     "metadata": {},
     "output_type": "display_data"
    },
    {
     "data": {
      "text/markdown": [
       ">I refer Members to my entry in the ******Register****** of Members’ Financial ******Interest******s"
      ],
      "text/plain": [
       "<IPython.core.display.Markdown object>"
      ]
     },
     "metadata": {},
     "output_type": "display_data"
    },
    {
     "name": "stdout",
     "output_type": "stream",
     "text": [
      "Mims-Davies-\\(25330\\)\n"
     ]
    },
    {
     "data": {
      "text/markdown": [
       "## Mims Davies (25330)"
      ],
      "text/plain": [
       "<IPython.core.display.Markdown object>"
      ]
     },
     "metadata": {},
     "output_type": "display_data"
    },
    {
     "data": {
      "text/markdown": [
       "[🔗](#Mims-Davies-\\(25330\\))"
      ],
      "text/plain": [
       "<IPython.core.display.Markdown object>"
      ]
     },
     "metadata": {},
     "output_type": "display_data"
    },
    {
     "data": {
      "text/markdown": [
       "[Debate link](https://www.theyworkforyou.com/debates/?id=2024-10-08a.167.6) | [Register link](https://www.theyworkforyou.com/mp/25330/register)"
      ],
      "text/plain": [
       "<IPython.core.display.Markdown object>"
      ]
     },
     "metadata": {},
     "output_type": "display_data"
    },
    {
     "data": {
      "text/markdown": [
       "match score: 0.73"
      ],
      "text/plain": [
       "<IPython.core.display.Markdown object>"
      ]
     },
     "metadata": {},
     "output_type": "display_data"
    },
    {
     "data": {
      "text/markdown": [
       ">I have a personal and constituency ******interest****** in wanting all education settings to thrive, so I agree with my right hon Friend"
      ],
      "text/plain": [
       "<IPython.core.display.Markdown object>"
      ]
     },
     "metadata": {},
     "output_type": "display_data"
    },
    {
     "name": "stdout",
     "output_type": "stream",
     "text": [
      "Laurence-Turner-\\(26517\\)\n"
     ]
    },
    {
     "data": {
      "text/markdown": [
       "## Laurence Turner (26517)"
      ],
      "text/plain": [
       "<IPython.core.display.Markdown object>"
      ]
     },
     "metadata": {},
     "output_type": "display_data"
    },
    {
     "data": {
      "text/markdown": [
       "[🔗](#Laurence-Turner-\\(26517\\))"
      ],
      "text/plain": [
       "<IPython.core.display.Markdown object>"
      ]
     },
     "metadata": {},
     "output_type": "display_data"
    },
    {
     "data": {
      "text/markdown": [
       "[Debate link](https://www.theyworkforyou.com/debates/?id=2024-10-08a.199.0) | [Register link](https://www.theyworkforyou.com/mp/26517/register)"
      ],
      "text/plain": [
       "<IPython.core.display.Markdown object>"
      ]
     },
     "metadata": {},
     "output_type": "display_data"
    },
    {
     "data": {
      "text/markdown": [
       "match score: 0.7"
      ],
      "text/plain": [
       "<IPython.core.display.Markdown object>"
      ]
     },
     "metadata": {},
     "output_type": "display_data"
    },
    {
     "data": {
      "text/markdown": [
       ">At this point I draw the House’s attention to my declarations in the ******Register****** of Members’ Financial ******Interest******s and my background as an officer of the GMB, one of the unions that represents school support staff."
      ],
      "text/plain": [
       "<IPython.core.display.Markdown object>"
      ]
     },
     "metadata": {},
     "output_type": "display_data"
    },
    {
     "name": "stdout",
     "output_type": "stream",
     "text": [
      "Andrew-Murrison-\\(11132\\)\n"
     ]
    },
    {
     "data": {
      "text/markdown": [
       "## Andrew Murrison (11132)"
      ],
      "text/plain": [
       "<IPython.core.display.Markdown object>"
      ]
     },
     "metadata": {},
     "output_type": "display_data"
    },
    {
     "data": {
      "text/markdown": [
       "[🔗](#Andrew-Murrison-\\(11132\\))"
      ],
      "text/plain": [
       "<IPython.core.display.Markdown object>"
      ]
     },
     "metadata": {},
     "output_type": "display_data"
    },
    {
     "data": {
      "text/markdown": [
       "[Debate link](https://www.theyworkforyou.com/debates/?id=2024-10-08a.242.0) | [Register link](https://www.theyworkforyou.com/mp/11132/register)"
      ],
      "text/plain": [
       "<IPython.core.display.Markdown object>"
      ]
     },
     "metadata": {},
     "output_type": "display_data"
    },
    {
     "data": {
      "text/markdown": [
       "match score: 0.7"
      ],
      "text/plain": [
       "<IPython.core.display.Markdown object>"
      ]
     },
     "metadata": {},
     "output_type": "display_data"
    },
    {
     "data": {
      "text/markdown": [
       ">I am following the hon Gentleman’s remarks with a great deal of ******interest******"
      ],
      "text/plain": [
       "<IPython.core.display.Markdown object>"
      ]
     },
     "metadata": {},
     "output_type": "display_data"
    },
    {
     "name": "stdout",
     "output_type": "stream",
     "text": [
      "Dr-Caroline-Johnson-\\(25597\\)\n"
     ]
    },
    {
     "data": {
      "text/markdown": [
       "## Dr Caroline Johnson (25597)"
      ],
      "text/plain": [
       "<IPython.core.display.Markdown object>"
      ]
     },
     "metadata": {},
     "output_type": "display_data"
    },
    {
     "data": {
      "text/markdown": [
       "[🔗](#Dr-Caroline-Johnson-\\(25597\\))"
      ],
      "text/plain": [
       "<IPython.core.display.Markdown object>"
      ]
     },
     "metadata": {},
     "output_type": "display_data"
    },
    {
     "data": {
      "text/markdown": [
       "[Debate link](https://www.theyworkforyou.com/debates/?id=2024-10-08a.203.2) | [Register link](https://www.theyworkforyou.com/mp/25597/register)"
      ],
      "text/plain": [
       "<IPython.core.display.Markdown object>"
      ]
     },
     "metadata": {},
     "output_type": "display_data"
    },
    {
     "data": {
      "text/markdown": [
       "match score: 0.69"
      ],
      "text/plain": [
       "<IPython.core.display.Markdown object>"
      ]
     },
     "metadata": {},
     "output_type": "display_data"
    },
    {
     "data": {
      "text/markdown": [
       ">I ******declare****** an ******interest****** as I have three children in private school, one of whom is in her final year"
      ],
      "text/plain": [
       "<IPython.core.display.Markdown object>"
      ]
     },
     "metadata": {},
     "output_type": "display_data"
    },
    {
     "name": "stdout",
     "output_type": "stream",
     "text": [
      "Roz-Savage-\\(26603\\)\n"
     ]
    },
    {
     "data": {
      "text/markdown": [
       "## Roz Savage (26603)"
      ],
      "text/plain": [
       "<IPython.core.display.Markdown object>"
      ]
     },
     "metadata": {},
     "output_type": "display_data"
    },
    {
     "data": {
      "text/markdown": [
       "[🔗](#Roz-Savage-\\(26603\\))"
      ],
      "text/plain": [
       "<IPython.core.display.Markdown object>"
      ]
     },
     "metadata": {},
     "output_type": "display_data"
    },
    {
     "data": {
      "text/markdown": [
       "[Debate link](https://www.theyworkforyou.com/debates/?id=2024-10-08a.251.3) | [Register link](https://www.theyworkforyou.com/mp/26603/register)"
      ],
      "text/plain": [
       "<IPython.core.display.Markdown object>"
      ]
     },
     "metadata": {},
     "output_type": "display_data"
    },
    {
     "data": {
      "text/markdown": [
       "match score: 0.67"
      ],
      "text/plain": [
       "<IPython.core.display.Markdown object>"
      ]
     },
     "metadata": {},
     "output_type": "display_data"
    },
    {
     "data": {
      "text/markdown": [
       ">I am so grateful to my constituents for trusting me to represent their ******interest******s and those of this country"
      ],
      "text/plain": [
       "<IPython.core.display.Markdown object>"
      ]
     },
     "metadata": {},
     "output_type": "display_data"
    },
    {
     "name": "stdout",
     "output_type": "stream",
     "text": [
      "Steve-Reed-\\(25170\\)\n"
     ]
    },
    {
     "data": {
      "text/markdown": [
       "## Steve Reed (25170)"
      ],
      "text/plain": [
       "<IPython.core.display.Markdown object>"
      ]
     },
     "metadata": {},
     "output_type": "display_data"
    },
    {
     "data": {
      "text/markdown": [
       "[🔗](#Steve-Reed-\\(25170\\))"
      ],
      "text/plain": [
       "<IPython.core.display.Markdown object>"
      ]
     },
     "metadata": {},
     "output_type": "display_data"
    },
    {
     "data": {
      "text/markdown": [
       "[Debate link](https://www.theyworkforyou.com/debates/?id=2024-10-08a.235.4) | [Register link](https://www.theyworkforyou.com/mp/25170/register)"
      ],
      "text/plain": [
       "<IPython.core.display.Markdown object>"
      ]
     },
     "metadata": {},
     "output_type": "display_data"
    },
    {
     "data": {
      "text/markdown": [
       "match score: 0.66"
      ],
      "text/plain": [
       "<IPython.core.display.Markdown object>"
      ]
     },
     "metadata": {},
     "output_type": "display_data"
    },
    {
     "data": {
      "text/markdown": [
       ">I have also been speaking with my right hon Friend the Secretary of State for Northern Ireland, who shares that ******interest******"
      ],
      "text/plain": [
       "<IPython.core.display.Markdown object>"
      ]
     },
     "metadata": {},
     "output_type": "display_data"
    },
    {
     "name": "stdout",
     "output_type": "stream",
     "text": [
      "James-Murray-\\(25801\\)\n"
     ]
    },
    {
     "data": {
      "text/markdown": [
       "## James Murray (25801)"
      ],
      "text/plain": [
       "<IPython.core.display.Markdown object>"
      ]
     },
     "metadata": {},
     "output_type": "display_data"
    },
    {
     "data": {
      "text/markdown": [
       "[🔗](#James-Murray-\\(25801\\))"
      ],
      "text/plain": [
       "<IPython.core.display.Markdown object>"
      ]
     },
     "metadata": {},
     "output_type": "display_data"
    },
    {
     "data": {
      "text/markdown": [
       "[Debate link](https://www.theyworkforyou.com/debates/?id=2024-10-08a.174.3) | [Register link](https://www.theyworkforyou.com/mp/25801/register)"
      ],
      "text/plain": [
       "<IPython.core.display.Markdown object>"
      ]
     },
     "metadata": {},
     "output_type": "display_data"
    },
    {
     "data": {
      "text/markdown": [
       "match score: 0.66"
      ],
      "text/plain": [
       "<IPython.core.display.Markdown object>"
      ]
     },
     "metadata": {},
     "output_type": "display_data"
    },
    {
     "data": {
      "text/markdown": [
       ">I am still responding to the hon. Member for Hinckley and Bosworth (Dr Evans), so please let me come back to that point. HMRC is putting in place bespoke guidance, and it is standing by to make sure that schools are properly ******register******ed for the change. All the evidence we have seen from the IFS and so on suggests that the impact on the state sector will be very small, which means that it will not have a material effect on children’s education."
      ],
      "text/plain": [
       "<IPython.core.display.Markdown object>"
      ]
     },
     "metadata": {},
     "output_type": "display_data"
    },
    {
     "name": "stdout",
     "output_type": "stream",
     "text": [
      "Alicia-Kearns-\\(25906\\)\n"
     ]
    },
    {
     "data": {
      "text/markdown": [
       "## Alicia Kearns (25906)"
      ],
      "text/plain": [
       "<IPython.core.display.Markdown object>"
      ]
     },
     "metadata": {},
     "output_type": "display_data"
    },
    {
     "data": {
      "text/markdown": [
       "[🔗](#Alicia-Kearns-\\(25906\\))"
      ],
      "text/plain": [
       "<IPython.core.display.Markdown object>"
      ]
     },
     "metadata": {},
     "output_type": "display_data"
    },
    {
     "data": {
      "text/markdown": [
       "[Debate link](https://www.theyworkforyou.com/debates/?id=2024-10-08a.185.1) | [Register link](https://www.theyworkforyou.com/mp/25906/register)"
      ],
      "text/plain": [
       "<IPython.core.display.Markdown object>"
      ]
     },
     "metadata": {},
     "output_type": "display_data"
    },
    {
     "data": {
      "text/markdown": [
       "match score: 0.66"
      ],
      "text/plain": [
       "<IPython.core.display.Markdown object>"
      ]
     },
     "metadata": {},
     "output_type": "display_data"
    },
    {
     "data": {
      "text/markdown": [
       ">For those who are ******interest******ed, I did go to my local comprehensive, and my children go to their local comprehensive, but I think it is right that we support choice for all"
      ],
      "text/plain": [
       "<IPython.core.display.Markdown object>"
      ]
     },
     "metadata": {},
     "output_type": "display_data"
    },
    {
     "name": "stdout",
     "output_type": "stream",
     "text": [
      "Ben-Spencer-\\(25889\\)\n"
     ]
    },
    {
     "data": {
      "text/markdown": [
       "## Ben Spencer (25889)"
      ],
      "text/plain": [
       "<IPython.core.display.Markdown object>"
      ]
     },
     "metadata": {},
     "output_type": "display_data"
    },
    {
     "data": {
      "text/markdown": [
       "[🔗](#Ben-Spencer-\\(25889\\))"
      ],
      "text/plain": [
       "<IPython.core.display.Markdown object>"
      ]
     },
     "metadata": {},
     "output_type": "display_data"
    },
    {
     "data": {
      "text/markdown": [
       "[Debate link](https://www.theyworkforyou.com/debates/?id=2024-10-08a.215.0) | [Register link](https://www.theyworkforyou.com/mp/25889/register)"
      ],
      "text/plain": [
       "<IPython.core.display.Markdown object>"
      ]
     },
     "metadata": {},
     "output_type": "display_data"
    },
    {
     "data": {
      "text/markdown": [
       "match score: 0.65"
      ],
      "text/plain": [
       "<IPython.core.display.Markdown object>"
      ]
     },
     "metadata": {},
     "output_type": "display_data"
    },
    {
     "data": {
      "text/markdown": [
       ">I must ******declare****** that I have chosen independent education for my children"
      ],
      "text/plain": [
       "<IPython.core.display.Markdown object>"
      ]
     },
     "metadata": {},
     "output_type": "display_data"
    },
    {
     "name": "stdout",
     "output_type": "stream",
     "text": [
      "Munira-Wilson-\\(25820\\)\n"
     ]
    },
    {
     "data": {
      "text/markdown": [
       "## Munira Wilson (25820)"
      ],
      "text/plain": [
       "<IPython.core.display.Markdown object>"
      ]
     },
     "metadata": {},
     "output_type": "display_data"
    },
    {
     "data": {
      "text/markdown": [
       "[🔗](#Munira-Wilson-\\(25820\\))"
      ],
      "text/plain": [
       "<IPython.core.display.Markdown object>"
      ]
     },
     "metadata": {},
     "output_type": "display_data"
    },
    {
     "data": {
      "text/markdown": [
       "[Debate link](https://www.theyworkforyou.com/debates/?id=2024-10-08a.180.2) | [Register link](https://www.theyworkforyou.com/mp/25820/register)"
      ],
      "text/plain": [
       "<IPython.core.display.Markdown object>"
      ]
     },
     "metadata": {},
     "output_type": "display_data"
    },
    {
     "data": {
      "text/markdown": [
       "match score: 0.65"
      ],
      "text/plain": [
       "<IPython.core.display.Markdown object>"
      ]
     },
     "metadata": {},
     "output_type": "display_data"
    },
    {
     "data": {
      "text/markdown": [
       ">Just yesterday, I was discussing with one of the headteachers in my constituency the number of children on their SEND ******register****** and how they go about identifying them"
      ],
      "text/plain": [
       "<IPython.core.display.Markdown object>"
      ]
     },
     "metadata": {},
     "output_type": "display_data"
    },
    {
     "data": {
      "text/markdown": [
       "# 2024-10-07"
      ],
      "text/plain": [
       "<IPython.core.display.Markdown object>"
      ]
     },
     "metadata": {},
     "output_type": "display_data"
    },
    {
     "name": "stdout",
     "output_type": "stream",
     "text": [
      "Stuart-Anderson-\\(25818\\)\n"
     ]
    },
    {
     "data": {
      "text/markdown": [
       "## Stuart Anderson (25818)"
      ],
      "text/plain": [
       "<IPython.core.display.Markdown object>"
      ]
     },
     "metadata": {},
     "output_type": "display_data"
    },
    {
     "data": {
      "text/markdown": [
       "[🔗](#Stuart-Anderson-\\(25818\\))"
      ],
      "text/plain": [
       "<IPython.core.display.Markdown object>"
      ]
     },
     "metadata": {},
     "output_type": "display_data"
    },
    {
     "data": {
      "text/markdown": [
       "[Debate link](https://www.theyworkforyou.com/debates/?id=2024-10-07a.62.7) | [Register link](https://www.theyworkforyou.com/mp/25818/register)"
      ],
      "text/plain": [
       "<IPython.core.display.Markdown object>"
      ]
     },
     "metadata": {},
     "output_type": "display_data"
    },
    {
     "data": {
      "text/markdown": [
       "match score: 0.71"
      ],
      "text/plain": [
       "<IPython.core.display.Markdown object>"
      ]
     },
     "metadata": {},
     "output_type": "display_data"
    },
    {
     "data": {
      "text/markdown": [
       ">I am ******interest******ed in our country"
      ],
      "text/plain": [
       "<IPython.core.display.Markdown object>"
      ]
     },
     "metadata": {},
     "output_type": "display_data"
    },
    {
     "name": "stdout",
     "output_type": "stream",
     "text": [
      "Victoria-Atkins-\\(25424\\)\n"
     ]
    },
    {
     "data": {
      "text/markdown": [
       "## Victoria Atkins (25424)"
      ],
      "text/plain": [
       "<IPython.core.display.Markdown object>"
      ]
     },
     "metadata": {},
     "output_type": "display_data"
    },
    {
     "data": {
      "text/markdown": [
       "[🔗](#Victoria-Atkins-\\(25424\\))"
      ],
      "text/plain": [
       "<IPython.core.display.Markdown object>"
      ]
     },
     "metadata": {},
     "output_type": "display_data"
    },
    {
     "data": {
      "text/markdown": [
       "[Debate link](https://www.theyworkforyou.com/debates/?id=2024-10-07a.97.1) | [Register link](https://www.theyworkforyou.com/mp/25424/register)"
      ],
      "text/plain": [
       "<IPython.core.display.Markdown object>"
      ]
     },
     "metadata": {},
     "output_type": "display_data"
    },
    {
     "data": {
      "text/markdown": [
       "match score: 0.68"
      ],
      "text/plain": [
       "<IPython.core.display.Markdown object>"
      ]
     },
     "metadata": {},
     "output_type": "display_data"
    },
    {
     "data": {
      "text/markdown": [
       ">I hope the hon. Gentleman knows by now that when he makes a suggestion, I will take it away. He will appreciate that, as part of a constructive Opposition, I want to look carefully at the ramifications—both the intended and unintended consequences—of policies suggested in the Chamber, but that sounds very ******interest******ing. I thank him for his contribution, as always."
      ],
      "text/plain": [
       "<IPython.core.display.Markdown object>"
      ]
     },
     "metadata": {},
     "output_type": "display_data"
    },
    {
     "name": "stdout",
     "output_type": "stream",
     "text": [
      "David-Lammy-\\(10678\\)\n"
     ]
    },
    {
     "data": {
      "text/markdown": [
       "## David Lammy (10678)"
      ],
      "text/plain": [
       "<IPython.core.display.Markdown object>"
      ]
     },
     "metadata": {},
     "output_type": "display_data"
    },
    {
     "data": {
      "text/markdown": [
       "[🔗](#David-Lammy-\\(10678\\))"
      ],
      "text/plain": [
       "<IPython.core.display.Markdown object>"
      ]
     },
     "metadata": {},
     "output_type": "display_data"
    },
    {
     "data": {
      "text/markdown": [
       "[Debate link](https://www.theyworkforyou.com/debates/?id=2024-10-07a.60.4) | [Register link](https://www.theyworkforyou.com/mp/10678/register)"
      ],
      "text/plain": [
       "<IPython.core.display.Markdown object>"
      ]
     },
     "metadata": {},
     "output_type": "display_data"
    },
    {
     "data": {
      "text/markdown": [
       "match score: 0.66"
      ],
      "text/plain": [
       "<IPython.core.display.Markdown object>"
      ]
     },
     "metadata": {},
     "output_type": "display_data"
    },
    {
     "data": {
      "text/markdown": [
       ">As I have said, these are issues that we can discuss when we have the treaty. It is not routine for any Government to comment on basing arrangements. The hon. Lady would not expect us to do that and put our national ******interest******s at stake."
      ],
      "text/plain": [
       "<IPython.core.display.Markdown object>"
      ]
     },
     "metadata": {},
     "output_type": "display_data"
    },
    {
     "name": "stdout",
     "output_type": "stream",
     "text": [
      "Keir-Starmer-\\(25353\\)\n"
     ]
    },
    {
     "data": {
      "text/markdown": [
       "## Keir Starmer (25353)"
      ],
      "text/plain": [
       "<IPython.core.display.Markdown object>"
      ]
     },
     "metadata": {},
     "output_type": "display_data"
    },
    {
     "data": {
      "text/markdown": [
       "[🔗](#Keir-Starmer-\\(25353\\))"
      ],
      "text/plain": [
       "<IPython.core.display.Markdown object>"
      ]
     },
     "metadata": {},
     "output_type": "display_data"
    },
    {
     "data": {
      "text/markdown": [
       "[Debate link](https://www.theyworkforyou.com/debates/?id=2024-10-07a.37.0) | [Register link](https://www.theyworkforyou.com/mp/25353/register)"
      ],
      "text/plain": [
       "<IPython.core.display.Markdown object>"
      ]
     },
     "metadata": {},
     "output_type": "display_data"
    },
    {
     "data": {
      "text/markdown": [
       "match score: 0.65"
      ],
      "text/plain": [
       "<IPython.core.display.Markdown object>"
      ]
     },
     "metadata": {},
     "output_type": "display_data"
    },
    {
     "data": {
      "text/markdown": [
       ">I was ******interest******ed to hear the particular example that the hon Lady referred to"
      ],
      "text/plain": [
       "<IPython.core.display.Markdown object>"
      ]
     },
     "metadata": {},
     "output_type": "display_data"
    },
    {
     "data": {
      "text/markdown": [
       "# 2024-09-12"
      ],
      "text/plain": [
       "<IPython.core.display.Markdown object>"
      ]
     },
     "metadata": {},
     "output_type": "display_data"
    },
    {
     "name": "stdout",
     "output_type": "stream",
     "text": [
      "Mims-Davies-\\(25330\\)\n"
     ]
    },
    {
     "data": {
      "text/markdown": [
       "## Mims Davies (25330)"
      ],
      "text/plain": [
       "<IPython.core.display.Markdown object>"
      ]
     },
     "metadata": {},
     "output_type": "display_data"
    },
    {
     "data": {
      "text/markdown": [
       "[🔗](#Mims-Davies-\\(25330\\))"
      ],
      "text/plain": [
       "<IPython.core.display.Markdown object>"
      ]
     },
     "metadata": {},
     "output_type": "display_data"
    },
    {
     "data": {
      "text/markdown": [
       "[Debate link](https://www.theyworkforyou.com/debates/?id=2024-09-12b.1057.2) | [Register link](https://www.theyworkforyou.com/mp/25330/register)"
      ],
      "text/plain": [
       "<IPython.core.display.Markdown object>"
      ]
     },
     "metadata": {},
     "output_type": "display_data"
    },
    {
     "data": {
      "text/markdown": [
       "match score: 0.84"
      ],
      "text/plain": [
       "<IPython.core.display.Markdown object>"
      ]
     },
     "metadata": {},
     "output_type": "display_data"
    },
    {
     "data": {
      "text/markdown": [
       ">Let me first refer Members to my ******register******ed ******interest******s before I make some points about my constituency"
      ],
      "text/plain": [
       "<IPython.core.display.Markdown object>"
      ]
     },
     "metadata": {},
     "output_type": "display_data"
    },
    {
     "name": "stdout",
     "output_type": "stream",
     "text": [
      "Steve-Reed-\\(25170\\)\n"
     ]
    },
    {
     "data": {
      "text/markdown": [
       "## Steve Reed (25170)"
      ],
      "text/plain": [
       "<IPython.core.display.Markdown object>"
      ]
     },
     "metadata": {},
     "output_type": "display_data"
    },
    {
     "data": {
      "text/markdown": [
       "[🔗](#Steve-Reed-\\(25170\\))"
      ],
      "text/plain": [
       "<IPython.core.display.Markdown object>"
      ]
     },
     "metadata": {},
     "output_type": "display_data"
    },
    {
     "data": {
      "text/markdown": [
       "[Debate link](https://www.theyworkforyou.com/debates/?id=2024-09-12b.942.10) | [Register link](https://www.theyworkforyou.com/mp/25170/register)"
      ],
      "text/plain": [
       "<IPython.core.display.Markdown object>"
      ]
     },
     "metadata": {},
     "output_type": "display_data"
    },
    {
     "data": {
      "text/markdown": [
       "match score: 0.75"
      ],
      "text/plain": [
       "<IPython.core.display.Markdown object>"
      ]
     },
     "metadata": {},
     "output_type": "display_data"
    },
    {
     "data": {
      "text/markdown": [
       ">I share the right hon Member’s ******interest****** in the need for effective regulation"
      ],
      "text/plain": [
       "<IPython.core.display.Markdown object>"
      ]
     },
     "metadata": {},
     "output_type": "display_data"
    },
    {
     "name": "stdout",
     "output_type": "stream",
     "text": [
      "Paul-Holmes-\\(25808\\)\n"
     ]
    },
    {
     "data": {
      "text/markdown": [
       "## Paul Holmes (25808)"
      ],
      "text/plain": [
       "<IPython.core.display.Markdown object>"
      ]
     },
     "metadata": {},
     "output_type": "display_data"
    },
    {
     "data": {
      "text/markdown": [
       "[🔗](#Paul-Holmes-\\(25808\\))"
      ],
      "text/plain": [
       "<IPython.core.display.Markdown object>"
      ]
     },
     "metadata": {},
     "output_type": "display_data"
    },
    {
     "data": {
      "text/markdown": [
       "[Debate link](https://www.theyworkforyou.com/debates/?id=2024-09-12b.1026.2) | [Register link](https://www.theyworkforyou.com/mp/25808/register)"
      ],
      "text/plain": [
       "<IPython.core.display.Markdown object>"
      ]
     },
     "metadata": {},
     "output_type": "display_data"
    },
    {
     "data": {
      "text/markdown": [
       "match score: 0.71"
      ],
      "text/plain": [
       "<IPython.core.display.Markdown object>"
      ]
     },
     "metadata": {},
     "output_type": "display_data"
    },
    {
     "data": {
      "text/markdown": [
       ">I ******declare****** an ******interest******, because I know the hon Lady very well indeed"
      ],
      "text/plain": [
       "<IPython.core.display.Markdown object>"
      ]
     },
     "metadata": {},
     "output_type": "display_data"
    },
    {
     "name": "stdout",
     "output_type": "stream",
     "text": [
      "Julie-Minns-\\(26403\\)\n"
     ]
    },
    {
     "data": {
      "text/markdown": [
       "## Julie Minns (26403)"
      ],
      "text/plain": [
       "<IPython.core.display.Markdown object>"
      ]
     },
     "metadata": {},
     "output_type": "display_data"
    },
    {
     "data": {
      "text/markdown": [
       "[🔗](#Julie-Minns-\\(26403\\))"
      ],
      "text/plain": [
       "<IPython.core.display.Markdown object>"
      ]
     },
     "metadata": {},
     "output_type": "display_data"
    },
    {
     "data": {
      "text/markdown": [
       "[Debate link](https://www.theyworkforyou.com/debates/?id=2024-09-12b.1001.2) | [Register link](https://www.theyworkforyou.com/mp/26403/register)"
      ],
      "text/plain": [
       "<IPython.core.display.Markdown object>"
      ]
     },
     "metadata": {},
     "output_type": "display_data"
    },
    {
     "data": {
      "text/markdown": [
       "match score: 0.69"
      ],
      "text/plain": [
       "<IPython.core.display.Markdown object>"
      ]
     },
     "metadata": {},
     "output_type": "display_data"
    },
    {
     "data": {
      "text/markdown": [
       ">I ******declare****** an ******interest****** as the mother of an NHS nurse"
      ],
      "text/plain": [
       "<IPython.core.display.Markdown object>"
      ]
     },
     "metadata": {},
     "output_type": "display_data"
    },
    {
     "name": "stdout",
     "output_type": "stream",
     "text": [
      "Alex-Norris-\\(25687\\)\n"
     ]
    },
    {
     "data": {
      "text/markdown": [
       "## Alex Norris (25687)"
      ],
      "text/plain": [
       "<IPython.core.display.Markdown object>"
      ]
     },
     "metadata": {},
     "output_type": "display_data"
    },
    {
     "data": {
      "text/markdown": [
       "[🔗](#Alex-Norris-\\(25687\\))"
      ],
      "text/plain": [
       "<IPython.core.display.Markdown object>"
      ]
     },
     "metadata": {},
     "output_type": "display_data"
    },
    {
     "data": {
      "text/markdown": [
       "[Debate link](https://www.theyworkforyou.com/debates/?id=2024-09-12b.1077.2) | [Register link](https://www.theyworkforyou.com/mp/25687/register)"
      ],
      "text/plain": [
       "<IPython.core.display.Markdown object>"
      ]
     },
     "metadata": {},
     "output_type": "display_data"
    },
    {
     "data": {
      "text/markdown": [
       "match score: 0.69"
      ],
      "text/plain": [
       "<IPython.core.display.Markdown object>"
      ]
     },
     "metadata": {},
     "output_type": "display_data"
    },
    {
     "data": {
      "text/markdown": [
       ">So I understand very strongly why there is such ******interest****** in the fund"
      ],
      "text/plain": [
       "<IPython.core.display.Markdown object>"
      ]
     },
     "metadata": {},
     "output_type": "display_data"
    },
    {
     "name": "stdout",
     "output_type": "stream",
     "text": [
      "Lucy-Powell-\\(25165\\)\n"
     ]
    },
    {
     "data": {
      "text/markdown": [
       "## Lucy Powell (25165)"
      ],
      "text/plain": [
       "<IPython.core.display.Markdown object>"
      ]
     },
     "metadata": {},
     "output_type": "display_data"
    },
    {
     "data": {
      "text/markdown": [
       "[🔗](#Lucy-Powell-\\(25165\\))"
      ],
      "text/plain": [
       "<IPython.core.display.Markdown object>"
      ]
     },
     "metadata": {},
     "output_type": "display_data"
    },
    {
     "data": {
      "text/markdown": [
       "[Debate link](https://www.theyworkforyou.com/debates/?id=2024-09-12b.979.3) | [Register link](https://www.theyworkforyou.com/mp/25165/register)"
      ],
      "text/plain": [
       "<IPython.core.display.Markdown object>"
      ]
     },
     "metadata": {},
     "output_type": "display_data"
    },
    {
     "data": {
      "text/markdown": [
       "match score: 0.68"
      ],
      "text/plain": [
       "<IPython.core.display.Markdown object>"
      ]
     },
     "metadata": {},
     "output_type": "display_data"
    },
    {
     "data": {
      "text/markdown": [
       ">I know that this issue creates a lot of ******interest******, should my hon Friend wish to apply for a debate on parking charges"
      ],
      "text/plain": [
       "<IPython.core.display.Markdown object>"
      ]
     },
     "metadata": {},
     "output_type": "display_data"
    },
    {
     "name": "stdout",
     "output_type": "stream",
     "text": [
      "Bob-Blackman-\\(24945\\)\n"
     ]
    },
    {
     "data": {
      "text/markdown": [
       "## Bob Blackman (24945)"
      ],
      "text/plain": [
       "<IPython.core.display.Markdown object>"
      ]
     },
     "metadata": {},
     "output_type": "display_data"
    },
    {
     "data": {
      "text/markdown": [
       "[🔗](#Bob-Blackman-\\(24945\\))"
      ],
      "text/plain": [
       "<IPython.core.display.Markdown object>"
      ]
     },
     "metadata": {},
     "output_type": "display_data"
    },
    {
     "data": {
      "text/markdown": [
       "[Debate link](https://www.theyworkforyou.com/debates/?id=2024-09-12b.1015.1) | [Register link](https://www.theyworkforyou.com/mp/24945/register)"
      ],
      "text/plain": [
       "<IPython.core.display.Markdown object>"
      ]
     },
     "metadata": {},
     "output_type": "display_data"
    },
    {
     "data": {
      "text/markdown": [
       "match score: 0.67"
      ],
      "text/plain": [
       "<IPython.core.display.Markdown object>"
      ]
     },
     "metadata": {},
     "output_type": "display_data"
    },
    {
     "data": {
      "text/markdown": [
       ">I congratulate the new hon. Member for Bexleyheath and Crayford (Daniel Francis) on his maiden speech. It is clear that he will contribute to the work of this House in an incredible fashion. May I also pay tribute to my right hon. Friend the Member for Rayleigh and Wickford (Mr Francois) for opening this debate? I thank the Leader of the House for responding to my request at business questions last week to properly entitle this debate the Sir David Amess Adjournment debate. I persuaded Sir David to join the Backbench Business Committee purely by undertaking that we would always ensure a pre-recess Adjournment debate, to which he could contribute. His self-******interest****** was clear even then."
      ],
      "text/plain": [
       "<IPython.core.display.Markdown object>"
      ]
     },
     "metadata": {},
     "output_type": "display_data"
    },
    {
     "name": "stdout",
     "output_type": "stream",
     "text": [
      "Jeremy-Wright-\\(11791\\)\n"
     ]
    },
    {
     "data": {
      "text/markdown": [
       "## Jeremy Wright (11791)"
      ],
      "text/plain": [
       "<IPython.core.display.Markdown object>"
      ]
     },
     "metadata": {},
     "output_type": "display_data"
    },
    {
     "data": {
      "text/markdown": [
       "[🔗](#Jeremy-Wright-\\(11791\\))"
      ],
      "text/plain": [
       "<IPython.core.display.Markdown object>"
      ]
     },
     "metadata": {},
     "output_type": "display_data"
    },
    {
     "data": {
      "text/markdown": [
       "[Debate link](https://www.theyworkforyou.com/debates/?id=2024-09-12b.956.6) | [Register link](https://www.theyworkforyou.com/mp/11791/register)"
      ],
      "text/plain": [
       "<IPython.core.display.Markdown object>"
      ]
     },
     "metadata": {},
     "output_type": "display_data"
    },
    {
     "data": {
      "text/markdown": [
       "match score: 0.67"
      ],
      "text/plain": [
       "<IPython.core.display.Markdown object>"
      ]
     },
     "metadata": {},
     "output_type": "display_data"
    },
    {
     "data": {
      "text/markdown": [
       ">May I first warmly welcome the Solicitor General to her place, and the Attorney General to his place in the other place, in what the Solicitor General will already know is one of the most ******interest******ing and challenging parts of government? While I am at it, I should of course also welcome the hon Member for Hammersmith and Chiswick (Andy Slaughter) as the new Chair of the Justice Committee"
      ],
      "text/plain": [
       "<IPython.core.display.Markdown object>"
      ]
     },
     "metadata": {},
     "output_type": "display_data"
    },
    {
     "name": "stdout",
     "output_type": "stream",
     "text": [
      "David-Simmonds-\\(25892\\)\n"
     ]
    },
    {
     "data": {
      "text/markdown": [
       "## David Simmonds (25892)"
      ],
      "text/plain": [
       "<IPython.core.display.Markdown object>"
      ]
     },
     "metadata": {},
     "output_type": "display_data"
    },
    {
     "data": {
      "text/markdown": [
       "[🔗](#David-Simmonds-\\(25892\\))"
      ],
      "text/plain": [
       "<IPython.core.display.Markdown object>"
      ]
     },
     "metadata": {},
     "output_type": "display_data"
    },
    {
     "data": {
      "text/markdown": [
       "[Debate link](https://www.theyworkforyou.com/debates/?id=2024-09-12b.997.5) | [Register link](https://www.theyworkforyou.com/mp/25892/register)"
      ],
      "text/plain": [
       "<IPython.core.display.Markdown object>"
      ]
     },
     "metadata": {},
     "output_type": "display_data"
    },
    {
     "data": {
      "text/markdown": [
       "match score: 0.66"
      ],
      "text/plain": [
       "<IPython.core.display.Markdown object>"
      ]
     },
     "metadata": {},
     "output_type": "display_data"
    },
    {
     "data": {
      "text/markdown": [
       ">I ******declare****** my ******interest****** as the husband of an NHS doctor; I also served as a non-executive director of my local NHS trust"
      ],
      "text/plain": [
       "<IPython.core.display.Markdown object>"
      ]
     },
     "metadata": {},
     "output_type": "display_data"
    },
    {
     "name": "stdout",
     "output_type": "stream",
     "text": [
      "Tessa-Munt-\\(24942\\)\n"
     ]
    },
    {
     "data": {
      "text/markdown": [
       "## Tessa Munt (24942)"
      ],
      "text/plain": [
       "<IPython.core.display.Markdown object>"
      ]
     },
     "metadata": {},
     "output_type": "display_data"
    },
    {
     "data": {
      "text/markdown": [
       "[🔗](#Tessa-Munt-\\(24942\\))"
      ],
      "text/plain": [
       "<IPython.core.display.Markdown object>"
      ]
     },
     "metadata": {},
     "output_type": "display_data"
    },
    {
     "data": {
      "text/markdown": [
       "[Debate link](https://www.theyworkforyou.com/debates/?id=2024-09-12b.974.5) | [Register link](https://www.theyworkforyou.com/mp/24942/register)"
      ],
      "text/plain": [
       "<IPython.core.display.Markdown object>"
      ]
     },
     "metadata": {},
     "output_type": "display_data"
    },
    {
     "data": {
      "text/markdown": [
       "match score: 0.66"
      ],
      "text/plain": [
       "<IPython.core.display.Markdown object>"
      ]
     },
     "metadata": {},
     "output_type": "display_data"
    },
    {
     "data": {
      "text/markdown": [
       ">The Economic Crime and Corporate Transparency Act 2023 introduced the requirement that directors and other individuals verify their identity before being listed at Companies House. I have found company directors whose ******register******ed addresses simply do not exist, which at the least means that papers cannot be served, and at the  worst enables fraud and other crime. May we have a debate on the progress of two things: the secondary legislation that needs to be passed for those basic checks to take place; and an update on how Companies House’s systems are progressing to allow directors’ identities to be checked?"
      ],
      "text/plain": [
       "<IPython.core.display.Markdown object>"
      ]
     },
     "metadata": {},
     "output_type": "display_data"
    },
    {
     "name": "stdout",
     "output_type": "stream",
     "text": [
      "Phil-Brickell-\\(26368\\)\n"
     ]
    },
    {
     "data": {
      "text/markdown": [
       "## Phil Brickell (26368)"
      ],
      "text/plain": [
       "<IPython.core.display.Markdown object>"
      ]
     },
     "metadata": {},
     "output_type": "display_data"
    },
    {
     "data": {
      "text/markdown": [
       "[🔗](#Phil-Brickell-\\(26368\\))"
      ],
      "text/plain": [
       "<IPython.core.display.Markdown object>"
      ]
     },
     "metadata": {},
     "output_type": "display_data"
    },
    {
     "data": {
      "text/markdown": [
       "[Debate link](https://www.theyworkforyou.com/debates/?id=2024-09-12b.1032.1) | [Register link](https://www.theyworkforyou.com/mp/26368/register)"
      ],
      "text/plain": [
       "<IPython.core.display.Markdown object>"
      ]
     },
     "metadata": {},
     "output_type": "display_data"
    },
    {
     "data": {
      "text/markdown": [
       "match score: 0.66"
      ],
      "text/plain": [
       "<IPython.core.display.Markdown object>"
      ]
     },
     "metadata": {},
     "output_type": "display_data"
    },
    {
     "data": {
      "text/markdown": [
       ">I know that Mr Speaker and I have a shared ******interest****** in following the ups and downs of Bolton Wanderers football club, who play their matches at the Toughsheet community stadium and provide vital support in the community for my constituents"
      ],
      "text/plain": [
       "<IPython.core.display.Markdown object>"
      ]
     },
     "metadata": {},
     "output_type": "display_data"
    },
    {
     "data": {
      "text/markdown": [
       "# 2024-09-11"
      ],
      "text/plain": [
       "<IPython.core.display.Markdown object>"
      ]
     },
     "metadata": {},
     "output_type": "display_data"
    },
    {
     "name": "stdout",
     "output_type": "stream",
     "text": [
      "Priti-Patel-\\(24778\\)\n"
     ]
    },
    {
     "data": {
      "text/markdown": [
       "## Priti Patel (24778)"
      ],
      "text/plain": [
       "<IPython.core.display.Markdown object>"
      ]
     },
     "metadata": {},
     "output_type": "display_data"
    },
    {
     "data": {
      "text/markdown": [
       "[🔗](#Priti-Patel-\\(24778\\))"
      ],
      "text/plain": [
       "<IPython.core.display.Markdown object>"
      ]
     },
     "metadata": {},
     "output_type": "display_data"
    },
    {
     "data": {
      "text/markdown": [
       "[Debate link](https://www.theyworkforyou.com/debates/?id=2024-09-11b.834.0) | [Register link](https://www.theyworkforyou.com/mp/24778/register)"
      ],
      "text/plain": [
       "<IPython.core.display.Markdown object>"
      ]
     },
     "metadata": {},
     "output_type": "display_data"
    },
    {
     "data": {
      "text/markdown": [
       "match score: 0.68"
      ],
      "text/plain": [
       "<IPython.core.display.Markdown object>"
      ]
     },
     "metadata": {},
     "output_type": "display_data"
    },
    {
     "data": {
      "text/markdown": [
       ">I listened to the statement from the Secretary of State with ******interest******"
      ],
      "text/plain": [
       "<IPython.core.display.Markdown object>"
      ]
     },
     "metadata": {},
     "output_type": "display_data"
    },
    {
     "name": "stdout",
     "output_type": "stream",
     "text": [
      "Alex-Norris-\\(25687\\)\n"
     ]
    },
    {
     "data": {
      "text/markdown": [
       "## Alex Norris (25687)"
      ],
      "text/plain": [
       "<IPython.core.display.Markdown object>"
      ]
     },
     "metadata": {},
     "output_type": "display_data"
    },
    {
     "data": {
      "text/markdown": [
       "[🔗](#Alex-Norris-\\(25687\\))"
      ],
      "text/plain": [
       "<IPython.core.display.Markdown object>"
      ]
     },
     "metadata": {},
     "output_type": "display_data"
    },
    {
     "data": {
      "text/markdown": [
       "[Debate link](https://www.theyworkforyou.com/debates/?id=2024-09-11b.927.3) | [Register link](https://www.theyworkforyou.com/mp/25687/register)"
      ],
      "text/plain": [
       "<IPython.core.display.Markdown object>"
      ]
     },
     "metadata": {},
     "output_type": "display_data"
    },
    {
     "data": {
      "text/markdown": [
       "match score: 0.67"
      ],
      "text/plain": [
       "<IPython.core.display.Markdown object>"
      ]
     },
     "metadata": {},
     "output_type": "display_data"
    },
    {
     "data": {
      "text/markdown": [
       ">I am grateful for that kind offer. Of course I will readily accept a visit to Burnley—perhaps through the lens of my role as the local growth and towns Minister. We could have a very ******interest******ing visit and I would be glad to do it."
      ],
      "text/plain": [
       "<IPython.core.display.Markdown object>"
      ]
     },
     "metadata": {},
     "output_type": "display_data"
    },
    {
     "name": "stdout",
     "output_type": "stream",
     "text": [
      "Jonathan-Reynolds-\\(24929\\)\n"
     ]
    },
    {
     "data": {
      "text/markdown": [
       "## Jonathan Reynolds (24929)"
      ],
      "text/plain": [
       "<IPython.core.display.Markdown object>"
      ]
     },
     "metadata": {},
     "output_type": "display_data"
    },
    {
     "data": {
      "text/markdown": [
       "[🔗](#Jonathan-Reynolds-\\(24929\\))"
      ],
      "text/plain": [
       "<IPython.core.display.Markdown object>"
      ]
     },
     "metadata": {},
     "output_type": "display_data"
    },
    {
     "data": {
      "text/markdown": [
       "[Debate link](https://www.theyworkforyou.com/debates/?id=2024-09-11b.831.0) | [Register link](https://www.theyworkforyou.com/mp/24929/register)"
      ],
      "text/plain": [
       "<IPython.core.display.Markdown object>"
      ]
     },
     "metadata": {},
     "output_type": "display_data"
    },
    {
     "data": {
      "text/markdown": [
       "match score: 0.66"
      ],
      "text/plain": [
       "<IPython.core.display.Markdown object>"
      ]
     },
     "metadata": {},
     "output_type": "display_data"
    },
    {
     "data": {
      "text/markdown": [
       ">I have been a Member of Parliament for 14 years, in which I have seen some ******interest******ing political events, but I do not think I have ever heard a contribution with such brass neck. That is quite something, because there is quite a menu to choose from."
      ],
      "text/plain": [
       "<IPython.core.display.Markdown object>"
      ]
     },
     "metadata": {},
     "output_type": "display_data"
    },
    {
     "name": "stdout",
     "output_type": "stream",
     "text": [
      "Sarah-Gibson-\\(26585\\)\n"
     ]
    },
    {
     "data": {
      "text/markdown": [
       "## Sarah Gibson (26585)"
      ],
      "text/plain": [
       "<IPython.core.display.Markdown object>"
      ]
     },
     "metadata": {},
     "output_type": "display_data"
    },
    {
     "data": {
      "text/markdown": [
       "[🔗](#Sarah-Gibson-\\(26585\\))"
      ],
      "text/plain": [
       "<IPython.core.display.Markdown object>"
      ]
     },
     "metadata": {},
     "output_type": "display_data"
    },
    {
     "data": {
      "text/markdown": [
       "[Debate link](https://www.theyworkforyou.com/debates/?id=2024-09-11b.880.1) | [Register link](https://www.theyworkforyou.com/mp/26585/register)"
      ],
      "text/plain": [
       "<IPython.core.display.Markdown object>"
      ]
     },
     "metadata": {},
     "output_type": "display_data"
    },
    {
     "data": {
      "text/markdown": [
       "match score: 0.65"
      ],
      "text/plain": [
       "<IPython.core.display.Markdown object>"
      ]
     },
     "metadata": {},
     "output_type": "display_data"
    },
    {
     "data": {
      "text/markdown": [
       ">I was lucky enough to be born into a family that cared deeply about my education. With their support, and a grant from Wiltshire council, I was able to study architecture at Kingston and at University College London before ******register******ing as an architect in Spain. Some years later, I returned home to Wiltshire and became a town and unitary authority councillor. It is from that perspective of positive experience in local government that I felt I could do more to promote the ******interest******s of my community here in Westminster, and I am honoured that they thought so too."
      ],
      "text/plain": [
       "<IPython.core.display.Markdown object>"
      ]
     },
     "metadata": {},
     "output_type": "display_data"
    },
    {
     "data": {
      "text/markdown": [
       "# 2024-09-10"
      ],
      "text/plain": [
       "<IPython.core.display.Markdown object>"
      ]
     },
     "metadata": {},
     "output_type": "display_data"
    },
    {
     "name": "stdout",
     "output_type": "stream",
     "text": [
      "Dan-Carden-\\(25642\\)\n"
     ]
    },
    {
     "data": {
      "text/markdown": [
       "## Dan Carden (25642)"
      ],
      "text/plain": [
       "<IPython.core.display.Markdown object>"
      ]
     },
     "metadata": {},
     "output_type": "display_data"
    },
    {
     "data": {
      "text/markdown": [
       "[🔗](#Dan-Carden-\\(25642\\))"
      ],
      "text/plain": [
       "<IPython.core.display.Markdown object>"
      ]
     },
     "metadata": {},
     "output_type": "display_data"
    },
    {
     "data": {
      "text/markdown": [
       "[Debate link](https://www.theyworkforyou.com/debates/?id=2024-09-10a.675.7) | [Register link](https://www.theyworkforyou.com/mp/25642/register)"
      ],
      "text/plain": [
       "<IPython.core.display.Markdown object>"
      ]
     },
     "metadata": {},
     "output_type": "display_data"
    },
    {
     "data": {
      "text/markdown": [
       "match score: 0.88"
      ],
      "text/plain": [
       "<IPython.core.display.Markdown object>"
      ]
     },
     "metadata": {},
     "output_type": "display_data"
    },
    {
     "data": {
      "text/markdown": [
       ">I refer hon Members to my entry in the ******Register****** of Members’ Financial ******Interest******s"
      ],
      "text/plain": [
       "<IPython.core.display.Markdown object>"
      ]
     },
     "metadata": {},
     "output_type": "display_data"
    },
    {
     "name": "stdout",
     "output_type": "stream",
     "text": [
      "Caroline-Nokes-\\(24809\\)\n"
     ]
    },
    {
     "data": {
      "text/markdown": [
       "## Caroline Nokes (24809)"
      ],
      "text/plain": [
       "<IPython.core.display.Markdown object>"
      ]
     },
     "metadata": {},
     "output_type": "display_data"
    },
    {
     "data": {
      "text/markdown": [
       "[🔗](#Caroline-Nokes-\\(24809\\))"
      ],
      "text/plain": [
       "<IPython.core.display.Markdown object>"
      ]
     },
     "metadata": {},
     "output_type": "display_data"
    },
    {
     "data": {
      "text/markdown": [
       "[Debate link](https://www.theyworkforyou.com/debates/?id=2024-09-10a.766.3) | [Register link](https://www.theyworkforyou.com/mp/24809/register)"
      ],
      "text/plain": [
       "<IPython.core.display.Markdown object>"
      ]
     },
     "metadata": {},
     "output_type": "display_data"
    },
    {
     "data": {
      "text/markdown": [
       "match score: 0.79"
      ],
      "text/plain": [
       "<IPython.core.display.Markdown object>"
      ]
     },
     "metadata": {},
     "output_type": "display_data"
    },
    {
     "data": {
      "text/markdown": [
       ">As the hon Member will know, it is for individual Members to ******declare****** their ******interest******s, if one is applicable"
      ],
      "text/plain": [
       "<IPython.core.display.Markdown object>"
      ]
     },
     "metadata": {},
     "output_type": "display_data"
    },
    {
     "name": "stdout",
     "output_type": "stream",
     "text": [
      "Nick-Timothy-\\(26335\\)\n"
     ]
    },
    {
     "data": {
      "text/markdown": [
       "## Nick Timothy (26335)"
      ],
      "text/plain": [
       "<IPython.core.display.Markdown object>"
      ]
     },
     "metadata": {},
     "output_type": "display_data"
    },
    {
     "data": {
      "text/markdown": [
       "[🔗](#Nick-Timothy-\\(26335\\))"
      ],
      "text/plain": [
       "<IPython.core.display.Markdown object>"
      ]
     },
     "metadata": {},
     "output_type": "display_data"
    },
    {
     "data": {
      "text/markdown": [
       "[Debate link](https://www.theyworkforyou.com/debates/?id=2024-09-10a.766.2) | [Register link](https://www.theyworkforyou.com/mp/26335/register)"
      ],
      "text/plain": [
       "<IPython.core.display.Markdown object>"
      ]
     },
     "metadata": {},
     "output_type": "display_data"
    },
    {
     "data": {
      "text/markdown": [
       "match score: 0.72"
      ],
      "text/plain": [
       "<IPython.core.display.Markdown object>"
      ]
     },
     "metadata": {},
     "output_type": "display_data"
    },
    {
     "data": {
      "text/markdown": [
       ">Before other Members give speeches about issues such as public sector pay, would it not be in order for them to ******declare****** that ******interest****** at the beginning of their speeches?"
      ],
      "text/plain": [
       "<IPython.core.display.Markdown object>"
      ]
     },
     "metadata": {},
     "output_type": "display_data"
    },
    {
     "name": "stdout",
     "output_type": "stream",
     "text": [
      "Meg-Hillier-\\(11605\\)\n"
     ]
    },
    {
     "data": {
      "text/markdown": [
       "## Meg Hillier (11605)"
      ],
      "text/plain": [
       "<IPython.core.display.Markdown object>"
      ]
     },
     "metadata": {},
     "output_type": "display_data"
    },
    {
     "data": {
      "text/markdown": [
       "[🔗](#Meg-Hillier-\\(11605\\))"
      ],
      "text/plain": [
       "<IPython.core.display.Markdown object>"
      ]
     },
     "metadata": {},
     "output_type": "display_data"
    },
    {
     "data": {
      "text/markdown": [
       "[Debate link](https://www.theyworkforyou.com/debates/?id=2024-09-10a.715.2) | [Register link](https://www.theyworkforyou.com/mp/11605/register)"
      ],
      "text/plain": [
       "<IPython.core.display.Markdown object>"
      ]
     },
     "metadata": {},
     "output_type": "display_data"
    },
    {
     "data": {
      "text/markdown": [
       "match score: 0.72"
      ],
      "text/plain": [
       "<IPython.core.display.Markdown object>"
      ]
     },
     "metadata": {},
     "output_type": "display_data"
    },
    {
     "data": {
      "text/markdown": [
       ">Before I start, I want to thank the House for putting its confidence in me to chair the Treasury Committee for the term of this Parliament. I am the servant of this House, and I will question without fear or favour those who appear before us. I look forward to engaging with the new Members I have yet to get to know. I also ******declare****** an ******interest******: my husband has been in receipt of the winter fuel allowance, but if the vote changes that today, he will no longer receive it. For his own vanity, I should add that it is the lower limit."
      ],
      "text/plain": [
       "<IPython.core.display.Markdown object>"
      ]
     },
     "metadata": {},
     "output_type": "display_data"
    },
    {
     "name": "stdout",
     "output_type": "stream",
     "text": [
      "Joy-Morrissey-\\(25878\\)\n"
     ]
    },
    {
     "data": {
      "text/markdown": [
       "## Joy Morrissey (25878)"
      ],
      "text/plain": [
       "<IPython.core.display.Markdown object>"
      ]
     },
     "metadata": {},
     "output_type": "display_data"
    },
    {
     "data": {
      "text/markdown": [
       "[🔗](#Joy-Morrissey-\\(25878\\))"
      ],
      "text/plain": [
       "<IPython.core.display.Markdown object>"
      ]
     },
     "metadata": {},
     "output_type": "display_data"
    },
    {
     "data": {
      "text/markdown": [
       "[Debate link](https://www.theyworkforyou.com/debates/?id=2024-09-10a.780.1) | [Register link](https://www.theyworkforyou.com/mp/25878/register)"
      ],
      "text/plain": [
       "<IPython.core.display.Markdown object>"
      ]
     },
     "metadata": {},
     "output_type": "display_data"
    },
    {
     "data": {
      "text/markdown": [
       "match score: 0.71"
      ],
      "text/plain": [
       "<IPython.core.display.Markdown object>"
      ]
     },
     "metadata": {},
     "output_type": "display_data"
    },
    {
     "data": {
      "text/markdown": [
       ">I ******declare****** an ******interest******: I am a member of Care Campaign for the Vulnerable, which helps elderly residents who have medical issues or are in care"
      ],
      "text/plain": [
       "<IPython.core.display.Markdown object>"
      ]
     },
     "metadata": {},
     "output_type": "display_data"
    },
    {
     "name": "stdout",
     "output_type": "stream",
     "text": [
      "Graham-Stuart-\\(11406\\)\n"
     ]
    },
    {
     "data": {
      "text/markdown": [
       "## Graham Stuart (11406)"
      ],
      "text/plain": [
       "<IPython.core.display.Markdown object>"
      ]
     },
     "metadata": {},
     "output_type": "display_data"
    },
    {
     "data": {
      "text/markdown": [
       "[🔗](#Graham-Stuart-\\(11406\\))"
      ],
      "text/plain": [
       "<IPython.core.display.Markdown object>"
      ]
     },
     "metadata": {},
     "output_type": "display_data"
    },
    {
     "data": {
      "text/markdown": [
       "[Debate link](https://www.theyworkforyou.com/debates/?id=2024-09-10a.792.2) | [Register link](https://www.theyworkforyou.com/mp/11406/register)"
      ],
      "text/plain": [
       "<IPython.core.display.Markdown object>"
      ]
     },
     "metadata": {},
     "output_type": "display_data"
    },
    {
     "data": {
      "text/markdown": [
       "match score: 0.69"
      ],
      "text/plain": [
       "<IPython.core.display.Markdown object>"
      ]
     },
     "metadata": {},
     "output_type": "display_data"
    },
    {
     "data": {
      "text/markdown": [
       ">Yes, Madam Deputy Speaker. I just want some guidance from you on whether it can be appropriate for Ministers and others on the Government Benches who have been directly funded by the trade unions not to ******declare****** that personal benefit before doing something like this, which is hurting millions of pensioners."
      ],
      "text/plain": [
       "<IPython.core.display.Markdown object>"
      ]
     },
     "metadata": {},
     "output_type": "display_data"
    },
    {
     "name": "stdout",
     "output_type": "stream",
     "text": [
      "Edward-Leigh-\\(10352\\)\n"
     ]
    },
    {
     "data": {
      "text/markdown": [
       "## Edward Leigh (10352)"
      ],
      "text/plain": [
       "<IPython.core.display.Markdown object>"
      ]
     },
     "metadata": {},
     "output_type": "display_data"
    },
    {
     "data": {
      "text/markdown": [
       "[🔗](#Edward-Leigh-\\(10352\\))"
      ],
      "text/plain": [
       "<IPython.core.display.Markdown object>"
      ]
     },
     "metadata": {},
     "output_type": "display_data"
    },
    {
     "data": {
      "text/markdown": [
       "[Debate link](https://www.theyworkforyou.com/debates/?id=2024-09-10a.719.1) | [Register link](https://www.theyworkforyou.com/mp/10352/register)"
      ],
      "text/plain": [
       "<IPython.core.display.Markdown object>"
      ]
     },
     "metadata": {},
     "output_type": "display_data"
    },
    {
     "data": {
      "text/markdown": [
       "match score: 0.69"
      ],
      "text/plain": [
       "<IPython.core.display.Markdown object>"
      ]
     },
     "metadata": {},
     "output_type": "display_data"
    },
    {
     "data": {
      "text/markdown": [
       ">I know that some people will say, and here I ******declare****** an ******interest******: why should somebody like me receive the winter fuel allowance? All right, let us have a serious debate about that"
      ],
      "text/plain": [
       "<IPython.core.display.Markdown object>"
      ]
     },
     "metadata": {},
     "output_type": "display_data"
    },
    {
     "name": "stdout",
     "output_type": "stream",
     "text": [
      "John-Healey-\\(10268\\)\n"
     ]
    },
    {
     "data": {
      "text/markdown": [
       "## John Healey (10268)"
      ],
      "text/plain": [
       "<IPython.core.display.Markdown object>"
      ]
     },
     "metadata": {},
     "output_type": "display_data"
    },
    {
     "data": {
      "text/markdown": [
       "[🔗](#John-Healey-\\(10268\\))"
      ],
      "text/plain": [
       "<IPython.core.display.Markdown object>"
      ]
     },
     "metadata": {},
     "output_type": "display_data"
    },
    {
     "data": {
      "text/markdown": [
       "[Debate link](https://www.theyworkforyou.com/debates/?id=2024-09-10a.708.4) | [Register link](https://www.theyworkforyou.com/mp/10268/register)"
      ],
      "text/plain": [
       "<IPython.core.display.Markdown object>"
      ]
     },
     "metadata": {},
     "output_type": "display_data"
    },
    {
     "data": {
      "text/markdown": [
       "match score: 0.68"
      ],
      "text/plain": [
       "<IPython.core.display.Markdown object>"
      ]
     },
     "metadata": {},
     "output_type": "display_data"
    },
    {
     "data": {
      "text/markdown": [
       ">I grew up and went to school near RAF Fylingdales in North Yorkshire. Those big golf balls, when they were up, were a feature of the landscape for many years. I can say to the right hon. Gentleman that the strategic defence review, led externally but with the Department supporting it, has set out propositions that pose some of the questions he is ******interest******ed in. I can confirm that this defence review will welcome and invite contributions from all parties, including not just those on the Front Bench but those on the Back Benches who are well informed and play roles in the wider defence and security world. I invite him to consider the propositions the review has published and to consider the sort of submission he might make as part of its deliberations; if he can do that, we will certainly welcome him."
      ],
      "text/plain": [
       "<IPython.core.display.Markdown object>"
      ]
     },
     "metadata": {},
     "output_type": "display_data"
    },
    {
     "name": "stdout",
     "output_type": "stream",
     "text": [
      "Andy-MacNae-\\(26391\\)\n"
     ]
    },
    {
     "data": {
      "text/markdown": [
       "## Andy MacNae (26391)"
      ],
      "text/plain": [
       "<IPython.core.display.Markdown object>"
      ]
     },
     "metadata": {},
     "output_type": "display_data"
    },
    {
     "data": {
      "text/markdown": [
       "[🔗](#Andy-MacNae-\\(26391\\))"
      ],
      "text/plain": [
       "<IPython.core.display.Markdown object>"
      ]
     },
     "metadata": {},
     "output_type": "display_data"
    },
    {
     "data": {
      "text/markdown": [
       "[Debate link](https://www.theyworkforyou.com/debates/?id=2024-09-10a.726.0) | [Register link](https://www.theyworkforyou.com/mp/26391/register)"
      ],
      "text/plain": [
       "<IPython.core.display.Markdown object>"
      ]
     },
     "metadata": {},
     "output_type": "display_data"
    },
    {
     "data": {
      "text/markdown": [
       "match score: 0.66"
      ],
      "text/plain": [
       "<IPython.core.display.Markdown object>"
      ]
     },
     "metadata": {},
     "output_type": "display_data"
    },
    {
     "data": {
      "text/markdown": [
       ">In the ******interest******s of brevity, I associate myself with some of the remarks made by my colleagues on the Government Benches on the desperate financial legacy we have been left and the nature of cliff edges within the benefits system. We should do better than have cliff edges in the future."
      ],
      "text/plain": [
       "<IPython.core.display.Markdown object>"
      ]
     },
     "metadata": {},
     "output_type": "display_data"
    },
    {
     "name": "stdout",
     "output_type": "stream",
     "text": [
      "Gideon-Amos-\\(26531\\)\n"
     ]
    },
    {
     "data": {
      "text/markdown": [
       "## Gideon Amos (26531)"
      ],
      "text/plain": [
       "<IPython.core.display.Markdown object>"
      ]
     },
     "metadata": {},
     "output_type": "display_data"
    },
    {
     "data": {
      "text/markdown": [
       "[🔗](#Gideon-Amos-\\(26531\\))"
      ],
      "text/plain": [
       "<IPython.core.display.Markdown object>"
      ]
     },
     "metadata": {},
     "output_type": "display_data"
    },
    {
     "data": {
      "text/markdown": [
       "[Debate link](https://www.theyworkforyou.com/debates/?id=2024-09-10a.757.5) | [Register link](https://www.theyworkforyou.com/mp/26531/register)"
      ],
      "text/plain": [
       "<IPython.core.display.Markdown object>"
      ]
     },
     "metadata": {},
     "output_type": "display_data"
    },
    {
     "data": {
      "text/markdown": [
       "match score: 0.65"
      ],
      "text/plain": [
       "<IPython.core.display.Markdown object>"
      ]
     },
     "metadata": {},
     "output_type": "display_data"
    },
    {
     "data": {
      "text/markdown": [
       ">Does he agree that many of those who have written to us as Members of Parliament also sympathise with the principle that means-testing could and should come in at some point in the future? The manner in which this proposal is being brought in, before the 880,000 pensioners who are eligible for pension credit are ******register******ed for it, is the problem that particularly affects the 21,000 pensioners in Taunton and Wellington"
      ],
      "text/plain": [
       "<IPython.core.display.Markdown object>"
      ]
     },
     "metadata": {},
     "output_type": "display_data"
    },
    {
     "name": "stdout",
     "output_type": "stream",
     "text": [
      "Judith-Cummins-\\(25393\\)\n"
     ]
    },
    {
     "data": {
      "text/markdown": [
       "## Judith Cummins (25393)"
      ],
      "text/plain": [
       "<IPython.core.display.Markdown object>"
      ]
     },
     "metadata": {},
     "output_type": "display_data"
    },
    {
     "data": {
      "text/markdown": [
       "[🔗](#Judith-Cummins-\\(25393\\))"
      ],
      "text/plain": [
       "<IPython.core.display.Markdown object>"
      ]
     },
     "metadata": {},
     "output_type": "display_data"
    },
    {
     "data": {
      "text/markdown": [
       "[Debate link](https://www.theyworkforyou.com/debates/?id=2024-09-10a.724.1) | [Register link](https://www.theyworkforyou.com/mp/25393/register)"
      ],
      "text/plain": [
       "<IPython.core.display.Markdown object>"
      ]
     },
     "metadata": {},
     "output_type": "display_data"
    },
    {
     "data": {
      "text/markdown": [
       "match score: 0.65"
      ],
      "text/plain": [
       "<IPython.core.display.Markdown object>"
      ]
     },
     "metadata": {},
     "output_type": "display_data"
    },
    {
     "data": {
      "text/markdown": [
       ">Order. Members will have seen that there is a lot of ******interest****** in this debate, so I will impose a clear three-minute time limit from now on."
      ],
      "text/plain": [
       "<IPython.core.display.Markdown object>"
      ]
     },
     "metadata": {},
     "output_type": "display_data"
    },
    {
     "data": {
      "text/markdown": [
       "# 2024-09-09"
      ],
      "text/plain": [
       "<IPython.core.display.Markdown object>"
      ]
     },
     "metadata": {},
     "output_type": "display_data"
    },
    {
     "name": "stdout",
     "output_type": "stream",
     "text": [
      "Greg-Smith-\\(25925\\)\n"
     ]
    },
    {
     "data": {
      "text/markdown": [
       "## Greg Smith (25925)"
      ],
      "text/plain": [
       "<IPython.core.display.Markdown object>"
      ]
     },
     "metadata": {},
     "output_type": "display_data"
    },
    {
     "data": {
      "text/markdown": [
       "[🔗](#Greg-Smith-\\(25925\\))"
      ],
      "text/plain": [
       "<IPython.core.display.Markdown object>"
      ]
     },
     "metadata": {},
     "output_type": "display_data"
    },
    {
     "data": {
      "text/markdown": [
       "[Debate link](https://www.theyworkforyou.com/debates/?id=2024-09-09b.635.1) | [Register link](https://www.theyworkforyou.com/mp/25925/register)"
      ],
      "text/plain": [
       "<IPython.core.display.Markdown object>"
      ]
     },
     "metadata": {},
     "output_type": "display_data"
    },
    {
     "data": {
      "text/markdown": [
       "match score: 0.88"
      ],
      "text/plain": [
       "<IPython.core.display.Markdown object>"
      ]
     },
     "metadata": {},
     "output_type": "display_data"
    },
    {
     "data": {
      "text/markdown": [
       ">I draw the House’s attention to my entry in the ******Register****** of Members’ Financial ******Interest******s"
      ],
      "text/plain": [
       "<IPython.core.display.Markdown object>"
      ]
     },
     "metadata": {},
     "output_type": "display_data"
    },
    {
     "name": "stdout",
     "output_type": "stream",
     "text": [
      "Andrew-George-\\(10222\\)\n"
     ]
    },
    {
     "data": {
      "text/markdown": [
       "## Andrew George (10222)"
      ],
      "text/plain": [
       "<IPython.core.display.Markdown object>"
      ]
     },
     "metadata": {},
     "output_type": "display_data"
    },
    {
     "data": {
      "text/markdown": [
       "[🔗](#Andrew-George-\\(10222\\))"
      ],
      "text/plain": [
       "<IPython.core.display.Markdown object>"
      ]
     },
     "metadata": {},
     "output_type": "display_data"
    },
    {
     "data": {
      "text/markdown": [
       "[Debate link](https://www.theyworkforyou.com/debates/?id=2024-09-09b.663.2) | [Register link](https://www.theyworkforyou.com/mp/10222/register)"
      ],
      "text/plain": [
       "<IPython.core.display.Markdown object>"
      ]
     },
     "metadata": {},
     "output_type": "display_data"
    },
    {
     "data": {
      "text/markdown": [
       "match score: 0.82"
      ],
      "text/plain": [
       "<IPython.core.display.Markdown object>"
      ]
     },
     "metadata": {},
     "output_type": "display_data"
    },
    {
     "data": {
      "text/markdown": [
       ">I should also ******declare****** an ******interest******"
      ],
      "text/plain": [
       "<IPython.core.display.Markdown object>"
      ]
     },
     "metadata": {},
     "output_type": "display_data"
    },
    {
     "name": "stdout",
     "output_type": "stream",
     "text": [
      "Andrew-George-\\(10222\\)\n"
     ]
    },
    {
     "data": {
      "text/markdown": [
       "## Andrew George (10222)"
      ],
      "text/plain": [
       "<IPython.core.display.Markdown object>"
      ]
     },
     "metadata": {},
     "output_type": "display_data"
    },
    {
     "data": {
      "text/markdown": [
       "[🔗](#Andrew-George-\\(10222\\))"
      ],
      "text/plain": [
       "<IPython.core.display.Markdown object>"
      ]
     },
     "metadata": {},
     "output_type": "display_data"
    },
    {
     "data": {
      "text/markdown": [
       "[Debate link](https://www.theyworkforyou.com/debates/?id=2024-09-09b.664.0) | [Register link](https://www.theyworkforyou.com/mp/10222/register)"
      ],
      "text/plain": [
       "<IPython.core.display.Markdown object>"
      ]
     },
     "metadata": {},
     "output_type": "display_data"
    },
    {
     "data": {
      "text/markdown": [
       "match score: 0.79"
      ],
      "text/plain": [
       "<IPython.core.display.Markdown object>"
      ]
     },
     "metadata": {},
     "output_type": "display_data"
    },
    {
     "data": {
      "text/markdown": [
       ">Here I ******declare****** an ******interest******, as one who has been working in the sector"
      ],
      "text/plain": [
       "<IPython.core.display.Markdown object>"
      ]
     },
     "metadata": {},
     "output_type": "display_data"
    },
    {
     "name": "stdout",
     "output_type": "stream",
     "text": [
      "Claire-Young-\\(26458\\)\n"
     ]
    },
    {
     "data": {
      "text/markdown": [
       "## Claire Young (26458)"
      ],
      "text/plain": [
       "<IPython.core.display.Markdown object>"
      ]
     },
     "metadata": {},
     "output_type": "display_data"
    },
    {
     "data": {
      "text/markdown": [
       "[🔗](#Claire-Young-\\(26458\\))"
      ],
      "text/plain": [
       "<IPython.core.display.Markdown object>"
      ]
     },
     "metadata": {},
     "output_type": "display_data"
    },
    {
     "data": {
      "text/markdown": [
       "[Debate link](https://www.theyworkforyou.com/debates/?id=2024-09-09b.566.5) | [Register link](https://www.theyworkforyou.com/mp/26458/register)"
      ],
      "text/plain": [
       "<IPython.core.display.Markdown object>"
      ]
     },
     "metadata": {},
     "output_type": "display_data"
    },
    {
     "data": {
      "text/markdown": [
       "match score: 0.75"
      ],
      "text/plain": [
       "<IPython.core.display.Markdown object>"
      ]
     },
     "metadata": {},
     "output_type": "display_data"
    },
    {
     "data": {
      "text/markdown": [
       ">I draw the attention of the House to my entry in the ******Register****** of Members’ Financial ******Interest******s, as I am still a South Gloucestershire councillor"
      ],
      "text/plain": [
       "<IPython.core.display.Markdown object>"
      ]
     },
     "metadata": {},
     "output_type": "display_data"
    },
    {
     "name": "stdout",
     "output_type": "stream",
     "text": [
      "Perran-Moon-\\(26482\\)\n"
     ]
    },
    {
     "data": {
      "text/markdown": [
       "## Perran Moon (26482)"
      ],
      "text/plain": [
       "<IPython.core.display.Markdown object>"
      ]
     },
     "metadata": {},
     "output_type": "display_data"
    },
    {
     "data": {
      "text/markdown": [
       "[🔗](#Perran-Moon-\\(26482\\))"
      ],
      "text/plain": [
       "<IPython.core.display.Markdown object>"
      ]
     },
     "metadata": {},
     "output_type": "display_data"
    },
    {
     "data": {
      "text/markdown": [
       "[Debate link](https://www.theyworkforyou.com/debates/?id=2024-09-09b.568.2) | [Register link](https://www.theyworkforyou.com/mp/26482/register)"
      ],
      "text/plain": [
       "<IPython.core.display.Markdown object>"
      ]
     },
     "metadata": {},
     "output_type": "display_data"
    },
    {
     "data": {
      "text/markdown": [
       "match score: 0.72"
      ],
      "text/plain": [
       "<IPython.core.display.Markdown object>"
      ]
     },
     "metadata": {},
     "output_type": "display_data"
    },
    {
     "data": {
      "text/markdown": [
       ">I welcome the measures taken by this Government, but can the Minister update me on the next steps towards publication of the ******register******?"
      ],
      "text/plain": [
       "<IPython.core.display.Markdown object>"
      ]
     },
     "metadata": {},
     "output_type": "display_data"
    },
    {
     "name": "stdout",
     "output_type": "stream",
     "text": [
      "Gareth-Snell-\\(25601\\)\n"
     ]
    },
    {
     "data": {
      "text/markdown": [
       "## Gareth Snell (25601)"
      ],
      "text/plain": [
       "<IPython.core.display.Markdown object>"
      ]
     },
     "metadata": {},
     "output_type": "display_data"
    },
    {
     "data": {
      "text/markdown": [
       "[🔗](#Gareth-Snell-\\(25601\\))"
      ],
      "text/plain": [
       "<IPython.core.display.Markdown object>"
      ]
     },
     "metadata": {},
     "output_type": "display_data"
    },
    {
     "data": {
      "text/markdown": [
       "[Debate link](https://www.theyworkforyou.com/debates/?id=2024-09-09b.658.2) | [Register link](https://www.theyworkforyou.com/mp/25601/register)"
      ],
      "text/plain": [
       "<IPython.core.display.Markdown object>"
      ]
     },
     "metadata": {},
     "output_type": "display_data"
    },
    {
     "data": {
      "text/markdown": [
       "match score: 0.72"
      ],
      "text/plain": [
       "<IPython.core.display.Markdown object>"
      ]
     },
     "metadata": {},
     "output_type": "display_data"
    },
    {
     "data": {
      "text/markdown": [
       ">Although it is ******register******ed in the ******Register****** of Members’ Financial ******Interest******s that I am a governor of two colleges, I failed to draw the House’s attention to that fact before asking my question"
      ],
      "text/plain": [
       "<IPython.core.display.Markdown object>"
      ]
     },
     "metadata": {},
     "output_type": "display_data"
    },
    {
     "name": "stdout",
     "output_type": "stream",
     "text": [
      "Josh-Simons-\\(26328\\)\n"
     ]
    },
    {
     "data": {
      "text/markdown": [
       "## Josh Simons (26328)"
      ],
      "text/plain": [
       "<IPython.core.display.Markdown object>"
      ]
     },
     "metadata": {},
     "output_type": "display_data"
    },
    {
     "data": {
      "text/markdown": [
       "[🔗](#Josh-Simons-\\(26328\\))"
      ],
      "text/plain": [
       "<IPython.core.display.Markdown object>"
      ]
     },
     "metadata": {},
     "output_type": "display_data"
    },
    {
     "data": {
      "text/markdown": [
       "[Debate link](https://www.theyworkforyou.com/debates/?id=2024-09-09b.614.1) | [Register link](https://www.theyworkforyou.com/mp/26328/register)"
      ],
      "text/plain": [
       "<IPython.core.display.Markdown object>"
      ]
     },
     "metadata": {},
     "output_type": "display_data"
    },
    {
     "data": {
      "text/markdown": [
       "match score: 0.71"
      ],
      "text/plain": [
       "<IPython.core.display.Markdown object>"
      ]
     },
     "metadata": {},
     "output_type": "display_data"
    },
    {
     "data": {
      "text/markdown": [
       ">I look forward to working with colleagues across this House who share those ******interest******s"
      ],
      "text/plain": [
       "<IPython.core.display.Markdown object>"
      ]
     },
     "metadata": {},
     "output_type": "display_data"
    },
    {
     "name": "stdout",
     "output_type": "stream",
     "text": [
      "Jonathan-Reynolds-\\(24929\\)\n"
     ]
    },
    {
     "data": {
      "text/markdown": [
       "## Jonathan Reynolds (24929)"
      ],
      "text/plain": [
       "<IPython.core.display.Markdown object>"
      ]
     },
     "metadata": {},
     "output_type": "display_data"
    },
    {
     "data": {
      "text/markdown": [
       "[🔗](#Jonathan-Reynolds-\\(24929\\))"
      ],
      "text/plain": [
       "<IPython.core.display.Markdown object>"
      ]
     },
     "metadata": {},
     "output_type": "display_data"
    },
    {
     "data": {
      "text/markdown": [
       "[Debate link](https://www.theyworkforyou.com/debates/?id=2024-09-09b.591.1) | [Register link](https://www.theyworkforyou.com/mp/24929/register)"
      ],
      "text/plain": [
       "<IPython.core.display.Markdown object>"
      ]
     },
     "metadata": {},
     "output_type": "display_data"
    },
    {
     "data": {
      "text/markdown": [
       "match score: 0.7"
      ],
      "text/plain": [
       "<IPython.core.display.Markdown object>"
      ]
     },
     "metadata": {},
     "output_type": "display_data"
    },
    {
     "data": {
      "text/markdown": [
       ">I very much recognise the conversation that my hon. Friend has had with her constituent, and her need and desire to progress that claim. The issue is about ensuring that the records are accurate. Cross-referencing between Ministry of Justice databases and court documents is proceeding apace. If her constituent has not yet had a letter and needs to ******register****** their credentials, they can do so, but I assure my hon. Friend that this is of maximum priority."
      ],
      "text/plain": [
       "<IPython.core.display.Markdown object>"
      ]
     },
     "metadata": {},
     "output_type": "display_data"
    },
    {
     "name": "stdout",
     "output_type": "stream",
     "text": [
      "Wes-Streeting-\\(25320\\)\n"
     ]
    },
    {
     "data": {
      "text/markdown": [
       "## Wes Streeting (25320)"
      ],
      "text/plain": [
       "<IPython.core.display.Markdown object>"
      ]
     },
     "metadata": {},
     "output_type": "display_data"
    },
    {
     "data": {
      "text/markdown": [
       "[🔗](#Wes-Streeting-\\(25320\\))"
      ],
      "text/plain": [
       "<IPython.core.display.Markdown object>"
      ]
     },
     "metadata": {},
     "output_type": "display_data"
    },
    {
     "data": {
      "text/markdown": [
       "[Debate link](https://www.theyworkforyou.com/debates/?id=2024-09-09b.578.0) | [Register link](https://www.theyworkforyou.com/mp/25320/register)"
      ],
      "text/plain": [
       "<IPython.core.display.Markdown object>"
      ]
     },
     "metadata": {},
     "output_type": "display_data"
    },
    {
     "data": {
      "text/markdown": [
       "match score: 0.7"
      ],
      "text/plain": [
       "<IPython.core.display.Markdown object>"
      ]
     },
     "metadata": {},
     "output_type": "display_data"
    },
    {
     "data": {
      "text/markdown": [
       ">It is absolutely right that people appointed to roles in public life ******declare****** their conflicts of ******interest****** so that they can be assessed when taking decisions or exercising powers to ensure that they are doing so in a way that manages those conflicts of ******interest****** and no conflict arises. Alan Milburn does not, at this stage, have a role in the Department of Health and Social Care. Many people have come into the Department for meetings in the past eight weeks. We do not ask them all to ******declare****** their ******interest******s. I know there is more red tape now in health and social care than when we left office, but this Government want to reduce that not increase it."
      ],
      "text/plain": [
       "<IPython.core.display.Markdown object>"
      ]
     },
     "metadata": {},
     "output_type": "display_data"
    },
    {
     "name": "stdout",
     "output_type": "stream",
     "text": [
      "Mims-Davies-\\(25330\\)\n"
     ]
    },
    {
     "data": {
      "text/markdown": [
       "## Mims Davies (25330)"
      ],
      "text/plain": [
       "<IPython.core.display.Markdown object>"
      ]
     },
     "metadata": {},
     "output_type": "display_data"
    },
    {
     "data": {
      "text/markdown": [
       "[🔗](#Mims-Davies-\\(25330\\))"
      ],
      "text/plain": [
       "<IPython.core.display.Markdown object>"
      ]
     },
     "metadata": {},
     "output_type": "display_data"
    },
    {
     "data": {
      "text/markdown": [
       "[Debate link](https://www.theyworkforyou.com/debates/?id=2024-09-09b.578.3) | [Register link](https://www.theyworkforyou.com/mp/25330/register)"
      ],
      "text/plain": [
       "<IPython.core.display.Markdown object>"
      ]
     },
     "metadata": {},
     "output_type": "display_data"
    },
    {
     "data": {
      "text/markdown": [
       "match score: 0.69"
      ],
      "text/plain": [
       "<IPython.core.display.Markdown object>"
      ]
     },
     "metadata": {},
     "output_type": "display_data"
    },
    {
     "data": {
      "text/markdown": [
       ">Will the Secretary of State please illuminate the House about any conflict of ******interest****** concerning the gentleman in question? Did he head into the ministerial floor or access the Department? Many of us want our constituents to access health services and GP appointments. Did the right honourable gentleman, who is the Secretary of State’s friend from the old days and with whom he has worked with previously, have a day pass or a departmental pass? Beyond the bluster, can the Secretary of State assure hon. Members that there is no conflict of ******interest******?"
      ],
      "text/plain": [
       "<IPython.core.display.Markdown object>"
      ]
     },
     "metadata": {},
     "output_type": "display_data"
    },
    {
     "name": "stdout",
     "output_type": "stream",
     "text": [
      "Victoria-Atkins-\\(25424\\)\n"
     ]
    },
    {
     "data": {
      "text/markdown": [
       "## Victoria Atkins (25424)"
      ],
      "text/plain": [
       "<IPython.core.display.Markdown object>"
      ]
     },
     "metadata": {},
     "output_type": "display_data"
    },
    {
     "data": {
      "text/markdown": [
       "[🔗](#Victoria-Atkins-\\(25424\\))"
      ],
      "text/plain": [
       "<IPython.core.display.Markdown object>"
      ]
     },
     "metadata": {},
     "output_type": "display_data"
    },
    {
     "data": {
      "text/markdown": [
       "[Debate link](https://www.theyworkforyou.com/debates/?id=2024-09-09b.572.0) | [Register link](https://www.theyworkforyou.com/mp/25424/register)"
      ],
      "text/plain": [
       "<IPython.core.display.Markdown object>"
      ]
     },
     "metadata": {},
     "output_type": "display_data"
    },
    {
     "data": {
      "text/markdown": [
       "match score: 0.68"
      ],
      "text/plain": [
       "<IPython.core.display.Markdown object>"
      ]
     },
     "metadata": {},
     "output_type": "display_data"
    },
    {
     "data": {
      "text/markdown": [
       ">] A Member sitting opposite says, “So what?” Given the risk of conflicts of ******interest******—that, rather than the right hon Gentleman’s inexperience, is the point of this UQ—has Mr Milburn ******declare******d his business ******interest******s to the Department? Can the right hon Gentleman reassure the House on how such conflicts are being managed, so that we can get a sense of the scale of this open-door policy and Mr Milburn’s access?"
      ],
      "text/plain": [
       "<IPython.core.display.Markdown object>"
      ]
     },
     "metadata": {},
     "output_type": "display_data"
    },
    {
     "name": "stdout",
     "output_type": "stream",
     "text": [
      "Jim-Shannon-\\(13864\\)\n"
     ]
    },
    {
     "data": {
      "text/markdown": [
       "## Jim Shannon (13864)"
      ],
      "text/plain": [
       "<IPython.core.display.Markdown object>"
      ]
     },
     "metadata": {},
     "output_type": "display_data"
    },
    {
     "data": {
      "text/markdown": [
       "[🔗](#Jim-Shannon-\\(13864\\))"
      ],
      "text/plain": [
       "<IPython.core.display.Markdown object>"
      ]
     },
     "metadata": {},
     "output_type": "display_data"
    },
    {
     "data": {
      "text/markdown": [
       "[Debate link](https://www.theyworkforyou.com/debates/?id=2024-09-09b.630.0) | [Register link](https://www.theyworkforyou.com/mp/13864/register)"
      ],
      "text/plain": [
       "<IPython.core.display.Markdown object>"
      ]
     },
     "metadata": {},
     "output_type": "display_data"
    },
    {
     "data": {
      "text/markdown": [
       "match score: 0.68"
      ],
      "text/plain": [
       "<IPython.core.display.Markdown object>"
      ]
     },
     "metadata": {},
     "output_type": "display_data"
    },
    {
     "data": {
      "text/markdown": [
       ">I suspect we will be in many debates together, as this is a subject matter in which I have an ******interest******, and I look forward to that"
      ],
      "text/plain": [
       "<IPython.core.display.Markdown object>"
      ]
     },
     "metadata": {},
     "output_type": "display_data"
    },
    {
     "name": "stdout",
     "output_type": "stream",
     "text": [
      "Jim-Shannon-\\(13864\\)\n"
     ]
    },
    {
     "data": {
      "text/markdown": [
       "## Jim Shannon (13864)"
      ],
      "text/plain": [
       "<IPython.core.display.Markdown object>"
      ]
     },
     "metadata": {},
     "output_type": "display_data"
    },
    {
     "data": {
      "text/markdown": [
       "[🔗](#Jim-Shannon-\\(13864\\))"
      ],
      "text/plain": [
       "<IPython.core.display.Markdown object>"
      ]
     },
     "metadata": {},
     "output_type": "display_data"
    },
    {
     "data": {
      "text/markdown": [
       "[Debate link](https://www.theyworkforyou.com/debates/?id=2024-09-09b.661.2) | [Register link](https://www.theyworkforyou.com/mp/13864/register)"
      ],
      "text/plain": [
       "<IPython.core.display.Markdown object>"
      ]
     },
     "metadata": {},
     "output_type": "display_data"
    },
    {
     "data": {
      "text/markdown": [
       "match score: 0.68"
      ],
      "text/plain": [
       "<IPython.core.display.Markdown object>"
      ]
     },
     "metadata": {},
     "output_type": "display_data"
    },
    {
     "data": {
      "text/markdown": [
       ">We have five Members, while there are other single Members from Northern Ireland as well, and there is a big ******interest****** in, for example, the Northern Ireland Affairs Committee"
      ],
      "text/plain": [
       "<IPython.core.display.Markdown object>"
      ]
     },
     "metadata": {},
     "output_type": "display_data"
    },
    {
     "name": "stdout",
     "output_type": "stream",
     "text": [
      "Bridget-Phillipson-\\(24709\\)\n"
     ]
    },
    {
     "data": {
      "text/markdown": [
       "## Bridget Phillipson (24709)"
      ],
      "text/plain": [
       "<IPython.core.display.Markdown object>"
      ]
     },
     "metadata": {},
     "output_type": "display_data"
    },
    {
     "data": {
      "text/markdown": [
       "[🔗](#Bridget-Phillipson-\\(24709\\))"
      ],
      "text/plain": [
       "<IPython.core.display.Markdown object>"
      ]
     },
     "metadata": {},
     "output_type": "display_data"
    },
    {
     "data": {
      "text/markdown": [
       "[Debate link](https://www.theyworkforyou.com/debates/?id=2024-09-09b.555.8) | [Register link](https://www.theyworkforyou.com/mp/24709/register)"
      ],
      "text/plain": [
       "<IPython.core.display.Markdown object>"
      ]
     },
     "metadata": {},
     "output_type": "display_data"
    },
    {
     "data": {
      "text/markdown": [
       "match score: 0.67"
      ],
      "text/plain": [
       "<IPython.core.display.Markdown object>"
      ]
     },
     "metadata": {},
     "output_type": "display_data"
    },
    {
     "data": {
      "text/markdown": [
       ">My hon. Friend is right to draw attention to the significant ******interest****** in the Westminster Hall debate, and the level of ******interest****** today demonstrates the importance of getting this issue right. I know from speaking to him that he is concerned about the issue.  I agree that it is important that there is a fair education funding system that directs funding where it is most needed. One aspect of that is the national funding formula and allocating high-needs funding. We will take our time to look carefully at whether any changes are required, including in Hertfordshire."
      ],
      "text/plain": [
       "<IPython.core.display.Markdown object>"
      ]
     },
     "metadata": {},
     "output_type": "display_data"
    },
    {
     "name": "stdout",
     "output_type": "stream",
     "text": [
      "Jonathan-Reynolds-\\(24929\\)\n"
     ]
    },
    {
     "data": {
      "text/markdown": [
       "## Jonathan Reynolds (24929)"
      ],
      "text/plain": [
       "<IPython.core.display.Markdown object>"
      ]
     },
     "metadata": {},
     "output_type": "display_data"
    },
    {
     "data": {
      "text/markdown": [
       "[🔗](#Jonathan-Reynolds-\\(24929\\))"
      ],
      "text/plain": [
       "<IPython.core.display.Markdown object>"
      ]
     },
     "metadata": {},
     "output_type": "display_data"
    },
    {
     "data": {
      "text/markdown": [
       "[Debate link](https://www.theyworkforyou.com/debates/?id=2024-09-09b.585.0) | [Register link](https://www.theyworkforyou.com/mp/24929/register)"
      ],
      "text/plain": [
       "<IPython.core.display.Markdown object>"
      ]
     },
     "metadata": {},
     "output_type": "display_data"
    },
    {
     "data": {
      "text/markdown": [
       "match score: 0.67"
      ],
      "text/plain": [
       "<IPython.core.display.Markdown object>"
      ]
     },
     "metadata": {},
     "output_type": "display_data"
    },
    {
     "data": {
      "text/markdown": [
       ">I want to be clear about the difficulty that has existed with the Horizon convictions redress scheme. To update the House, I will give the hon. Member the figures: so far, 180 letters have gone out from the Ministry of Justice. Including those letters and the people who have ******register******ed with the Government who perhaps have not all received a letter yet, there are now 276 claimants. I will make the appeal again: while we are doing everything we can with Ministry of Justice colleagues to make sure those letters go out, people can proactively ******register****** with the Government. To be frank, this has been a frustration. When the hon. Member and I were having our conversations when we sat in different places in the Chamber, neither of us perhaps knew the state of the database and the records, and—having passed the legislation—the frustrations we would face in getting to people. However, doing so is clearly integral to sorting this out."
      ],
      "text/plain": [
       "<IPython.core.display.Markdown object>"
      ]
     },
     "metadata": {},
     "output_type": "display_data"
    },
    {
     "name": "stdout",
     "output_type": "stream",
     "text": [
      "Wes-Streeting-\\(25320\\)\n"
     ]
    },
    {
     "data": {
      "text/markdown": [
       "## Wes Streeting (25320)"
      ],
      "text/plain": [
       "<IPython.core.display.Markdown object>"
      ]
     },
     "metadata": {},
     "output_type": "display_data"
    },
    {
     "data": {
      "text/markdown": [
       "[🔗](#Wes-Streeting-\\(25320\\))"
      ],
      "text/plain": [
       "<IPython.core.display.Markdown object>"
      ]
     },
     "metadata": {},
     "output_type": "display_data"
    },
    {
     "data": {
      "text/markdown": [
       "[Debate link](https://www.theyworkforyou.com/debates/?id=2024-09-09b.576.3) | [Register link](https://www.theyworkforyou.com/mp/25320/register)"
      ],
      "text/plain": [
       "<IPython.core.display.Markdown object>"
      ]
     },
     "metadata": {},
     "output_type": "display_data"
    },
    {
     "data": {
      "text/markdown": [
       "match score: 0.67"
      ],
      "text/plain": [
       "<IPython.core.display.Markdown object>"
      ]
     },
     "metadata": {},
     "output_type": "display_data"
    },
    {
     "data": {
      "text/markdown": [
       ">Where do we draw the line? Do we have to send compliance forms to Cancer Research UK before it comes in to talk about how we tackle cancer? Do we have to send declaration of ******interest****** forms to patients who want to discuss awful cases they have experienced?"
      ],
      "text/plain": [
       "<IPython.core.display.Markdown object>"
      ]
     },
     "metadata": {},
     "output_type": "display_data"
    },
    {
     "name": "stdout",
     "output_type": "stream",
     "text": [
      "Hamish-Falconer-\\(26446\\)\n"
     ]
    },
    {
     "data": {
      "text/markdown": [
       "## Hamish Falconer (26446)"
      ],
      "text/plain": [
       "<IPython.core.display.Markdown object>"
      ]
     },
     "metadata": {},
     "output_type": "display_data"
    },
    {
     "data": {
      "text/markdown": [
       "[🔗](#Hamish-Falconer-\\(26446\\))"
      ],
      "text/plain": [
       "<IPython.core.display.Markdown object>"
      ]
     },
     "metadata": {},
     "output_type": "display_data"
    },
    {
     "data": {
      "text/markdown": [
       "[Debate link](https://www.theyworkforyou.com/debates/?id=2024-09-09b.622.2) | [Register link](https://www.theyworkforyou.com/mp/26446/register)"
      ],
      "text/plain": [
       "<IPython.core.display.Markdown object>"
      ]
     },
     "metadata": {},
     "output_type": "display_data"
    },
    {
     "data": {
      "text/markdown": [
       "match score: 0.66"
      ],
      "text/plain": [
       "<IPython.core.display.Markdown object>"
      ]
     },
     "metadata": {},
     "output_type": "display_data"
    },
    {
     "data": {
      "text/markdown": [
       ">My hon. Friend the Member for Glasgow South (Gordon McKee) made some kind comments. I am unsure whether they were for Minister Doughty or for me, but, as I am here, I will certainly accept them. He made important points about microchips and various other dual-use technologies on which we are taking action with others to try to address. In the ******interest******s of the House’s time, I will write to him to give further detail."
      ],
      "text/plain": [
       "<IPython.core.display.Markdown object>"
      ]
     },
     "metadata": {},
     "output_type": "display_data"
    },
    {
     "name": "stdout",
     "output_type": "stream",
     "text": [
      "Paul-Kohler-\\(26570\\)\n"
     ]
    },
    {
     "data": {
      "text/markdown": [
       "## Paul Kohler (26570)"
      ],
      "text/plain": [
       "<IPython.core.display.Markdown object>"
      ]
     },
     "metadata": {},
     "output_type": "display_data"
    },
    {
     "data": {
      "text/markdown": [
       "[🔗](#Paul-Kohler-\\(26570\\))"
      ],
      "text/plain": [
       "<IPython.core.display.Markdown object>"
      ]
     },
     "metadata": {},
     "output_type": "display_data"
    },
    {
     "data": {
      "text/markdown": [
       "[Debate link](https://www.theyworkforyou.com/debates/?id=2024-09-09b.577.5) | [Register link](https://www.theyworkforyou.com/mp/26570/register)"
      ],
      "text/plain": [
       "<IPython.core.display.Markdown object>"
      ]
     },
     "metadata": {},
     "output_type": "display_data"
    },
    {
     "data": {
      "text/markdown": [
       "match score: 0.66"
      ],
      "text/plain": [
       "<IPython.core.display.Markdown object>"
      ]
     },
     "metadata": {},
     "output_type": "display_data"
    },
    {
     "data": {
      "text/markdown": [
       ">What safeguards are being imposed or considered to address the appearance of conflicts of ******interest******?"
      ],
      "text/plain": [
       "<IPython.core.display.Markdown object>"
      ]
     },
     "metadata": {},
     "output_type": "display_data"
    },
    {
     "name": "stdout",
     "output_type": "stream",
     "text": [
      "Matthew-Pennycook-\\(25379\\)\n"
     ]
    },
    {
     "data": {
      "text/markdown": [
       "## Matthew Pennycook (25379)"
      ],
      "text/plain": [
       "<IPython.core.display.Markdown object>"
      ]
     },
     "metadata": {},
     "output_type": "display_data"
    },
    {
     "data": {
      "text/markdown": [
       "[🔗](#Matthew-Pennycook-\\(25379\\))"
      ],
      "text/plain": [
       "<IPython.core.display.Markdown object>"
      ]
     },
     "metadata": {},
     "output_type": "display_data"
    },
    {
     "data": {
      "text/markdown": [
       "[Debate link](https://www.theyworkforyou.com/debates/?id=2024-09-09b.672.3) | [Register link](https://www.theyworkforyou.com/mp/25379/register)"
      ],
      "text/plain": [
       "<IPython.core.display.Markdown object>"
      ]
     },
     "metadata": {},
     "output_type": "display_data"
    },
    {
     "data": {
      "text/markdown": [
       "match score: 0.66"
      ],
      "text/plain": [
       "<IPython.core.display.Markdown object>"
      ]
     },
     "metadata": {},
     "output_type": "display_data"
    },
    {
     "data": {
      "text/markdown": [
       ">I appreciate the hon. Gentleman’s ******interest****** in community-led housing, including the role of community land trusts, and his professional experience in this area. I recognise the role that community ownership of land and affordable homes can play in delivering the Government’s agenda, although I hope that he will recognise that the support we are able to offer must be considered in the round, alongside the full range of departmental programmes. Again, the Government have set out changes to how we plan for the homes we need as part of the NPPF consultation, which includes proposals designed to strengthen support for community-led housing."
      ],
      "text/plain": [
       "<IPython.core.display.Markdown object>"
      ]
     },
     "metadata": {},
     "output_type": "display_data"
    },
    {
     "name": "stdout",
     "output_type": "stream",
     "text": [
      "Wes-Streeting-\\(25320\\)\n"
     ]
    },
    {
     "data": {
      "text/markdown": [
       "## Wes Streeting (25320)"
      ],
      "text/plain": [
       "<IPython.core.display.Markdown object>"
      ]
     },
     "metadata": {},
     "output_type": "display_data"
    },
    {
     "data": {
      "text/markdown": [
       "[🔗](#Wes-Streeting-\\(25320\\))"
      ],
      "text/plain": [
       "<IPython.core.display.Markdown object>"
      ]
     },
     "metadata": {},
     "output_type": "display_data"
    },
    {
     "data": {
      "text/markdown": [
       "[Debate link](https://www.theyworkforyou.com/debates/?id=2024-09-09b.579.1) | [Register link](https://www.theyworkforyou.com/mp/25320/register)"
      ],
      "text/plain": [
       "<IPython.core.display.Markdown object>"
      ]
     },
     "metadata": {},
     "output_type": "display_data"
    },
    {
     "data": {
      "text/markdown": [
       "match score: 0.66"
      ],
      "text/plain": [
       "<IPython.core.display.Markdown object>"
      ]
     },
     "metadata": {},
     "output_type": "display_data"
    },
    {
     "data": {
      "text/markdown": [
       ">First, my right honourable friend, Alan Milburn, does not have a role in the Department. Secondly, of course we will publish, in the routine way that we do, details of meetings held in the Department and who attended them. I gently suggest that if the hon. Member has not made his way there already, there are plenty more ******interest******ing things to read in the House of Commons Library."
      ],
      "text/plain": [
       "<IPython.core.display.Markdown object>"
      ]
     },
     "metadata": {},
     "output_type": "display_data"
    },
    {
     "name": "stdout",
     "output_type": "stream",
     "text": [
      "Rupert-Lowe-\\(26361\\)\n"
     ]
    },
    {
     "data": {
      "text/markdown": [
       "## Rupert Lowe (26361)"
      ],
      "text/plain": [
       "<IPython.core.display.Markdown object>"
      ]
     },
     "metadata": {},
     "output_type": "display_data"
    },
    {
     "data": {
      "text/markdown": [
       "[🔗](#Rupert-Lowe-\\(26361\\))"
      ],
      "text/plain": [
       "<IPython.core.display.Markdown object>"
      ]
     },
     "metadata": {},
     "output_type": "display_data"
    },
    {
     "data": {
      "text/markdown": [
       "[Debate link](https://www.theyworkforyou.com/debates/?id=2024-09-09b.619.1) | [Register link](https://www.theyworkforyou.com/mp/26361/register)"
      ],
      "text/plain": [
       "<IPython.core.display.Markdown object>"
      ]
     },
     "metadata": {},
     "output_type": "display_data"
    },
    {
     "data": {
      "text/markdown": [
       "match score: 0.65"
      ],
      "text/plain": [
       "<IPython.core.display.Markdown object>"
      ]
     },
     "metadata": {},
     "output_type": "display_data"
    },
    {
     "data": {
      "text/markdown": [
       ">It is a ticket of perhaps less financial value than those that some other Members will have ******declare******d, but it holds infinitely more real value for me"
      ],
      "text/plain": [
       "<IPython.core.display.Markdown object>"
      ]
     },
     "metadata": {},
     "output_type": "display_data"
    },
    {
     "name": "stdout",
     "output_type": "stream",
     "text": [
      "Jonathan-Reynolds-\\(24929\\)\n"
     ]
    },
    {
     "data": {
      "text/markdown": [
       "## Jonathan Reynolds (24929)"
      ],
      "text/plain": [
       "<IPython.core.display.Markdown object>"
      ]
     },
     "metadata": {},
     "output_type": "display_data"
    },
    {
     "data": {
      "text/markdown": [
       "[🔗](#Jonathan-Reynolds-\\(24929\\))"
      ],
      "text/plain": [
       "<IPython.core.display.Markdown object>"
      ]
     },
     "metadata": {},
     "output_type": "display_data"
    },
    {
     "data": {
      "text/markdown": [
       "[Debate link](https://www.theyworkforyou.com/debates/?id=2024-09-09b.590.4) | [Register link](https://www.theyworkforyou.com/mp/24929/register)"
      ],
      "text/plain": [
       "<IPython.core.display.Markdown object>"
      ]
     },
     "metadata": {},
     "output_type": "display_data"
    },
    {
     "data": {
      "text/markdown": [
       "match score: 0.65"
      ],
      "text/plain": [
       "<IPython.core.display.Markdown object>"
      ]
     },
     "metadata": {},
     "output_type": "display_data"
    },
    {
     "data": {
      "text/markdown": [
       ">The hon. Gentleman will have heard my answers. He would surely agree that to get things wrong with these cases would be a terrible problem. Some of the errors and the problems that have been caused have been a frustration, but I want to assure him. I think it is better, in matters relating to this scandal, that it is the Department for Business and Trade, given the ******interest******s of Members, that provides the updates on these matters. However, I can assure him that work is proceeding at pace, and people can proactively ******register****** their credentials to ensure that there is no delay if they are in a position where they know they are one of the wronged parties."
      ],
      "text/plain": [
       "<IPython.core.display.Markdown object>"
      ]
     },
     "metadata": {},
     "output_type": "display_data"
    }
   ],
   "source": [
    "# atched_text\tspeaker_name\tperson_id\tchamber\ttranscript_type\tspeech_id\ttwfy_ur\n",
    "df[\"date\"] = df[\"speech_id\"].apply(lambda x: x.split(\"/\")[2][:10])\n",
    "df[\"int_person_id\"] = df[\"person_id\"].apply(lambda x: x.split(\"/\")[-1] if x else \"\")\n",
    "\n",
    "must_contain = [\"declare\", \"interest\", \"register\"]\n",
    "\n",
    "passes_text = df[\"matched_text\"].apply(\n",
    "    lambda text: any([word in text.lower() for word in must_contain])\n",
    ")\n",
    "\n",
    "df = df[passes_text]\n",
    "\n",
    "# dedupe on debate_url\n",
    "df = df.drop_duplicates(subset=[\"debate_url\"])\n",
    "\n",
    "\n",
    "def bold_text(text: str) -> str:\n",
    "    bolded_text = text\n",
    "    for m in must_contain:\n",
    "        bolded_text = bold_icase(bolded_text, m)\n",
    "    return bolded_text\n",
    "\n",
    "\n",
    "df[\"matched_text\"] = df[\"matched_text\"].apply(bold_text)\n",
    "\n",
    "# sort by reverse date\n",
    "df = df.sort_values(\"date\", ascending=False)\n",
    "\n",
    "for date, gdf in df.groupby(\"date\", sort=False):\n",
    "    gdf = gdf.sort_values(\"distance\", ascending=True)\n",
    "    dmd(f\"# {date}\")\n",
    "    for _, row in gdf.iterrows():\n",
    "        name_and_id = f\"{row.speaker_name} ({row.int_person_id})\"\n",
    "        name_and_id_slug = name_and_id.replace(\" \", \"-\").replace(\"(\", \"\\\\(\").replace(\")\", \"\\\\)\")\n",
    "        dmd(f\"## {name_and_id}\")\n",
    "        dmd(f\"[🔗](#{name_and_id_slug})\")\n",
    "        dmd(\n",
    "            f\"[Debate link]({row.debate_url}) | [Register link](https://www.theyworkforyou.com/mp/{row.int_person_id}/register)\"\n",
    "        )\n",
    "\n",
    "        dmd(f\"match score: {round(1 - row.distance,2)}\")\n",
    "\n",
    "        dmd(\">\" + row.matched_text)"
   ]
  }
 ],
 "metadata": {
  "language_info": {
   "name": "python"
  }
 },
 "nbformat": 4,
 "nbformat_minor": 2
}
