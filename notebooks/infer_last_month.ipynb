{
 "cells": [
  {
   "cell_type": "code",
   "execution_count": 45,
   "metadata": {},
   "outputs": [
    {
     "name": "stderr",
     "output_type": "stream",
     "text": [
      "100%|██████████| 23/23 [00:07<00:00,  3.23it/s]\n"
     ]
    }
   ],
   "source": [
    "import datetime\n",
    "from pathlib import Path\n",
    "\n",
    "from IPython.display import Markdown as md\n",
    "from mini_transcript_search import ModelHandler\n",
    "\n",
    "\n",
    "def dmd(text):\n",
    "    display(md(text))\n",
    "\n",
    "\n",
    "handler = ModelHandler(\n",
    "    use_local_model=False,\n",
    "    override_stored=False,\n",
    "    storage_path=Path(\"..\", \"data\", \"parlparse_xmls\"),\n",
    ")\n",
    "\n",
    "search_query = \"register of members financial interests\"\n",
    "\n",
    "today = datetime.date.today()\n",
    "one_month_ago = today - datetime.timedelta(days=30)\n",
    "\n",
    "\n",
    "# the last week starting yesterday\n",
    "last_month = ModelHandler.DateRange(start_date=one_month_ago, end_date=today)\n",
    "results = handler.query(\n",
    "    search_query,\n",
    "    threshold=0.35,\n",
    "    date_range=last_month,\n",
    "    chamber=ModelHandler.Chamber.COMMONS,\n",
    "    transcript_type=ModelHandler.TranscriptType.DEBATES,\n",
    ")\n",
    "\n",
    "# dump csv\n",
    "df = results.df()\n"
   ]
  },
  {
   "cell_type": "markdown",
   "metadata": {},
   "source": [
    "# Vector search: register of interests declarations\n",
    "\n"
   ]
  },
  {
   "cell_type": "code",
   "execution_count": 46,
   "metadata": {},
   "outputs": [
    {
     "data": {
      "text/markdown": [
       "Last run date: 2024-09-26"
      ],
      "text/plain": [
       "<IPython.core.display.Markdown object>"
      ]
     },
     "metadata": {},
     "output_type": "display_data"
    }
   ],
   "source": [
    "dmd(f\"Last run date: {today}\")"
   ]
  },
  {
   "cell_type": "code",
   "execution_count": 44,
   "metadata": {},
   "outputs": [
    {
     "data": {
      "text/markdown": [
       "# 2024-09-12"
      ],
      "text/plain": [
       "<IPython.core.display.Markdown object>"
      ]
     },
     "metadata": {},
     "output_type": "display_data"
    },
    {
     "data": {
      "text/markdown": [
       "## Mims Davies (25330)"
      ],
      "text/plain": [
       "<IPython.core.display.Markdown object>"
      ]
     },
     "metadata": {},
     "output_type": "display_data"
    },
    {
     "data": {
      "text/markdown": [
       "[Debate link](https://www.theyworkforyou.com/debates/?id=2024-09-12b.1057.2) | [Register link](https://www.theyworkforyou.com/mp/25330/register)"
      ],
      "text/plain": [
       "<IPython.core.display.Markdown object>"
      ]
     },
     "metadata": {},
     "output_type": "display_data"
    },
    {
     "data": {
      "text/markdown": [
       "match score: 0.77"
      ],
      "text/plain": [
       "<IPython.core.display.Markdown object>"
      ]
     },
     "metadata": {},
     "output_type": "display_data"
    },
    {
     "data": {
      "text/markdown": [
       ">Let me first refer Members to my registered interests before I make some points about my constituency"
      ],
      "text/plain": [
       "<IPython.core.display.Markdown object>"
      ]
     },
     "metadata": {},
     "output_type": "display_data"
    },
    {
     "data": {
      "text/markdown": [
       "## Paul Holmes (25808)"
      ],
      "text/plain": [
       "<IPython.core.display.Markdown object>"
      ]
     },
     "metadata": {},
     "output_type": "display_data"
    },
    {
     "data": {
      "text/markdown": [
       "[Debate link](https://www.theyworkforyou.com/debates/?id=2024-09-12b.1026.2) | [Register link](https://www.theyworkforyou.com/mp/25808/register)"
      ],
      "text/plain": [
       "<IPython.core.display.Markdown object>"
      ]
     },
     "metadata": {},
     "output_type": "display_data"
    },
    {
     "data": {
      "text/markdown": [
       "match score: 0.69"
      ],
      "text/plain": [
       "<IPython.core.display.Markdown object>"
      ]
     },
     "metadata": {},
     "output_type": "display_data"
    },
    {
     "data": {
      "text/markdown": [
       ">New Members will find them particularly useful"
      ],
      "text/plain": [
       "<IPython.core.display.Markdown object>"
      ]
     },
     "metadata": {},
     "output_type": "display_data"
    },
    {
     "data": {
      "text/markdown": [
       "## Jayne Kirkham (26525)"
      ],
      "text/plain": [
       "<IPython.core.display.Markdown object>"
      ]
     },
     "metadata": {},
     "output_type": "display_data"
    },
    {
     "data": {
      "text/markdown": [
       "[Debate link](https://www.theyworkforyou.com/debates/?id=2024-09-12b.1078.0) | [Register link](https://www.theyworkforyou.com/mp/26525/register)"
      ],
      "text/plain": [
       "<IPython.core.display.Markdown object>"
      ]
     },
     "metadata": {},
     "output_type": "display_data"
    },
    {
     "data": {
      "text/markdown": [
       "match score: 0.68"
      ],
      "text/plain": [
       "<IPython.core.display.Markdown object>"
      ]
     },
     "metadata": {},
     "output_type": "display_data"
    },
    {
     "data": {
      "text/markdown": [
       ">My query is about the current version of the shared prosperity fund"
      ],
      "text/plain": [
       "<IPython.core.display.Markdown object>"
      ]
     },
     "metadata": {},
     "output_type": "display_data"
    },
    {
     "data": {
      "text/markdown": [
       "## Steve Reed (25170)"
      ],
      "text/plain": [
       "<IPython.core.display.Markdown object>"
      ]
     },
     "metadata": {},
     "output_type": "display_data"
    },
    {
     "data": {
      "text/markdown": [
       "[Debate link](https://www.theyworkforyou.com/debates/?id=2024-09-12b.942.10) | [Register link](https://www.theyworkforyou.com/mp/25170/register)"
      ],
      "text/plain": [
       "<IPython.core.display.Markdown object>"
      ]
     },
     "metadata": {},
     "output_type": "display_data"
    },
    {
     "data": {
      "text/markdown": [
       "match score: 0.67"
      ],
      "text/plain": [
       "<IPython.core.display.Markdown object>"
      ]
     },
     "metadata": {},
     "output_type": "display_data"
    },
    {
     "data": {
      "text/markdown": [
       ">I share the right hon Member’s interest in the need for effective regulation"
      ],
      "text/plain": [
       "<IPython.core.display.Markdown object>"
      ]
     },
     "metadata": {},
     "output_type": "display_data"
    },
    {
     "data": {
      "text/markdown": [
       "## Lindsay Hoyle (10295)"
      ],
      "text/plain": [
       "<IPython.core.display.Markdown object>"
      ]
     },
     "metadata": {},
     "output_type": "display_data"
    },
    {
     "data": {
      "text/markdown": [
       "[Debate link](https://www.theyworkforyou.com/debates/?id=2024-09-12b.986.1) | [Register link](https://www.theyworkforyou.com/mp/10295/register)"
      ],
      "text/plain": [
       "<IPython.core.display.Markdown object>"
      ]
     },
     "metadata": {},
     "output_type": "display_data"
    },
    {
     "data": {
      "text/markdown": [
       "match score: 0.67"
      ],
      "text/plain": [
       "<IPython.core.display.Markdown object>"
      ]
     },
     "metadata": {},
     "output_type": "display_data"
    },
    {
     "data": {
      "text/markdown": [
       ">How long has the hon Member been here? Points of order come at the end—you cannot intervene in the middle of these proceedings"
      ],
      "text/plain": [
       "<IPython.core.display.Markdown object>"
      ]
     },
     "metadata": {},
     "output_type": "display_data"
    },
    {
     "data": {
      "text/markdown": [
       "## Tessa Munt (24942)"
      ],
      "text/plain": [
       "<IPython.core.display.Markdown object>"
      ]
     },
     "metadata": {},
     "output_type": "display_data"
    },
    {
     "data": {
      "text/markdown": [
       "[Debate link](https://www.theyworkforyou.com/debates/?id=2024-09-12b.974.5) | [Register link](https://www.theyworkforyou.com/mp/24942/register)"
      ],
      "text/plain": [
       "<IPython.core.display.Markdown object>"
      ]
     },
     "metadata": {},
     "output_type": "display_data"
    },
    {
     "data": {
      "text/markdown": [
       "match score: 0.66"
      ],
      "text/plain": [
       "<IPython.core.display.Markdown object>"
      ]
     },
     "metadata": {},
     "output_type": "display_data"
    },
    {
     "data": {
      "text/markdown": [
       ">The Economic Crime and Corporate Transparency Act 2023 introduced the requirement that directors and other individuals verify their identity before being listed at Companies House. I have found company directors whose registered addresses simply do not exist, which at the least means that papers cannot be served, and at the  worst enables fraud and other crime. May we have a debate on the progress of two things: the secondary legislation that needs to be passed for those basic checks to take place; and an update on how Companies House’s systems are progressing to allow directors’ identities to be checked?"
      ],
      "text/plain": [
       "<IPython.core.display.Markdown object>"
      ]
     },
     "metadata": {},
     "output_type": "display_data"
    },
    {
     "data": {
      "text/markdown": [
       "## Alex Norris (25687)"
      ],
      "text/plain": [
       "<IPython.core.display.Markdown object>"
      ]
     },
     "metadata": {},
     "output_type": "display_data"
    },
    {
     "data": {
      "text/markdown": [
       "[Debate link](https://www.theyworkforyou.com/debates/?id=2024-09-12b.1077.2) | [Register link](https://www.theyworkforyou.com/mp/25687/register)"
      ],
      "text/plain": [
       "<IPython.core.display.Markdown object>"
      ]
     },
     "metadata": {},
     "output_type": "display_data"
    },
    {
     "data": {
      "text/markdown": [
       "match score: 0.66"
      ],
      "text/plain": [
       "<IPython.core.display.Markdown object>"
      ]
     },
     "metadata": {},
     "output_type": "display_data"
    },
    {
     "data": {
      "text/markdown": [
       ">So I understand very strongly why there is such interest in the fund"
      ],
      "text/plain": [
       "<IPython.core.display.Markdown object>"
      ]
     },
     "metadata": {},
     "output_type": "display_data"
    },
    {
     "data": {
      "text/markdown": [
       "## None ()"
      ],
      "text/plain": [
       "<IPython.core.display.Markdown object>"
      ]
     },
     "metadata": {},
     "output_type": "display_data"
    },
    {
     "data": {
      "text/markdown": [
       "[Debate link](https://www.theyworkforyou.com/debates/?id=2024-09-12b.1008.0) | [Register link](https://www.theyworkforyou.com/mp//register)"
      ],
      "text/plain": [
       "<IPython.core.display.Markdown object>"
      ]
     },
     "metadata": {},
     "output_type": "display_data"
    },
    {
     "data": {
      "text/markdown": [
       "match score: 0.66"
      ],
      "text/plain": [
       "<IPython.core.display.Markdown object>"
      ]
     },
     "metadata": {},
     "output_type": "display_data"
    },
    {
     "data": {
      "text/markdown": [
       ">Points of Order"
      ],
      "text/plain": [
       "<IPython.core.display.Markdown object>"
      ]
     },
     "metadata": {},
     "output_type": "display_data"
    },
    {
     "data": {
      "text/markdown": [
       "## Lindsay Hoyle (10295)"
      ],
      "text/plain": [
       "<IPython.core.display.Markdown object>"
      ]
     },
     "metadata": {},
     "output_type": "display_data"
    },
    {
     "data": {
      "text/markdown": [
       "[Debate link](https://www.theyworkforyou.com/debates/?id=2024-09-12b.965.3) | [Register link](https://www.theyworkforyou.com/mp/10295/register)"
      ],
      "text/plain": [
       "<IPython.core.display.Markdown object>"
      ]
     },
     "metadata": {},
     "output_type": "display_data"
    },
    {
     "data": {
      "text/markdown": [
       "match score: 0.66"
      ],
      "text/plain": [
       "<IPython.core.display.Markdown object>"
      ]
     },
     "metadata": {},
     "output_type": "display_data"
    },
    {
     "data": {
      "text/markdown": [
       ">This is not a matter for the Chair, but I know that the right hon. Gentleman is not the only Member with concerns about the cost of such transcripts. I will ask the House authorities to look into the matter, because such costs inhibit Members. The outrageous amount of £100,000 prohibits Members of Parliament from carrying out their duty on behalf of their constituents. The Solicitor General is in the Chamber, so I hope that she will take these comments on board and let us speak to the company concerned. I will also take the matter up with the Clerks of the House. Does the Solicitor General wish to make a comment? If not, let us proceed."
      ],
      "text/plain": [
       "<IPython.core.display.Markdown object>"
      ]
     },
     "metadata": {},
     "output_type": "display_data"
    },
    {
     "data": {
      "text/markdown": [
       "## Mary Creagh (11898)"
      ],
      "text/plain": [
       "<IPython.core.display.Markdown object>"
      ]
     },
     "metadata": {},
     "output_type": "display_data"
    },
    {
     "data": {
      "text/markdown": [
       "[Debate link](https://www.theyworkforyou.com/debates/?id=2024-09-12b.954.4) | [Register link](https://www.theyworkforyou.com/mp/11898/register)"
      ],
      "text/plain": [
       "<IPython.core.display.Markdown object>"
      ]
     },
     "metadata": {},
     "output_type": "display_data"
    },
    {
     "data": {
      "text/markdown": [
       "match score: 0.66"
      ],
      "text/plain": [
       "<IPython.core.display.Markdown object>"
      ]
     },
     "metadata": {},
     "output_type": "display_data"
    },
    {
     "data": {
      "text/markdown": [
       ">This is a very new policy and has only just come into force, as the hon. Lady will be aware. There are very limited exemptions in place at the moment, such as that on side returns on housing, but we are keeping the issue under active review and I am in discussions with officials about it."
      ],
      "text/plain": [
       "<IPython.core.display.Markdown object>"
      ]
     },
     "metadata": {},
     "output_type": "display_data"
    },
    {
     "data": {
      "text/markdown": [
       "## Bob Blackman (24945)"
      ],
      "text/plain": [
       "<IPython.core.display.Markdown object>"
      ]
     },
     "metadata": {},
     "output_type": "display_data"
    },
    {
     "data": {
      "text/markdown": [
       "[Debate link](https://www.theyworkforyou.com/debates/?id=2024-09-12b.970.4) | [Register link](https://www.theyworkforyou.com/mp/24945/register)"
      ],
      "text/plain": [
       "<IPython.core.display.Markdown object>"
      ]
     },
     "metadata": {},
     "output_type": "display_data"
    },
    {
     "data": {
      "text/markdown": [
       "match score: 0.66"
      ],
      "text/plain": [
       "<IPython.core.display.Markdown object>"
      ]
     },
     "metadata": {},
     "output_type": "display_data"
    },
    {
     "data": {
      "text/markdown": [
       ">Thank you, Mr Speaker. I urge the Leader of the House to publish the membership numbers for Select Committees, and  urge the usual channels to get on with populating those Committees, in particular of course the Backbench Business Committee, so that we can start to schedule the debates that Back Benchers, rather than the Government, want to table."
      ],
      "text/plain": [
       "<IPython.core.display.Markdown object>"
      ]
     },
     "metadata": {},
     "output_type": "display_data"
    },
    {
     "data": {
      "text/markdown": [
       "# 2024-09-11"
      ],
      "text/plain": [
       "<IPython.core.display.Markdown object>"
      ]
     },
     "metadata": {},
     "output_type": "display_data"
    },
    {
     "data": {
      "text/markdown": [
       "## Mike Amesbury (25702)"
      ],
      "text/plain": [
       "<IPython.core.display.Markdown object>"
      ]
     },
     "metadata": {},
     "output_type": "display_data"
    },
    {
     "data": {
      "text/markdown": [
       "[Debate link](https://www.theyworkforyou.com/debates/?id=2024-09-11b.883.3) | [Register link](https://www.theyworkforyou.com/mp/25702/register)"
      ],
      "text/plain": [
       "<IPython.core.display.Markdown object>"
      ]
     },
     "metadata": {},
     "output_type": "display_data"
    },
    {
     "data": {
      "text/markdown": [
       "match score: 0.7"
      ],
      "text/plain": [
       "<IPython.core.display.Markdown object>"
      ]
     },
     "metadata": {},
     "output_type": "display_data"
    },
    {
     "data": {
      "text/markdown": [
       ">Members have mentioned insurance premiums"
      ],
      "text/plain": [
       "<IPython.core.display.Markdown object>"
      ]
     },
     "metadata": {},
     "output_type": "display_data"
    },
    {
     "data": {
      "text/markdown": [
       "## Alex Norris (25687)"
      ],
      "text/plain": [
       "<IPython.core.display.Markdown object>"
      ]
     },
     "metadata": {},
     "output_type": "display_data"
    },
    {
     "data": {
      "text/markdown": [
       "[Debate link](https://www.theyworkforyou.com/debates/?id=2024-09-11b.927.3) | [Register link](https://www.theyworkforyou.com/mp/25687/register)"
      ],
      "text/plain": [
       "<IPython.core.display.Markdown object>"
      ]
     },
     "metadata": {},
     "output_type": "display_data"
    },
    {
     "data": {
      "text/markdown": [
       "match score: 0.67"
      ],
      "text/plain": [
       "<IPython.core.display.Markdown object>"
      ]
     },
     "metadata": {},
     "output_type": "display_data"
    },
    {
     "data": {
      "text/markdown": [
       ">The Leasehold and Freehold Reform Act 2024 contains measures to ensure that leaseholders get key financial and non-financial information so that they can scrutinise and hold to account the organisations that they are working with on service charges"
      ],
      "text/plain": [
       "<IPython.core.display.Markdown object>"
      ]
     },
     "metadata": {},
     "output_type": "display_data"
    },
    {
     "data": {
      "text/markdown": [
       "## Clive Efford (10185)"
      ],
      "text/plain": [
       "<IPython.core.display.Markdown object>"
      ]
     },
     "metadata": {},
     "output_type": "display_data"
    },
    {
     "data": {
      "text/markdown": [
       "[Debate link](https://www.theyworkforyou.com/debates/?id=2024-09-11b.923.2) | [Register link](https://www.theyworkforyou.com/mp/10185/register)"
      ],
      "text/plain": [
       "<IPython.core.display.Markdown object>"
      ]
     },
     "metadata": {},
     "output_type": "display_data"
    },
    {
     "data": {
      "text/markdown": [
       "match score: 0.67"
      ],
      "text/plain": [
       "<IPython.core.display.Markdown object>"
      ]
     },
     "metadata": {},
     "output_type": "display_data"
    },
    {
     "data": {
      "text/markdown": [
       ">I do not know whether my hon. Friend heard the example that I gave earlier of a management agency not giving the information to leaseholders to check whether they were being charged the right amount of money or even to seek legal redress. There seems to be no power to force those agencies to give that information."
      ],
      "text/plain": [
       "<IPython.core.display.Markdown object>"
      ]
     },
     "metadata": {},
     "output_type": "display_data"
    },
    {
     "data": {
      "text/markdown": [
       "## Marie Goldman (26338)"
      ],
      "text/plain": [
       "<IPython.core.display.Markdown object>"
      ]
     },
     "metadata": {},
     "output_type": "display_data"
    },
    {
     "data": {
      "text/markdown": [
       "[Debate link](https://www.theyworkforyou.com/debates/?id=2024-09-11b.865.3) | [Register link](https://www.theyworkforyou.com/mp/26338/register)"
      ],
      "text/plain": [
       "<IPython.core.display.Markdown object>"
      ]
     },
     "metadata": {},
     "output_type": "display_data"
    },
    {
     "data": {
      "text/markdown": [
       "match score: 0.67"
      ],
      "text/plain": [
       "<IPython.core.display.Markdown object>"
      ]
     },
     "metadata": {},
     "output_type": "display_data"
    },
    {
     "data": {
      "text/markdown": [
       ">Other Members have mentioned the difficulty with getting mortgages"
      ],
      "text/plain": [
       "<IPython.core.display.Markdown object>"
      ]
     },
     "metadata": {},
     "output_type": "display_data"
    },
    {
     "data": {
      "text/markdown": [
       "## Nusrat Ghani (25354)"
      ],
      "text/plain": [
       "<IPython.core.display.Markdown object>"
      ]
     },
     "metadata": {},
     "output_type": "display_data"
    },
    {
     "data": {
      "text/markdown": [
       "[Debate link](https://www.theyworkforyou.com/debates/?id=2024-09-11b.865.0) | [Register link](https://www.theyworkforyou.com/mp/25354/register)"
      ],
      "text/plain": [
       "<IPython.core.display.Markdown object>"
      ]
     },
     "metadata": {},
     "output_type": "display_data"
    },
    {
     "data": {
      "text/markdown": [
       "match score: 0.67"
      ],
      "text/plain": [
       "<IPython.core.display.Markdown object>"
      ]
     },
     "metadata": {},
     "output_type": "display_data"
    },
    {
     "data": {
      "text/markdown": [
       ">Order. I must remind Members that contributions are made through the Chair, so it is important to make eye contact with the Chair rather than with the Minister on the Front Bench."
      ],
      "text/plain": [
       "<IPython.core.display.Markdown object>"
      ]
     },
     "metadata": {},
     "output_type": "display_data"
    },
    {
     "data": {
      "text/markdown": [
       "## Rushanara Ali (24958)"
      ],
      "text/plain": [
       "<IPython.core.display.Markdown object>"
      ]
     },
     "metadata": {},
     "output_type": "display_data"
    },
    {
     "data": {
      "text/markdown": [
       "[Debate link](https://www.theyworkforyou.com/debates/?id=2024-09-11b.854.1) | [Register link](https://www.theyworkforyou.com/mp/24958/register)"
      ],
      "text/plain": [
       "<IPython.core.display.Markdown object>"
      ]
     },
     "metadata": {},
     "output_type": "display_data"
    },
    {
     "data": {
      "text/markdown": [
       "match score: 0.66"
      ],
      "text/plain": [
       "<IPython.core.display.Markdown object>"
      ]
     },
     "metadata": {},
     "output_type": "display_data"
    },
    {
     "data": {
      "text/markdown": [
       ">The money is there"
      ],
      "text/plain": [
       "<IPython.core.display.Markdown object>"
      ]
     },
     "metadata": {},
     "output_type": "display_data"
    },
    {
     "data": {
      "text/markdown": [
       "## Hilary Benn (10669)"
      ],
      "text/plain": [
       "<IPython.core.display.Markdown object>"
      ]
     },
     "metadata": {},
     "output_type": "display_data"
    },
    {
     "data": {
      "text/markdown": [
       "[Debate link](https://www.theyworkforyou.com/debates/?id=2024-09-11b.846.2) | [Register link](https://www.theyworkforyou.com/mp/10669/register)"
      ],
      "text/plain": [
       "<IPython.core.display.Markdown object>"
      ]
     },
     "metadata": {},
     "output_type": "display_data"
    },
    {
     "data": {
      "text/markdown": [
       "match score: 0.66"
      ],
      "text/plain": [
       "<IPython.core.display.Markdown object>"
      ]
     },
     "metadata": {},
     "output_type": "display_data"
    },
    {
     "data": {
      "text/markdown": [
       ">The hon. Member has alluded to a number of cases. Of course, we are awaiting the final report on Operation Kenova, the interim report having been published early this year. I undertake and make a  commitment, as any holder of this office would do, to carefully consider each individual case and reach what I think is a sensible way forward. Collectively, there is a huge task for all of us in playing our part in enabling families to find out answers that they have not yet had."
      ],
      "text/plain": [
       "<IPython.core.display.Markdown object>"
      ]
     },
     "metadata": {},
     "output_type": "display_data"
    },
    {
     "data": {
      "text/markdown": [
       "## Alex Norris (25687)"
      ],
      "text/plain": [
       "<IPython.core.display.Markdown object>"
      ]
     },
     "metadata": {},
     "output_type": "display_data"
    },
    {
     "data": {
      "text/markdown": [
       "[Debate link](https://www.theyworkforyou.com/debates/?id=2024-09-11b.927.3) | [Register link](https://www.theyworkforyou.com/mp/25687/register)"
      ],
      "text/plain": [
       "<IPython.core.display.Markdown object>"
      ]
     },
     "metadata": {},
     "output_type": "display_data"
    },
    {
     "data": {
      "text/markdown": [
       "match score: 0.66"
      ],
      "text/plain": [
       "<IPython.core.display.Markdown object>"
      ]
     },
     "metadata": {},
     "output_type": "display_data"
    },
    {
     "data": {
      "text/markdown": [
       ">On service charges, by law, variable service charges must be reasonable. As colleagues have raised, that has been stretched significantly by some of the practices we have seen. The Leasehold and Freehold Reform Act 2024 contains measures to ensure that leaseholders get key financial and non-financial information so that they can scrutinise and hold to account the organisations that they are working with on service charges. Not all of that legislation has been commenced; secondary legislation is required, but we are working on that actively. We just want to get it right."
      ],
      "text/plain": [
       "<IPython.core.display.Markdown object>"
      ]
     },
     "metadata": {},
     "output_type": "display_data"
    },
    {
     "data": {
      "text/markdown": [
       "## Lindsay Hoyle (10295)"
      ],
      "text/plain": [
       "<IPython.core.display.Markdown object>"
      ]
     },
     "metadata": {},
     "output_type": "display_data"
    },
    {
     "data": {
      "text/markdown": [
       "[Debate link](https://www.theyworkforyou.com/debates/?id=2024-09-11b.832.0) | [Register link](https://www.theyworkforyou.com/mp/10295/register)"
      ],
      "text/plain": [
       "<IPython.core.display.Markdown object>"
      ]
     },
     "metadata": {},
     "output_type": "display_data"
    },
    {
     "data": {
      "text/markdown": [
       "match score: 0.66"
      ],
      "text/plain": [
       "<IPython.core.display.Markdown object>"
      ]
     },
     "metadata": {},
     "output_type": "display_data"
    },
    {
     "data": {
      "text/markdown": [
       ">I call the Chair of the Business and Trade Committee"
      ],
      "text/plain": [
       "<IPython.core.display.Markdown object>"
      ]
     },
     "metadata": {},
     "output_type": "display_data"
    },
    {
     "data": {
      "text/markdown": [
       "## Hilary Benn (10669)"
      ],
      "text/plain": [
       "<IPython.core.display.Markdown object>"
      ]
     },
     "metadata": {},
     "output_type": "display_data"
    },
    {
     "data": {
      "text/markdown": [
       "[Debate link](https://www.theyworkforyou.com/debates/?id=2024-09-11b.846.2) | [Register link](https://www.theyworkforyou.com/mp/10669/register)"
      ],
      "text/plain": [
       "<IPython.core.display.Markdown object>"
      ]
     },
     "metadata": {},
     "output_type": "display_data"
    },
    {
     "data": {
      "text/markdown": [
       "match score: 0.66"
      ],
      "text/plain": [
       "<IPython.core.display.Markdown object>"
      ]
     },
     "metadata": {},
     "output_type": "display_data"
    },
    {
     "data": {
      "text/markdown": [
       ">The hon Member has alluded to a number of cases"
      ],
      "text/plain": [
       "<IPython.core.display.Markdown object>"
      ]
     },
     "metadata": {},
     "output_type": "display_data"
    },
    {
     "data": {
      "text/markdown": [
       "## Barry Gardiner (10220)"
      ],
      "text/plain": [
       "<IPython.core.display.Markdown object>"
      ]
     },
     "metadata": {},
     "output_type": "display_data"
    },
    {
     "data": {
      "text/markdown": [
       "[Debate link](https://www.theyworkforyou.com/debates/?id=2024-09-11b.926.4) | [Register link](https://www.theyworkforyou.com/mp/10220/register)"
      ],
      "text/plain": [
       "<IPython.core.display.Markdown object>"
      ]
     },
     "metadata": {},
     "output_type": "display_data"
    },
    {
     "data": {
      "text/markdown": [
       "match score: 0.66"
      ],
      "text/plain": [
       "<IPython.core.display.Markdown object>"
      ]
     },
     "metadata": {},
     "output_type": "display_data"
    },
    {
     "data": {
      "text/markdown": [
       ">What action will my hon Friend and the Government take to ensure that one set of standards is applied in one particular way and is not subject to trading? Saying “We will give you a shortcut if you come to us” is what went on, but it is wrong and needs to stop"
      ],
      "text/plain": [
       "<IPython.core.display.Markdown object>"
      ]
     },
     "metadata": {},
     "output_type": "display_data"
    },
    {
     "data": {
      "text/markdown": [
       "## Jonathan Reynolds (24929)"
      ],
      "text/plain": [
       "<IPython.core.display.Markdown object>"
      ]
     },
     "metadata": {},
     "output_type": "display_data"
    },
    {
     "data": {
      "text/markdown": [
       "[Debate link](https://www.theyworkforyou.com/debates/?id=2024-09-11b.834.1) | [Register link](https://www.theyworkforyou.com/mp/24929/register)"
      ],
      "text/plain": [
       "<IPython.core.display.Markdown object>"
      ]
     },
     "metadata": {},
     "output_type": "display_data"
    },
    {
     "data": {
      "text/markdown": [
       "match score: 0.66"
      ],
      "text/plain": [
       "<IPython.core.display.Markdown object>"
      ]
     },
     "metadata": {},
     "output_type": "display_data"
    },
    {
     "data": {
      "text/markdown": [
       ">I am grateful to the right hon. Member for her questions. We will see the strategy in spring next year and the resources behind it, including the existing Government allocation for Port Talbot and the new money that the Government will put in. It is a £3 billion clean steel fund, so it is a significant investment. Obviously, I want a certain amount of return from that. I want to work with private sector partners. The kind of capital expenditure that is involved in the transition to green steel requires very significant partners who can deliver. It is not just a question of the Government doing this alone, and I think hon. Members recognise that. Steel safeguards are important. The right hon. Lady will know that steel is a significant part of the existing Trade Remedies Authority protections, many of which relate to China, but not exclusively so, and we keep them under regular review."
      ],
      "text/plain": [
       "<IPython.core.display.Markdown object>"
      ]
     },
     "metadata": {},
     "output_type": "display_data"
    },
    {
     "data": {
      "text/markdown": [
       "## Lindsay Hoyle (10295)"
      ],
      "text/plain": [
       "<IPython.core.display.Markdown object>"
      ]
     },
     "metadata": {},
     "output_type": "display_data"
    },
    {
     "data": {
      "text/markdown": [
       "[Debate link](https://www.theyworkforyou.com/debates/?id=2024-09-11b.931.1) | [Register link](https://www.theyworkforyou.com/mp/10295/register)"
      ],
      "text/plain": [
       "<IPython.core.display.Markdown object>"
      ]
     },
     "metadata": {},
     "output_type": "display_data"
    },
    {
     "data": {
      "text/markdown": [
       "match score: 0.65"
      ],
      "text/plain": [
       "<IPython.core.display.Markdown object>"
      ]
     },
     "metadata": {},
     "output_type": "display_data"
    },
    {
     "data": {
      "text/markdown": [
       ">The Members elected take up their positions formally when their Committee has been nominated by the House"
      ],
      "text/plain": [
       "<IPython.core.display.Markdown object>"
      ]
     },
     "metadata": {},
     "output_type": "display_data"
    },
    {
     "data": {
      "text/markdown": [
       "## Joe Powell (26477)"
      ],
      "text/plain": [
       "<IPython.core.display.Markdown object>"
      ]
     },
     "metadata": {},
     "output_type": "display_data"
    },
    {
     "data": {
      "text/markdown": [
       "[Debate link](https://www.theyworkforyou.com/debates/?id=2024-09-11b.868.0) | [Register link](https://www.theyworkforyou.com/mp/26477/register)"
      ],
      "text/plain": [
       "<IPython.core.display.Markdown object>"
      ]
     },
     "metadata": {},
     "output_type": "display_data"
    },
    {
     "data": {
      "text/markdown": [
       "match score: 0.65"
      ],
      "text/plain": [
       "<IPython.core.display.Markdown object>"
      ]
     },
     "metadata": {},
     "output_type": "display_data"
    },
    {
     "data": {
      "text/markdown": [
       ">This is a good example of what many Members have mentioned"
      ],
      "text/plain": [
       "<IPython.core.display.Markdown object>"
      ]
     },
     "metadata": {},
     "output_type": "display_data"
    },
    {
     "data": {
      "text/markdown": [
       "# 2024-09-10"
      ],
      "text/plain": [
       "<IPython.core.display.Markdown object>"
      ]
     },
     "metadata": {},
     "output_type": "display_data"
    },
    {
     "data": {
      "text/markdown": [
       "## Dan Carden (25642)"
      ],
      "text/plain": [
       "<IPython.core.display.Markdown object>"
      ]
     },
     "metadata": {},
     "output_type": "display_data"
    },
    {
     "data": {
      "text/markdown": [
       "[Debate link](https://www.theyworkforyou.com/debates/?id=2024-09-10a.675.7) | [Register link](https://www.theyworkforyou.com/mp/25642/register)"
      ],
      "text/plain": [
       "<IPython.core.display.Markdown object>"
      ]
     },
     "metadata": {},
     "output_type": "display_data"
    },
    {
     "data": {
      "text/markdown": [
       "match score: 0.87"
      ],
      "text/plain": [
       "<IPython.core.display.Markdown object>"
      ]
     },
     "metadata": {},
     "output_type": "display_data"
    },
    {
     "data": {
      "text/markdown": [
       ">I refer hon Members to my entry in the Register of Members’ Financial Interests"
      ],
      "text/plain": [
       "<IPython.core.display.Markdown object>"
      ]
     },
     "metadata": {},
     "output_type": "display_data"
    },
    {
     "data": {
      "text/markdown": [
       "## Caroline Nokes (24809)"
      ],
      "text/plain": [
       "<IPython.core.display.Markdown object>"
      ]
     },
     "metadata": {},
     "output_type": "display_data"
    },
    {
     "data": {
      "text/markdown": [
       "[Debate link](https://www.theyworkforyou.com/debates/?id=2024-09-10a.766.3) | [Register link](https://www.theyworkforyou.com/mp/24809/register)"
      ],
      "text/plain": [
       "<IPython.core.display.Markdown object>"
      ]
     },
     "metadata": {},
     "output_type": "display_data"
    },
    {
     "data": {
      "text/markdown": [
       "match score: 0.75"
      ],
      "text/plain": [
       "<IPython.core.display.Markdown object>"
      ]
     },
     "metadata": {},
     "output_type": "display_data"
    },
    {
     "data": {
      "text/markdown": [
       ">As the hon Member will know, it is for individual Members to declare their interests, if one is applicable"
      ],
      "text/plain": [
       "<IPython.core.display.Markdown object>"
      ]
     },
     "metadata": {},
     "output_type": "display_data"
    },
    {
     "data": {
      "text/markdown": [
       "## Caroline Nokes (24809)"
      ],
      "text/plain": [
       "<IPython.core.display.Markdown object>"
      ]
     },
     "metadata": {},
     "output_type": "display_data"
    },
    {
     "data": {
      "text/markdown": [
       "[Debate link](https://www.theyworkforyou.com/debates/?id=2024-09-10a.766.3) | [Register link](https://www.theyworkforyou.com/mp/24809/register)"
      ],
      "text/plain": [
       "<IPython.core.display.Markdown object>"
      ]
     },
     "metadata": {},
     "output_type": "display_data"
    },
    {
     "data": {
      "text/markdown": [
       "match score: 0.75"
      ],
      "text/plain": [
       "<IPython.core.display.Markdown object>"
      ]
     },
     "metadata": {},
     "output_type": "display_data"
    },
    {
     "data": {
      "text/markdown": [
       ">As the hon. Member will know, it is for individual Members to declare their interests, if one is applicable."
      ],
      "text/plain": [
       "<IPython.core.display.Markdown object>"
      ]
     },
     "metadata": {},
     "output_type": "display_data"
    },
    {
     "data": {
      "text/markdown": [
       "## Luke Evans (25805)"
      ],
      "text/plain": [
       "<IPython.core.display.Markdown object>"
      ]
     },
     "metadata": {},
     "output_type": "display_data"
    },
    {
     "data": {
      "text/markdown": [
       "[Debate link](https://www.theyworkforyou.com/debates/?id=2024-09-10a.766.0) | [Register link](https://www.theyworkforyou.com/mp/25805/register)"
      ],
      "text/plain": [
       "<IPython.core.display.Markdown object>"
      ]
     },
     "metadata": {},
     "output_type": "display_data"
    },
    {
     "data": {
      "text/markdown": [
       "match score: 0.69"
      ],
      "text/plain": [
       "<IPython.core.display.Markdown object>"
      ]
     },
     "metadata": {},
     "output_type": "display_data"
    },
    {
     "data": {
      "text/markdown": [
       ">On a point of order, Madam Deputy Speaker. I seek your guidance. I was under the impression that in the Chamber we should refer to Members, Friends or even the constituency. Is that correct?"
      ],
      "text/plain": [
       "<IPython.core.display.Markdown object>"
      ]
     },
     "metadata": {},
     "output_type": "display_data"
    },
    {
     "data": {
      "text/markdown": [
       "## Nick Timothy (26335)"
      ],
      "text/plain": [
       "<IPython.core.display.Markdown object>"
      ]
     },
     "metadata": {},
     "output_type": "display_data"
    },
    {
     "data": {
      "text/markdown": [
       "[Debate link](https://www.theyworkforyou.com/debates/?id=2024-09-10a.766.2) | [Register link](https://www.theyworkforyou.com/mp/26335/register)"
      ],
      "text/plain": [
       "<IPython.core.display.Markdown object>"
      ]
     },
     "metadata": {},
     "output_type": "display_data"
    },
    {
     "data": {
      "text/markdown": [
       "match score: 0.69"
      ],
      "text/plain": [
       "<IPython.core.display.Markdown object>"
      ]
     },
     "metadata": {},
     "output_type": "display_data"
    },
    {
     "data": {
      "text/markdown": [
       ">Before other Members give speeches about issues such as public sector pay, would it not be in order for them to declare that interest at the beginning of their speeches?"
      ],
      "text/plain": [
       "<IPython.core.display.Markdown object>"
      ]
     },
     "metadata": {},
     "output_type": "display_data"
    },
    {
     "data": {
      "text/markdown": [
       "## Emma Reynolds (24868)"
      ],
      "text/plain": [
       "<IPython.core.display.Markdown object>"
      ]
     },
     "metadata": {},
     "output_type": "display_data"
    },
    {
     "data": {
      "text/markdown": [
       "[Debate link](https://www.theyworkforyou.com/debates/?id=2024-09-10a.789.2) | [Register link](https://www.theyworkforyou.com/mp/24868/register)"
      ],
      "text/plain": [
       "<IPython.core.display.Markdown object>"
      ]
     },
     "metadata": {},
     "output_type": "display_data"
    },
    {
     "data": {
      "text/markdown": [
       "match score: 0.69"
      ],
      "text/plain": [
       "<IPython.core.display.Markdown object>"
      ]
     },
     "metadata": {},
     "output_type": "display_data"
    },
    {
     "data": {
      "text/markdown": [
       ">Many hon. Members, both on—"
      ],
      "text/plain": [
       "<IPython.core.display.Markdown object>"
      ]
     },
     "metadata": {},
     "output_type": "display_data"
    },
    {
     "data": {
      "text/markdown": [
       "## Jim Shannon (13864)"
      ],
      "text/plain": [
       "<IPython.core.display.Markdown object>"
      ]
     },
     "metadata": {},
     "output_type": "display_data"
    },
    {
     "data": {
      "text/markdown": [
       "[Debate link](https://www.theyworkforyou.com/debates/?id=2024-09-10a.761.4) | [Register link](https://www.theyworkforyou.com/mp/13864/register)"
      ],
      "text/plain": [
       "<IPython.core.display.Markdown object>"
      ]
     },
     "metadata": {},
     "output_type": "display_data"
    },
    {
     "data": {
      "text/markdown": [
       "match score: 0.68"
      ],
      "text/plain": [
       "<IPython.core.display.Markdown object>"
      ]
     },
     "metadata": {},
     "output_type": "display_data"
    },
    {
     "data": {
      "text/markdown": [
       ">It should be direct face-to-face applications for pension credit"
      ],
      "text/plain": [
       "<IPython.core.display.Markdown object>"
      ]
     },
     "metadata": {},
     "output_type": "display_data"
    },
    {
     "data": {
      "text/markdown": [
       "## Meg Hillier (11605)"
      ],
      "text/plain": [
       "<IPython.core.display.Markdown object>"
      ]
     },
     "metadata": {},
     "output_type": "display_data"
    },
    {
     "data": {
      "text/markdown": [
       "[Debate link](https://www.theyworkforyou.com/debates/?id=2024-09-10a.715.2) | [Register link](https://www.theyworkforyou.com/mp/11605/register)"
      ],
      "text/plain": [
       "<IPython.core.display.Markdown object>"
      ]
     },
     "metadata": {},
     "output_type": "display_data"
    },
    {
     "data": {
      "text/markdown": [
       "match score: 0.68"
      ],
      "text/plain": [
       "<IPython.core.display.Markdown object>"
      ]
     },
     "metadata": {},
     "output_type": "display_data"
    },
    {
     "data": {
      "text/markdown": [
       ">Before I start, I want to thank the House for putting its confidence in me to chair the Treasury Committee for the term of this Parliament. I am the servant of this House, and I will question without fear or favour those who appear before us. I look forward to engaging with the new Members I have yet to get to know. I also declare an interest: my husband has been in receipt of the winter fuel allowance, but if the vote changes that today, he will no longer receive it. For his own vanity, I should add that it is the lower limit."
      ],
      "text/plain": [
       "<IPython.core.display.Markdown object>"
      ]
     },
     "metadata": {},
     "output_type": "display_data"
    },
    {
     "data": {
      "text/markdown": [
       "## Emma Reynolds (24868)"
      ],
      "text/plain": [
       "<IPython.core.display.Markdown object>"
      ]
     },
     "metadata": {},
     "output_type": "display_data"
    },
    {
     "data": {
      "text/markdown": [
       "[Debate link](https://www.theyworkforyou.com/debates/?id=2024-09-10a.789.0) | [Register link](https://www.theyworkforyou.com/mp/24868/register)"
      ],
      "text/plain": [
       "<IPython.core.display.Markdown object>"
      ]
     },
     "metadata": {},
     "output_type": "display_data"
    },
    {
     "data": {
      "text/markdown": [
       "match score: 0.68"
      ],
      "text/plain": [
       "<IPython.core.display.Markdown object>"
      ]
     },
     "metadata": {},
     "output_type": "display_data"
    },
    {
     "data": {
      "text/markdown": [
       ">Many hon Members, both on—"
      ],
      "text/plain": [
       "<IPython.core.display.Markdown object>"
      ]
     },
     "metadata": {},
     "output_type": "display_data"
    },
    {
     "data": {
      "text/markdown": [
       "## Emma Reynolds (24868)"
      ],
      "text/plain": [
       "<IPython.core.display.Markdown object>"
      ]
     },
     "metadata": {},
     "output_type": "display_data"
    },
    {
     "data": {
      "text/markdown": [
       "[Debate link](https://www.theyworkforyou.com/debates/?id=2024-09-10a.789.2) | [Register link](https://www.theyworkforyou.com/mp/24868/register)"
      ],
      "text/plain": [
       "<IPython.core.display.Markdown object>"
      ]
     },
     "metadata": {},
     "output_type": "display_data"
    },
    {
     "data": {
      "text/markdown": [
       "match score: 0.68"
      ],
      "text/plain": [
       "<IPython.core.display.Markdown object>"
      ]
     },
     "metadata": {},
     "output_type": "display_data"
    },
    {
     "data": {
      "text/markdown": [
       ">Many hon Members, both on—"
      ],
      "text/plain": [
       "<IPython.core.display.Markdown object>"
      ]
     },
     "metadata": {},
     "output_type": "display_data"
    },
    {
     "data": {
      "text/markdown": [
       "## Nick Timothy (26335)"
      ],
      "text/plain": [
       "<IPython.core.display.Markdown object>"
      ]
     },
     "metadata": {},
     "output_type": "display_data"
    },
    {
     "data": {
      "text/markdown": [
       "[Debate link](https://www.theyworkforyou.com/debates/?id=2024-09-10a.766.2) | [Register link](https://www.theyworkforyou.com/mp/26335/register)"
      ],
      "text/plain": [
       "<IPython.core.display.Markdown object>"
      ]
     },
     "metadata": {},
     "output_type": "display_data"
    },
    {
     "data": {
      "text/markdown": [
       "match score: 0.67"
      ],
      "text/plain": [
       "<IPython.core.display.Markdown object>"
      ]
     },
     "metadata": {},
     "output_type": "display_data"
    },
    {
     "data": {
      "text/markdown": [
       ">On a point of order, Madam Deputy Speaker. I would like advice from the Chair, please. Reportedly, more than 200 Labour MPs received more than £2 million in donations before the election from the trade unions. Before other Members give speeches about issues such as public sector pay, would it not be in order for them to declare that interest at the beginning of their speeches?"
      ],
      "text/plain": [
       "<IPython.core.display.Markdown object>"
      ]
     },
     "metadata": {},
     "output_type": "display_data"
    },
    {
     "data": {
      "text/markdown": [
       "## James Murray (25801)"
      ],
      "text/plain": [
       "<IPython.core.display.Markdown object>"
      ]
     },
     "metadata": {},
     "output_type": "display_data"
    },
    {
     "data": {
      "text/markdown": [
       "[Debate link](https://www.theyworkforyou.com/debates/?id=2024-09-10a.746.4) | [Register link](https://www.theyworkforyou.com/mp/25801/register)"
      ],
      "text/plain": [
       "<IPython.core.display.Markdown object>"
      ]
     },
     "metadata": {},
     "output_type": "display_data"
    },
    {
     "data": {
      "text/markdown": [
       "match score: 0.67"
      ],
      "text/plain": [
       "<IPython.core.display.Markdown object>"
      ]
     },
     "metadata": {},
     "output_type": "display_data"
    },
    {
     "data": {
      "text/markdown": [
       ">Let me put it in financial terms"
      ],
      "text/plain": [
       "<IPython.core.display.Markdown object>"
      ]
     },
     "metadata": {},
     "output_type": "display_data"
    },
    {
     "data": {
      "text/markdown": [
       "## Dan Carden (25642)"
      ],
      "text/plain": [
       "<IPython.core.display.Markdown object>"
      ]
     },
     "metadata": {},
     "output_type": "display_data"
    },
    {
     "data": {
      "text/markdown": [
       "[Debate link](https://www.theyworkforyou.com/debates/?id=2024-09-10a.675.7) | [Register link](https://www.theyworkforyou.com/mp/25642/register)"
      ],
      "text/plain": [
       "<IPython.core.display.Markdown object>"
      ]
     },
     "metadata": {},
     "output_type": "display_data"
    },
    {
     "data": {
      "text/markdown": [
       "match score: 0.66"
      ],
      "text/plain": [
       "<IPython.core.display.Markdown object>"
      ]
     },
     "metadata": {},
     "output_type": "display_data"
    },
    {
     "data": {
      "text/markdown": [
       ">I refer hon. Members to my entry in the Register of Members’ Financial Interests. One way to reduce pressure on numbers is to treat more offenders with drug and alcohol addictions outside the prison estate. That reduces prisoner numbers and reduces reoffending, which means fewer victims and fewer people returning to prison. Such a system is operating successfully in many parts of the country, but it requires the highest quality treatment. It also requires probation to work well, otherwise magistrates are limited in their choices. May I encourage the Secretary of State to get hold of Dame Carol Black’s internal review of treatment and recovery of drug-dependent people in the secure estate if she has not already done so? I have not seen it, obviously, but I am certain that it will contain many excellent recommendations."
      ],
      "text/plain": [
       "<IPython.core.display.Markdown object>"
      ]
     },
     "metadata": {},
     "output_type": "display_data"
    },
    {
     "data": {
      "text/markdown": [
       "## Caroline Nokes (24809)"
      ],
      "text/plain": [
       "<IPython.core.display.Markdown object>"
      ]
     },
     "metadata": {},
     "output_type": "display_data"
    },
    {
     "data": {
      "text/markdown": [
       "[Debate link](https://www.theyworkforyou.com/debates/?id=2024-09-10a.757.3) | [Register link](https://www.theyworkforyou.com/mp/24809/register)"
      ],
      "text/plain": [
       "<IPython.core.display.Markdown object>"
      ]
     },
     "metadata": {},
     "output_type": "display_data"
    },
    {
     "data": {
      "text/markdown": [
       "match score: 0.66"
      ],
      "text/plain": [
       "<IPython.core.display.Markdown object>"
      ]
     },
     "metadata": {},
     "output_type": "display_data"
    },
    {
     "data": {
      "text/markdown": [
       ">Please can Members remember that?"
      ],
      "text/plain": [
       "<IPython.core.display.Markdown object>"
      ]
     },
     "metadata": {},
     "output_type": "display_data"
    },
    {
     "data": {
      "text/markdown": [
       "## Luke Evans (25805)"
      ],
      "text/plain": [
       "<IPython.core.display.Markdown object>"
      ]
     },
     "metadata": {},
     "output_type": "display_data"
    },
    {
     "data": {
      "text/markdown": [
       "[Debate link](https://www.theyworkforyou.com/debates/?id=2024-09-10a.766.0) | [Register link](https://www.theyworkforyou.com/mp/25805/register)"
      ],
      "text/plain": [
       "<IPython.core.display.Markdown object>"
      ]
     },
     "metadata": {},
     "output_type": "display_data"
    },
    {
     "data": {
      "text/markdown": [
       "match score: 0.66"
      ],
      "text/plain": [
       "<IPython.core.display.Markdown object>"
      ]
     },
     "metadata": {},
     "output_type": "display_data"
    },
    {
     "data": {
      "text/markdown": [
       ">I was under the impression that in the Chamber we should refer to Members, Friends or even the constituency"
      ],
      "text/plain": [
       "<IPython.core.display.Markdown object>"
      ]
     },
     "metadata": {},
     "output_type": "display_data"
    },
    {
     "data": {
      "text/markdown": [
       "## Mel Stride (24914)"
      ],
      "text/plain": [
       "<IPython.core.display.Markdown object>"
      ]
     },
     "metadata": {},
     "output_type": "display_data"
    },
    {
     "data": {
      "text/markdown": [
       "[Debate link](https://www.theyworkforyou.com/debates/?id=2024-09-10a.713.1) | [Register link](https://www.theyworkforyou.com/mp/24914/register)"
      ],
      "text/plain": [
       "<IPython.core.display.Markdown object>"
      ]
     },
     "metadata": {},
     "output_type": "display_data"
    },
    {
     "data": {
      "text/markdown": [
       "match score: 0.66"
      ],
      "text/plain": [
       "<IPython.core.display.Markdown object>"
      ]
     },
     "metadata": {},
     "output_type": "display_data"
    },
    {
     "data": {
      "text/markdown": [
       ">I will in a moment. We do not know what the impact will be across the income distribution. No Member of this House knows what the impact will be within their own constituency. We do not know what the recommendation of the Social Security Advisory Committee will be. Why? Because it will not be given the information until tomorrow, we are told. And of course, the measure does not form part of what it should: a major fiscal event with the Office for Budget Responsibility scoring it and an economic and fiscal outlook accompanying it."
      ],
      "text/plain": [
       "<IPython.core.display.Markdown object>"
      ]
     },
     "metadata": {},
     "output_type": "display_data"
    },
    {
     "data": {
      "text/markdown": [
       "## Graham Stuart (11406)"
      ],
      "text/plain": [
       "<IPython.core.display.Markdown object>"
      ]
     },
     "metadata": {},
     "output_type": "display_data"
    },
    {
     "data": {
      "text/markdown": [
       "[Debate link](https://www.theyworkforyou.com/debates/?id=2024-09-10a.792.2) | [Register link](https://www.theyworkforyou.com/mp/11406/register)"
      ],
      "text/plain": [
       "<IPython.core.display.Markdown object>"
      ]
     },
     "metadata": {},
     "output_type": "display_data"
    },
    {
     "data": {
      "text/markdown": [
       "match score: 0.66"
      ],
      "text/plain": [
       "<IPython.core.display.Markdown object>"
      ]
     },
     "metadata": {},
     "output_type": "display_data"
    },
    {
     "data": {
      "text/markdown": [
       ">Yes, Madam Deputy Speaker. I just want some guidance from you on whether it can be appropriate for Ministers and others on the Government Benches who have been directly funded by the trade unions not to declare that personal benefit before doing something like this, which is hurting millions of pensioners."
      ],
      "text/plain": [
       "<IPython.core.display.Markdown object>"
      ]
     },
     "metadata": {},
     "output_type": "display_data"
    },
    {
     "data": {
      "text/markdown": [
       "## Helena Dollimore (26507)"
      ],
      "text/plain": [
       "<IPython.core.display.Markdown object>"
      ]
     },
     "metadata": {},
     "output_type": "display_data"
    },
    {
     "data": {
      "text/markdown": [
       "[Debate link](https://www.theyworkforyou.com/debates/?id=2024-09-10a.730.1) | [Register link](https://www.theyworkforyou.com/mp/26507/register)"
      ],
      "text/plain": [
       "<IPython.core.display.Markdown object>"
      ]
     },
     "metadata": {},
     "output_type": "display_data"
    },
    {
     "data": {
      "text/markdown": [
       "match score: 0.66"
      ],
      "text/plain": [
       "<IPython.core.display.Markdown object>"
      ]
     },
     "metadata": {},
     "output_type": "display_data"
    },
    {
     "data": {
      "text/markdown": [
       ">Will the hon Member give way?"
      ],
      "text/plain": [
       "<IPython.core.display.Markdown object>"
      ]
     },
     "metadata": {},
     "output_type": "display_data"
    },
    {
     "data": {
      "text/markdown": [
       "## Wendy Chamberlain (25872)"
      ],
      "text/plain": [
       "<IPython.core.display.Markdown object>"
      ]
     },
     "metadata": {},
     "output_type": "display_data"
    },
    {
     "data": {
      "text/markdown": [
       "[Debate link](https://www.theyworkforyou.com/debates/?id=2024-09-10a.722.1) | [Register link](https://www.theyworkforyou.com/mp/25872/register)"
      ],
      "text/plain": [
       "<IPython.core.display.Markdown object>"
      ]
     },
     "metadata": {},
     "output_type": "display_data"
    },
    {
     "data": {
      "text/markdown": [
       "match score: 0.66"
      ],
      "text/plain": [
       "<IPython.core.display.Markdown object>"
      ]
     },
     "metadata": {},
     "output_type": "display_data"
    },
    {
     "data": {
      "text/markdown": [
       ">We know the questionnaires that are needed for pension credit"
      ],
      "text/plain": [
       "<IPython.core.display.Markdown object>"
      ]
     },
     "metadata": {},
     "output_type": "display_data"
    },
    {
     "data": {
      "text/markdown": [
       "## Emma Reynolds (24868)"
      ],
      "text/plain": [
       "<IPython.core.display.Markdown object>"
      ]
     },
     "metadata": {},
     "output_type": "display_data"
    },
    {
     "data": {
      "text/markdown": [
       "[Debate link](https://www.theyworkforyou.com/debates/?id=2024-09-10a.790.2) | [Register link](https://www.theyworkforyou.com/mp/24868/register)"
      ],
      "text/plain": [
       "<IPython.core.display.Markdown object>"
      ]
     },
     "metadata": {},
     "output_type": "display_data"
    },
    {
     "data": {
      "text/markdown": [
       "match score: 0.66"
      ],
      "text/plain": [
       "<IPython.core.display.Markdown object>"
      ]
     },
     "metadata": {},
     "output_type": "display_data"
    },
    {
     "data": {
      "text/markdown": [
       ">We are taking immediate action to increase that take-up, given that up to an estimated 880,000 eligible pensioners are missing out on this support, worth £3,900 on average. I hope there can be some consensus across the House that we need to work together to boost that uptake. That is why last week we launched an initial pension credit week of action to boost awareness. We will continue to raise awareness until the deadline, 21 December, for making a successful backdated pension credit claim."
      ],
      "text/plain": [
       "<IPython.core.display.Markdown object>"
      ]
     },
     "metadata": {},
     "output_type": "display_data"
    },
    {
     "data": {
      "text/markdown": [
       "## Lucy Rigby (26596)"
      ],
      "text/plain": [
       "<IPython.core.display.Markdown object>"
      ]
     },
     "metadata": {},
     "output_type": "display_data"
    },
    {
     "data": {
      "text/markdown": [
       "[Debate link](https://www.theyworkforyou.com/debates/?id=2024-09-10a.733.0) | [Register link](https://www.theyworkforyou.com/mp/26596/register)"
      ],
      "text/plain": [
       "<IPython.core.display.Markdown object>"
      ]
     },
     "metadata": {},
     "output_type": "display_data"
    },
    {
     "data": {
      "text/markdown": [
       "match score: 0.65"
      ],
      "text/plain": [
       "<IPython.core.display.Markdown object>"
      ]
     },
     "metadata": {},
     "output_type": "display_data"
    },
    {
     "data": {
      "text/markdown": [
       ">I am grateful to the Secretary of State for giving way. Pension credit uptake is clearly critically important. From discussions I have had in my constituency, I know there are some myths around pension credit eligibility. Will the Secretary of State please confirm the efforts she is making on pension credit uptake, and does she agree with me that it is vital we ensure everyone who is eligible for pension credit receives it?"
      ],
      "text/plain": [
       "<IPython.core.display.Markdown object>"
      ]
     },
     "metadata": {},
     "output_type": "display_data"
    },
    {
     "data": {
      "text/markdown": [
       "## Dr Caroline Johnson (25597)"
      ],
      "text/plain": [
       "<IPython.core.display.Markdown object>"
      ]
     },
     "metadata": {},
     "output_type": "display_data"
    },
    {
     "data": {
      "text/markdown": [
       "[Debate link](https://www.theyworkforyou.com/debates/?id=2024-09-10a.727.0) | [Register link](https://www.theyworkforyou.com/mp/25597/register)"
      ],
      "text/plain": [
       "<IPython.core.display.Markdown object>"
      ]
     },
     "metadata": {},
     "output_type": "display_data"
    },
    {
     "data": {
      "text/markdown": [
       "match score: 0.65"
      ],
      "text/plain": [
       "<IPython.core.display.Markdown object>"
      ]
     },
     "metadata": {},
     "output_type": "display_data"
    },
    {
     "data": {
      "text/markdown": [
       ">A number of reports that Members may read demonstrate that"
      ],
      "text/plain": [
       "<IPython.core.display.Markdown object>"
      ]
     },
     "metadata": {},
     "output_type": "display_data"
    },
    {
     "data": {
      "text/markdown": [
       "## Sam Rushworth (26323)"
      ],
      "text/plain": [
       "<IPython.core.display.Markdown object>"
      ]
     },
     "metadata": {},
     "output_type": "display_data"
    },
    {
     "data": {
      "text/markdown": [
       "[Debate link](https://www.theyworkforyou.com/debates/?id=2024-09-10a.758.2) | [Register link](https://www.theyworkforyou.com/mp/26323/register)"
      ],
      "text/plain": [
       "<IPython.core.display.Markdown object>"
      ]
     },
     "metadata": {},
     "output_type": "display_data"
    },
    {
     "data": {
      "text/markdown": [
       "match score: 0.65"
      ],
      "text/plain": [
       "<IPython.core.display.Markdown object>"
      ]
     },
     "metadata": {},
     "output_type": "display_data"
    },
    {
     "data": {
      "text/markdown": [
       ">Members: “Because of us"
      ],
      "text/plain": [
       "<IPython.core.display.Markdown object>"
      ]
     },
     "metadata": {},
     "output_type": "display_data"
    },
    {
     "data": {
      "text/markdown": [
       "# 2024-09-09"
      ],
      "text/plain": [
       "<IPython.core.display.Markdown object>"
      ]
     },
     "metadata": {},
     "output_type": "display_data"
    },
    {
     "data": {
      "text/markdown": [
       "## Greg Smith (25925)"
      ],
      "text/plain": [
       "<IPython.core.display.Markdown object>"
      ]
     },
     "metadata": {},
     "output_type": "display_data"
    },
    {
     "data": {
      "text/markdown": [
       "[Debate link](https://www.theyworkforyou.com/debates/?id=2024-09-09b.635.1) | [Register link](https://www.theyworkforyou.com/mp/25925/register)"
      ],
      "text/plain": [
       "<IPython.core.display.Markdown object>"
      ]
     },
     "metadata": {},
     "output_type": "display_data"
    },
    {
     "data": {
      "text/markdown": [
       "match score: 0.81"
      ],
      "text/plain": [
       "<IPython.core.display.Markdown object>"
      ]
     },
     "metadata": {},
     "output_type": "display_data"
    },
    {
     "data": {
      "text/markdown": [
       ">I draw the House’s attention to my entry in the Register of Members’ Financial Interests"
      ],
      "text/plain": [
       "<IPython.core.display.Markdown object>"
      ]
     },
     "metadata": {},
     "output_type": "display_data"
    },
    {
     "data": {
      "text/markdown": [
       "## Andrew George (10222)"
      ],
      "text/plain": [
       "<IPython.core.display.Markdown object>"
      ]
     },
     "metadata": {},
     "output_type": "display_data"
    },
    {
     "data": {
      "text/markdown": [
       "[Debate link](https://www.theyworkforyou.com/debates/?id=2024-09-09b.663.2) | [Register link](https://www.theyworkforyou.com/mp/10222/register)"
      ],
      "text/plain": [
       "<IPython.core.display.Markdown object>"
      ]
     },
     "metadata": {},
     "output_type": "display_data"
    },
    {
     "data": {
      "text/markdown": [
       "match score: 0.74"
      ],
      "text/plain": [
       "<IPython.core.display.Markdown object>"
      ]
     },
     "metadata": {},
     "output_type": "display_data"
    },
    {
     "data": {
      "text/markdown": [
       ">I should also declare an interest"
      ],
      "text/plain": [
       "<IPython.core.display.Markdown object>"
      ]
     },
     "metadata": {},
     "output_type": "display_data"
    },
    {
     "data": {
      "text/markdown": [
       "## Claire Young (26458)"
      ],
      "text/plain": [
       "<IPython.core.display.Markdown object>"
      ]
     },
     "metadata": {},
     "output_type": "display_data"
    },
    {
     "data": {
      "text/markdown": [
       "[Debate link](https://www.theyworkforyou.com/debates/?id=2024-09-09b.566.5) | [Register link](https://www.theyworkforyou.com/mp/26458/register)"
      ],
      "text/plain": [
       "<IPython.core.display.Markdown object>"
      ]
     },
     "metadata": {},
     "output_type": "display_data"
    },
    {
     "data": {
      "text/markdown": [
       "match score: 0.69"
      ],
      "text/plain": [
       "<IPython.core.display.Markdown object>"
      ]
     },
     "metadata": {},
     "output_type": "display_data"
    },
    {
     "data": {
      "text/markdown": [
       ">I draw the attention of the House to my entry in the Register of Members’ Financial Interests, as I am still a South Gloucestershire councillor"
      ],
      "text/plain": [
       "<IPython.core.display.Markdown object>"
      ]
     },
     "metadata": {},
     "output_type": "display_data"
    },
    {
     "data": {
      "text/markdown": [
       "## Wes Streeting (25320)"
      ],
      "text/plain": [
       "<IPython.core.display.Markdown object>"
      ]
     },
     "metadata": {},
     "output_type": "display_data"
    },
    {
     "data": {
      "text/markdown": [
       "[Debate link](https://www.theyworkforyou.com/debates/?id=2024-09-09b.578.0) | [Register link](https://www.theyworkforyou.com/mp/25320/register)"
      ],
      "text/plain": [
       "<IPython.core.display.Markdown object>"
      ]
     },
     "metadata": {},
     "output_type": "display_data"
    },
    {
     "data": {
      "text/markdown": [
       "match score: 0.68"
      ],
      "text/plain": [
       "<IPython.core.display.Markdown object>"
      ]
     },
     "metadata": {},
     "output_type": "display_data"
    },
    {
     "data": {
      "text/markdown": [
       ">It is absolutely right that people appointed to roles in public life declare their conflicts of interest so that they can be assessed when taking decisions or exercising powers to ensure that they are doing so in a way that manages those conflicts of interest and no conflict arises. Alan Milburn does not, at this stage, have a role in the Department of Health and Social Care. Many people have come into the Department for meetings in the past eight weeks. We do not ask them all to declare their interests. I know there is more red tape now in health and social care than when we left office, but this Government want to reduce that not increase it."
      ],
      "text/plain": [
       "<IPython.core.display.Markdown object>"
      ]
     },
     "metadata": {},
     "output_type": "display_data"
    },
    {
     "data": {
      "text/markdown": [
       "## Jonathan Reynolds (24929)"
      ],
      "text/plain": [
       "<IPython.core.display.Markdown object>"
      ]
     },
     "metadata": {},
     "output_type": "display_data"
    },
    {
     "data": {
      "text/markdown": [
       "[Debate link](https://www.theyworkforyou.com/debates/?id=2024-09-09b.591.1) | [Register link](https://www.theyworkforyou.com/mp/24929/register)"
      ],
      "text/plain": [
       "<IPython.core.display.Markdown object>"
      ]
     },
     "metadata": {},
     "output_type": "display_data"
    },
    {
     "data": {
      "text/markdown": [
       "match score: 0.67"
      ],
      "text/plain": [
       "<IPython.core.display.Markdown object>"
      ]
     },
     "metadata": {},
     "output_type": "display_data"
    },
    {
     "data": {
      "text/markdown": [
       ">I very much recognise the conversation that my hon. Friend has had with her constituent, and her need and desire to progress that claim. The issue is about ensuring that the records are accurate. Cross-referencing between Ministry of Justice databases and court documents is proceeding apace. If her constituent has not yet had a letter and needs to register their credentials, they can do so, but I assure my hon. Friend that this is of maximum priority."
      ],
      "text/plain": [
       "<IPython.core.display.Markdown object>"
      ]
     },
     "metadata": {},
     "output_type": "display_data"
    },
    {
     "data": {
      "text/markdown": [
       "## Jonathan Reynolds (24929)"
      ],
      "text/plain": [
       "<IPython.core.display.Markdown object>"
      ]
     },
     "metadata": {},
     "output_type": "display_data"
    },
    {
     "data": {
      "text/markdown": [
       "[Debate link](https://www.theyworkforyou.com/debates/?id=2024-09-09b.585.0) | [Register link](https://www.theyworkforyou.com/mp/24929/register)"
      ],
      "text/plain": [
       "<IPython.core.display.Markdown object>"
      ]
     },
     "metadata": {},
     "output_type": "display_data"
    },
    {
     "data": {
      "text/markdown": [
       "match score: 0.67"
      ],
      "text/plain": [
       "<IPython.core.display.Markdown object>"
      ]
     },
     "metadata": {},
     "output_type": "display_data"
    },
    {
     "data": {
      "text/markdown": [
       ">The hon. Member asked about legal representation. Yes, that is part of the scheme, again learning lessons from where we have been in the past. As he knows, most of the schemes have now been adjusted to reflect that, but I absolutely take his point about new announcements."
      ],
      "text/plain": [
       "<IPython.core.display.Markdown object>"
      ]
     },
     "metadata": {},
     "output_type": "display_data"
    },
    {
     "data": {
      "text/markdown": [
       "## Stephen Gethins (25324)"
      ],
      "text/plain": [
       "<IPython.core.display.Markdown object>"
      ]
     },
     "metadata": {},
     "output_type": "display_data"
    },
    {
     "data": {
      "text/markdown": [
       "[Debate link](https://www.theyworkforyou.com/debates/?id=2024-09-09b.616.1) | [Register link](https://www.theyworkforyou.com/mp/25324/register)"
      ],
      "text/plain": [
       "<IPython.core.display.Markdown object>"
      ]
     },
     "metadata": {},
     "output_type": "display_data"
    },
    {
     "data": {
      "text/markdown": [
       "match score: 0.67"
      ],
      "text/plain": [
       "<IPython.core.display.Markdown object>"
      ]
     },
     "metadata": {},
     "output_type": "display_data"
    },
    {
     "data": {
      "text/markdown": [
       ">Secondly, on tightening up financial regulations, the Minister will be aware of the issue of shell companies. The former Member for Kirkcaldy and Cowdenbeath, Roger Mullin, frequently raised the really important issue of Scottish limited partnerships. I know that this is not something that the Minister can answer immediately, but can he look at financial regulations and the challenges around dirty money? All too often, as we know—this has been picked up on by Members from across this Chamber—that money has found its way into the UK economy. I would be grateful if he could look at that issue, although I acknowledge that putting him on the spot right now may be a little unfair."
      ],
      "text/plain": [
       "<IPython.core.display.Markdown object>"
      ]
     },
     "metadata": {},
     "output_type": "display_data"
    },
    {
     "data": {
      "text/markdown": [
       "## Simon Lightwood (26085)"
      ],
      "text/plain": [
       "<IPython.core.display.Markdown object>"
      ]
     },
     "metadata": {},
     "output_type": "display_data"
    },
    {
     "data": {
      "text/markdown": [
       "[Debate link](https://www.theyworkforyou.com/debates/?id=2024-09-09b.601.0) | [Register link](https://www.theyworkforyou.com/mp/26085/register)"
      ],
      "text/plain": [
       "<IPython.core.display.Markdown object>"
      ]
     },
     "metadata": {},
     "output_type": "display_data"
    },
    {
     "data": {
      "text/markdown": [
       "match score: 0.67"
      ],
      "text/plain": [
       "<IPython.core.display.Markdown object>"
      ]
     },
     "metadata": {},
     "output_type": "display_data"
    },
    {
     "data": {
      "text/markdown": [
       ">I thank the right hon. Gentleman for his question and for his constructive engagement. I will certainly take up his recommendation to meet that grouping. Of course, all funding is being considered in the round as part of the spending review, but I take his points on board."
      ],
      "text/plain": [
       "<IPython.core.display.Markdown object>"
      ]
     },
     "metadata": {},
     "output_type": "display_data"
    },
    {
     "data": {
      "text/markdown": [
       "## Jonathan Reynolds (24929)"
      ],
      "text/plain": [
       "<IPython.core.display.Markdown object>"
      ]
     },
     "metadata": {},
     "output_type": "display_data"
    },
    {
     "data": {
      "text/markdown": [
       "[Debate link](https://www.theyworkforyou.com/debates/?id=2024-09-09b.585.0) | [Register link](https://www.theyworkforyou.com/mp/24929/register)"
      ],
      "text/plain": [
       "<IPython.core.display.Markdown object>"
      ]
     },
     "metadata": {},
     "output_type": "display_data"
    },
    {
     "data": {
      "text/markdown": [
       "match score: 0.66"
      ],
      "text/plain": [
       "<IPython.core.display.Markdown object>"
      ]
     },
     "metadata": {},
     "output_type": "display_data"
    },
    {
     "data": {
      "text/markdown": [
       ">I want to be clear about the difficulty that has existed with the Horizon convictions redress scheme. To update the House, I will give the hon. Member the figures: so far, 180 letters have gone out from the Ministry of Justice. Including those letters and the people who have registered with the Government who perhaps have not all received a letter yet, there are now 276 claimants. I will make the appeal again: while we are doing everything we can with Ministry of Justice colleagues to make sure those letters go out, people can proactively register with the Government. To be frank, this has been a frustration. When the hon. Member and I were having our conversations when we sat in different places in the Chamber, neither of us perhaps knew the state of the database and the records, and—having passed the legislation—the frustrations we would face in getting to people. However, doing so is clearly integral to sorting this out."
      ],
      "text/plain": [
       "<IPython.core.display.Markdown object>"
      ]
     },
     "metadata": {},
     "output_type": "display_data"
    },
    {
     "data": {
      "text/markdown": [
       "## Mike Kane (25220)"
      ],
      "text/plain": [
       "<IPython.core.display.Markdown object>"
      ]
     },
     "metadata": {},
     "output_type": "display_data"
    },
    {
     "data": {
      "text/markdown": [
       "[Debate link](https://www.theyworkforyou.com/debates/?id=2024-09-09b.648.1) | [Register link](https://www.theyworkforyou.com/mp/25220/register)"
      ],
      "text/plain": [
       "<IPython.core.display.Markdown object>"
      ]
     },
     "metadata": {},
     "output_type": "display_data"
    },
    {
     "data": {
      "text/markdown": [
       "match score: 0.66"
      ],
      "text/plain": [
       "<IPython.core.display.Markdown object>"
      ]
     },
     "metadata": {},
     "output_type": "display_data"
    },
    {
     "data": {
      "text/markdown": [
       ">I thank Members again for their consideration. For those questions where it has not been possible for me to provide a response today, I ask Members please to let me know and I will write to them. SAF presents a key opportunity to decarbonise UK aviation and secure a long-term future for the sector. These draft regulations demonstrate how we can capitalise on this opportunity. Mandating the use of SAF has the potential to generate significant greenhouse gas savings, and ultimately play a pivotal role in achieving net zero. I commend this order to the house."
      ],
      "text/plain": [
       "<IPython.core.display.Markdown object>"
      ]
     },
     "metadata": {},
     "output_type": "display_data"
    },
    {
     "data": {
      "text/markdown": [
       "## Gareth Snell (25601)"
      ],
      "text/plain": [
       "<IPython.core.display.Markdown object>"
      ]
     },
     "metadata": {},
     "output_type": "display_data"
    },
    {
     "data": {
      "text/markdown": [
       "[Debate link](https://www.theyworkforyou.com/debates/?id=2024-09-09b.658.2) | [Register link](https://www.theyworkforyou.com/mp/25601/register)"
      ],
      "text/plain": [
       "<IPython.core.display.Markdown object>"
      ]
     },
     "metadata": {},
     "output_type": "display_data"
    },
    {
     "data": {
      "text/markdown": [
       "match score: 0.66"
      ],
      "text/plain": [
       "<IPython.core.display.Markdown object>"
      ]
     },
     "metadata": {},
     "output_type": "display_data"
    },
    {
     "data": {
      "text/markdown": [
       ">On a point of order, Madam Deputy Speaker. Last Thursday, during questions to the Leader of the House on the statement of business, I asked a question about BTecs in relation to colleges. Although it is registered in the Register of Members’ Financial Interests that I am a governor of two colleges, I failed to draw the House’s attention to that fact before asking my question. The two colleges that I am a governor of are affected by the answer, so I take this opportunity to place that on the record, and offer my unreserved apology to the House accordingly."
      ],
      "text/plain": [
       "<IPython.core.display.Markdown object>"
      ]
     },
     "metadata": {},
     "output_type": "display_data"
    },
    {
     "data": {
      "text/markdown": [
       "## Andrew George (10222)"
      ],
      "text/plain": [
       "<IPython.core.display.Markdown object>"
      ]
     },
     "metadata": {},
     "output_type": "display_data"
    },
    {
     "data": {
      "text/markdown": [
       "[Debate link](https://www.theyworkforyou.com/debates/?id=2024-09-09b.664.0) | [Register link](https://www.theyworkforyou.com/mp/10222/register)"
      ],
      "text/plain": [
       "<IPython.core.display.Markdown object>"
      ]
     },
     "metadata": {},
     "output_type": "display_data"
    },
    {
     "data": {
      "text/markdown": [
       "match score: 0.66"
      ],
      "text/plain": [
       "<IPython.core.display.Markdown object>"
      ]
     },
     "metadata": {},
     "output_type": "display_data"
    },
    {
     "data": {
      "text/markdown": [
       ">Here I declare an interest, as one who has been working in the sector"
      ],
      "text/plain": [
       "<IPython.core.display.Markdown object>"
      ]
     },
     "metadata": {},
     "output_type": "display_data"
    },
    {
     "data": {
      "text/markdown": [
       "## Victoria Atkins (25424)"
      ],
      "text/plain": [
       "<IPython.core.display.Markdown object>"
      ]
     },
     "metadata": {},
     "output_type": "display_data"
    },
    {
     "data": {
      "text/markdown": [
       "[Debate link](https://www.theyworkforyou.com/debates/?id=2024-09-09b.572.0) | [Register link](https://www.theyworkforyou.com/mp/25424/register)"
      ],
      "text/plain": [
       "<IPython.core.display.Markdown object>"
      ]
     },
     "metadata": {},
     "output_type": "display_data"
    },
    {
     "data": {
      "text/markdown": [
       "match score: 0.66"
      ],
      "text/plain": [
       "<IPython.core.display.Markdown object>"
      ]
     },
     "metadata": {},
     "output_type": "display_data"
    },
    {
     "data": {
      "text/markdown": [
       ">] A Member sitting opposite says, “So what?” Given the risk of conflicts of interest—that, rather than the right hon Gentleman’s inexperience, is the point of this UQ—has Mr Milburn declared his business interests to the Department? Can the right hon Gentleman reassure the House on how such conflicts are being managed, so that we can get a sense of the scale of this open-door policy and Mr Milburn’s access?"
      ],
      "text/plain": [
       "<IPython.core.display.Markdown object>"
      ]
     },
     "metadata": {},
     "output_type": "display_data"
    },
    {
     "data": {
      "text/markdown": [
       "## Jonathan Reynolds (24929)"
      ],
      "text/plain": [
       "<IPython.core.display.Markdown object>"
      ]
     },
     "metadata": {},
     "output_type": "display_data"
    },
    {
     "data": {
      "text/markdown": [
       "[Debate link](https://www.theyworkforyou.com/debates/?id=2024-09-09b.585.0) | [Register link](https://www.theyworkforyou.com/mp/24929/register)"
      ],
      "text/plain": [
       "<IPython.core.display.Markdown object>"
      ]
     },
     "metadata": {},
     "output_type": "display_data"
    },
    {
     "data": {
      "text/markdown": [
       "match score: 0.66"
      ],
      "text/plain": [
       "<IPython.core.display.Markdown object>"
      ]
     },
     "metadata": {},
     "output_type": "display_data"
    },
    {
     "data": {
      "text/markdown": [
       ">The hon Member asked about legal representation"
      ],
      "text/plain": [
       "<IPython.core.display.Markdown object>"
      ]
     },
     "metadata": {},
     "output_type": "display_data"
    },
    {
     "data": {
      "text/markdown": [
       "## Paul Kohler (26570)"
      ],
      "text/plain": [
       "<IPython.core.display.Markdown object>"
      ]
     },
     "metadata": {},
     "output_type": "display_data"
    },
    {
     "data": {
      "text/markdown": [
       "[Debate link](https://www.theyworkforyou.com/debates/?id=2024-09-09b.577.5) | [Register link](https://www.theyworkforyou.com/mp/26570/register)"
      ],
      "text/plain": [
       "<IPython.core.display.Markdown object>"
      ]
     },
     "metadata": {},
     "output_type": "display_data"
    },
    {
     "data": {
      "text/markdown": [
       "match score: 0.65"
      ],
      "text/plain": [
       "<IPython.core.display.Markdown object>"
      ]
     },
     "metadata": {},
     "output_type": "display_data"
    },
    {
     "data": {
      "text/markdown": [
       ">What safeguards are being imposed or considered to address the appearance of conflicts of interest?"
      ],
      "text/plain": [
       "<IPython.core.display.Markdown object>"
      ]
     },
     "metadata": {},
     "output_type": "display_data"
    },
    {
     "data": {
      "text/markdown": [
       "## Hamish Falconer (26446)"
      ],
      "text/plain": [
       "<IPython.core.display.Markdown object>"
      ]
     },
     "metadata": {},
     "output_type": "display_data"
    },
    {
     "data": {
      "text/markdown": [
       "[Debate link](https://www.theyworkforyou.com/debates/?id=2024-09-09b.624.1) | [Register link](https://www.theyworkforyou.com/mp/26446/register)"
      ],
      "text/plain": [
       "<IPython.core.display.Markdown object>"
      ]
     },
     "metadata": {},
     "output_type": "display_data"
    },
    {
     "data": {
      "text/markdown": [
       "match score: 0.65"
      ],
      "text/plain": [
       "<IPython.core.display.Markdown object>"
      ]
     },
     "metadata": {},
     "output_type": "display_data"
    },
    {
     "data": {
      "text/markdown": [
       ">Finally, the instrument makes two further, more minor amendments. First, there is a small amendment to the humanitarian fuel exception and a related exception for petroleum products for diplomatic and consular premises in the 2019 regulations. Those exceptions are amended to refer to “acquiring” fuel rather than “purchasing” it. Secondly, the instrument amends the record-keeping requirements in the regulations with respect to trade licences to clarify that specified information is required where appropriate. That will ensure that correct records are kept for relevant licences."
      ],
      "text/plain": [
       "<IPython.core.display.Markdown object>"
      ]
     },
     "metadata": {},
     "output_type": "display_data"
    },
    {
     "data": {
      "text/markdown": [
       "## Wes Streeting (25320)"
      ],
      "text/plain": [
       "<IPython.core.display.Markdown object>"
      ]
     },
     "metadata": {},
     "output_type": "display_data"
    },
    {
     "data": {
      "text/markdown": [
       "[Debate link](https://www.theyworkforyou.com/debates/?id=2024-09-09b.576.3) | [Register link](https://www.theyworkforyou.com/mp/25320/register)"
      ],
      "text/plain": [
       "<IPython.core.display.Markdown object>"
      ]
     },
     "metadata": {},
     "output_type": "display_data"
    },
    {
     "data": {
      "text/markdown": [
       "match score: 0.65"
      ],
      "text/plain": [
       "<IPython.core.display.Markdown object>"
      ]
     },
     "metadata": {},
     "output_type": "display_data"
    },
    {
     "data": {
      "text/markdown": [
       ">Where do we draw the line? Do we have to send compliance forms to Cancer Research UK before it comes in to talk about how we tackle cancer? Do we have to send declaration of interest forms to patients who want to discuss awful cases they have experienced?"
      ],
      "text/plain": [
       "<IPython.core.display.Markdown object>"
      ]
     },
     "metadata": {},
     "output_type": "display_data"
    },
    {
     "data": {
      "text/markdown": [
       "## Kevin Hollinrake (25415)"
      ],
      "text/plain": [
       "<IPython.core.display.Markdown object>"
      ]
     },
     "metadata": {},
     "output_type": "display_data"
    },
    {
     "data": {
      "text/markdown": [
       "[Debate link](https://www.theyworkforyou.com/debates/?id=2024-09-09b.584.1) | [Register link](https://www.theyworkforyou.com/mp/25415/register)"
      ],
      "text/plain": [
       "<IPython.core.display.Markdown object>"
      ]
     },
     "metadata": {},
     "output_type": "display_data"
    },
    {
     "data": {
      "text/markdown": [
       "match score: 0.65"
      ],
      "text/plain": [
       "<IPython.core.display.Markdown object>"
      ]
     },
     "metadata": {},
     "output_type": "display_data"
    },
    {
     "data": {
      "text/markdown": [
       ">However, I have some questions about the Secretary of State’s statement. First, he confirmed that the appeals process will be open for claimants who have settled their claim under the HSS, but it is restricted to those who have new evidence to support their case. In the same breath, he recognised lessons learned from redress schemes to date, indicating that his Department is aware of the flaws in the scheme, which I also acknowledge. Crucially,  will the appeals process also be available, as it should be, to all claimants, not just those with new information? Given the accepted flaws in the scheme, it would be wrong to leave individuals without the opportunity to appeal. If people choose the £75,000 top-up, will they be entitled to appeal? If so, there is a risk that for those wanting to go through the appeal process it will be a slower process because of the number of people seeking to appeal."
      ],
      "text/plain": [
       "<IPython.core.display.Markdown object>"
      ]
     },
     "metadata": {},
     "output_type": "display_data"
    },
    {
     "data": {
      "text/markdown": [
       "## Jonathan Reynolds (24929)"
      ],
      "text/plain": [
       "<IPython.core.display.Markdown object>"
      ]
     },
     "metadata": {},
     "output_type": "display_data"
    },
    {
     "data": {
      "text/markdown": [
       "[Debate link](https://www.theyworkforyou.com/debates/?id=2024-09-09b.588.1) | [Register link](https://www.theyworkforyou.com/mp/24929/register)"
      ],
      "text/plain": [
       "<IPython.core.display.Markdown object>"
      ]
     },
     "metadata": {},
     "output_type": "display_data"
    },
    {
     "data": {
      "text/markdown": [
       "match score: 0.65"
      ],
      "text/plain": [
       "<IPython.core.display.Markdown object>"
      ]
     },
     "metadata": {},
     "output_type": "display_data"
    },
    {
     "data": {
      "text/markdown": [
       ">I thank my hon. Friend for her question and recognise her contribution on this issue over many years. She is right to say that the appeals process I am announcing today will be run in-house by the Department for Business and Trade. Obviously, information will need to be provided by the Post Office, but an in-house scheme will be delivered. On redress, we are all following Sir Wyn William’s inquiry closely. We will need that to conclude and essential information will come out of it. After that, there will need to be a way to ensure that those findings, whatever they may be, are honoured in full and that we learn from them. In a number of cases, there is a need to hold people to account for their actions throughout the scandal."
      ],
      "text/plain": [
       "<IPython.core.display.Markdown object>"
      ]
     },
     "metadata": {},
     "output_type": "display_data"
    },
    {
     "data": {
      "text/markdown": [
       "# 2024-09-05"
      ],
      "text/plain": [
       "<IPython.core.display.Markdown object>"
      ]
     },
     "metadata": {},
     "output_type": "display_data"
    },
    {
     "data": {
      "text/markdown": [
       "## Wera Hobhouse (25648)"
      ],
      "text/plain": [
       "<IPython.core.display.Markdown object>"
      ]
     },
     "metadata": {},
     "output_type": "display_data"
    },
    {
     "data": {
      "text/markdown": [
       "[Debate link](https://www.theyworkforyou.com/debates/?id=2024-09-05b.473.1) | [Register link](https://www.theyworkforyou.com/mp/25648/register)"
      ],
      "text/plain": [
       "<IPython.core.display.Markdown object>"
      ]
     },
     "metadata": {},
     "output_type": "display_data"
    },
    {
     "data": {
      "text/markdown": [
       "match score: 0.68"
      ],
      "text/plain": [
       "<IPython.core.display.Markdown object>"
      ]
     },
     "metadata": {},
     "output_type": "display_data"
    },
    {
     "data": {
      "text/markdown": [
       ">“some sense of ownership of the assets”—[Official Report, 26 July 2024; Vol"
      ],
      "text/plain": [
       "<IPython.core.display.Markdown object>"
      ]
     },
     "metadata": {},
     "output_type": "display_data"
    },
    {
     "data": {
      "text/markdown": [
       "## Robin Swann (25141)"
      ],
      "text/plain": [
       "<IPython.core.display.Markdown object>"
      ]
     },
     "metadata": {},
     "output_type": "display_data"
    },
    {
     "data": {
      "text/markdown": [
       "[Debate link](https://www.theyworkforyou.com/debates/?id=2024-09-05b.411.6) | [Register link](https://www.theyworkforyou.com/mp/25141/register)"
      ],
      "text/plain": [
       "<IPython.core.display.Markdown object>"
      ]
     },
     "metadata": {},
     "output_type": "display_data"
    },
    {
     "data": {
      "text/markdown": [
       "match score: 0.68"
      ],
      "text/plain": [
       "<IPython.core.display.Markdown object>"
      ]
     },
     "metadata": {},
     "output_type": "display_data"
    },
    {
     "data": {
      "text/markdown": [
       ">Can I seek her assurance that Northern Ireland is part of that  trade mission as well, especially as it relates to my constituency? Also, regarding the Minister for Trade Policy and Economic Security’s statement about removing barriers to trade, can I ask this Government to ensure that there are no EU barriers to trade when it comes to promoting businesses in Northern Ireland? Those businesses want to thrive, flourish, and be part of this United Kingdom’s outreach in regards to business and investment across the United Kingdom and, indeed, the world"
      ],
      "text/plain": [
       "<IPython.core.display.Markdown object>"
      ]
     },
     "metadata": {},
     "output_type": "display_data"
    },
    {
     "data": {
      "text/markdown": [
       "## Toby Perkins (24845)"
      ],
      "text/plain": [
       "<IPython.core.display.Markdown object>"
      ]
     },
     "metadata": {},
     "output_type": "display_data"
    },
    {
     "data": {
      "text/markdown": [
       "[Debate link](https://www.theyworkforyou.com/debates/?id=2024-09-05b.466.6) | [Register link](https://www.theyworkforyou.com/mp/24845/register)"
      ],
      "text/plain": [
       "<IPython.core.display.Markdown object>"
      ]
     },
     "metadata": {},
     "output_type": "display_data"
    },
    {
     "data": {
      "text/markdown": [
       "match score: 0.68"
      ],
      "text/plain": [
       "<IPython.core.display.Markdown object>"
      ]
     },
     "metadata": {},
     "output_type": "display_data"
    },
    {
     "data": {
      "text/markdown": [
       ">Will the right hon. Member give way?"
      ],
      "text/plain": [
       "<IPython.core.display.Markdown object>"
      ]
     },
     "metadata": {},
     "output_type": "display_data"
    },
    {
     "data": {
      "text/markdown": [
       "## Wera Hobhouse (25648)"
      ],
      "text/plain": [
       "<IPython.core.display.Markdown object>"
      ]
     },
     "metadata": {},
     "output_type": "display_data"
    },
    {
     "data": {
      "text/markdown": [
       "[Debate link](https://www.theyworkforyou.com/debates/?id=2024-09-05b.466.4) | [Register link](https://www.theyworkforyou.com/mp/25648/register)"
      ],
      "text/plain": [
       "<IPython.core.display.Markdown object>"
      ]
     },
     "metadata": {},
     "output_type": "display_data"
    },
    {
     "data": {
      "text/markdown": [
       "match score: 0.68"
      ],
      "text/plain": [
       "<IPython.core.display.Markdown object>"
      ]
     },
     "metadata": {},
     "output_type": "display_data"
    },
    {
     "data": {
      "text/markdown": [
       ">Will the right hon. Member give way?"
      ],
      "text/plain": [
       "<IPython.core.display.Markdown object>"
      ]
     },
     "metadata": {},
     "output_type": "display_data"
    },
    {
     "data": {
      "text/markdown": [
       "## Wera Hobhouse (25648)"
      ],
      "text/plain": [
       "<IPython.core.display.Markdown object>"
      ]
     },
     "metadata": {},
     "output_type": "display_data"
    },
    {
     "data": {
      "text/markdown": [
       "[Debate link](https://www.theyworkforyou.com/debates/?id=2024-09-05b.473.1) | [Register link](https://www.theyworkforyou.com/mp/25648/register)"
      ],
      "text/plain": [
       "<IPython.core.display.Markdown object>"
      ]
     },
     "metadata": {},
     "output_type": "display_data"
    },
    {
     "data": {
      "text/markdown": [
       "match score: 0.67"
      ],
      "text/plain": [
       "<IPython.core.display.Markdown object>"
      ]
     },
     "metadata": {},
     "output_type": "display_data"
    },
    {
     "data": {
      "text/markdown": [
       ">“some sense of ownership of the assets”—[Official Report, 26 July 2024; Vol. 752, c. 942.]"
      ],
      "text/plain": [
       "<IPython.core.display.Markdown object>"
      ]
     },
     "metadata": {},
     "output_type": "display_data"
    },
    {
     "data": {
      "text/markdown": [
       "## Uma Kumaran (26542)"
      ],
      "text/plain": [
       "<IPython.core.display.Markdown object>"
      ]
     },
     "metadata": {},
     "output_type": "display_data"
    },
    {
     "data": {
      "text/markdown": [
       "[Debate link](https://www.theyworkforyou.com/debates/?id=2024-09-05b.488.1) | [Register link](https://www.theyworkforyou.com/mp/26542/register)"
      ],
      "text/plain": [
       "<IPython.core.display.Markdown object>"
      ]
     },
     "metadata": {},
     "output_type": "display_data"
    },
    {
     "data": {
      "text/markdown": [
       "match score: 0.67"
      ],
      "text/plain": [
       "<IPython.core.display.Markdown object>"
      ]
     },
     "metadata": {},
     "output_type": "display_data"
    },
    {
     "data": {
      "text/markdown": [
       ">My constituency is a place where people can come and spend their money, money, money in some of our brilliant local and international businesses"
      ],
      "text/plain": [
       "<IPython.core.display.Markdown object>"
      ]
     },
     "metadata": {},
     "output_type": "display_data"
    },
    {
     "data": {
      "text/markdown": [
       "## Toby Perkins (24845)"
      ],
      "text/plain": [
       "<IPython.core.display.Markdown object>"
      ]
     },
     "metadata": {},
     "output_type": "display_data"
    },
    {
     "data": {
      "text/markdown": [
       "[Debate link](https://www.theyworkforyou.com/debates/?id=2024-09-05b.466.6) | [Register link](https://www.theyworkforyou.com/mp/24845/register)"
      ],
      "text/plain": [
       "<IPython.core.display.Markdown object>"
      ]
     },
     "metadata": {},
     "output_type": "display_data"
    },
    {
     "data": {
      "text/markdown": [
       "match score: 0.67"
      ],
      "text/plain": [
       "<IPython.core.display.Markdown object>"
      ]
     },
     "metadata": {},
     "output_type": "display_data"
    },
    {
     "data": {
      "text/markdown": [
       ">Will the right hon Member give way?"
      ],
      "text/plain": [
       "<IPython.core.display.Markdown object>"
      ]
     },
     "metadata": {},
     "output_type": "display_data"
    },
    {
     "data": {
      "text/markdown": [
       "## Wera Hobhouse (25648)"
      ],
      "text/plain": [
       "<IPython.core.display.Markdown object>"
      ]
     },
     "metadata": {},
     "output_type": "display_data"
    },
    {
     "data": {
      "text/markdown": [
       "[Debate link](https://www.theyworkforyou.com/debates/?id=2024-09-05b.466.4) | [Register link](https://www.theyworkforyou.com/mp/25648/register)"
      ],
      "text/plain": [
       "<IPython.core.display.Markdown object>"
      ]
     },
     "metadata": {},
     "output_type": "display_data"
    },
    {
     "data": {
      "text/markdown": [
       "match score: 0.67"
      ],
      "text/plain": [
       "<IPython.core.display.Markdown object>"
      ]
     },
     "metadata": {},
     "output_type": "display_data"
    },
    {
     "data": {
      "text/markdown": [
       ">Will the right hon Member give way?"
      ],
      "text/plain": [
       "<IPython.core.display.Markdown object>"
      ]
     },
     "metadata": {},
     "output_type": "display_data"
    },
    {
     "data": {
      "text/markdown": [
       "## Jonathan Reynolds (24929)"
      ],
      "text/plain": [
       "<IPython.core.display.Markdown object>"
      ]
     },
     "metadata": {},
     "output_type": "display_data"
    },
    {
     "data": {
      "text/markdown": [
       "[Debate link](https://www.theyworkforyou.com/debates/?id=2024-09-05b.401.3) | [Register link](https://www.theyworkforyou.com/mp/24929/register)"
      ],
      "text/plain": [
       "<IPython.core.display.Markdown object>"
      ]
     },
     "metadata": {},
     "output_type": "display_data"
    },
    {
     "data": {
      "text/markdown": [
       "match score: 0.66"
      ],
      "text/plain": [
       "<IPython.core.display.Markdown object>"
      ]
     },
     "metadata": {},
     "output_type": "display_data"
    },
    {
     "data": {
      "text/markdown": [
       ">I thank the hon. Member for that question. That is a key issue. There have been positive developments in recent years, particularly through the work of the British Business Bank. The Government feel that the landscape for public finance institutions is now quite busy. The key policy is to ensure that the national wealth fund aligns with priorities in this area, expands the work that has been done, and ensures consistency, so there is a ready way for businesses to understand what can sometimes be a confusing landscape. Also, policies such as that on growth hubs will continue, so the interface for businesses is straightforward and simple, and, fundamentally, the product to access finance will be there when they need it."
      ],
      "text/plain": [
       "<IPython.core.display.Markdown object>"
      ]
     },
     "metadata": {},
     "output_type": "display_data"
    },
    {
     "data": {
      "text/markdown": [
       "## Dave Doogan (25796)"
      ],
      "text/plain": [
       "<IPython.core.display.Markdown object>"
      ]
     },
     "metadata": {},
     "output_type": "display_data"
    },
    {
     "data": {
      "text/markdown": [
       "[Debate link](https://www.theyworkforyou.com/debates/?id=2024-09-05b.494.0) | [Register link](https://www.theyworkforyou.com/mp/25796/register)"
      ],
      "text/plain": [
       "<IPython.core.display.Markdown object>"
      ]
     },
     "metadata": {},
     "output_type": "display_data"
    },
    {
     "data": {
      "text/markdown": [
       "match score: 0.66"
      ],
      "text/plain": [
       "<IPython.core.display.Markdown object>"
      ]
     },
     "metadata": {},
     "output_type": "display_data"
    },
    {
     "data": {
      "text/markdown": [
       ">Why is it not considered a Government trading fund? It is not a company; it is a Government trading fund that they are branding as a company"
      ],
      "text/plain": [
       "<IPython.core.display.Markdown object>"
      ]
     },
     "metadata": {},
     "output_type": "display_data"
    },
    {
     "data": {
      "text/markdown": [
       "## None ()"
      ],
      "text/plain": [
       "<IPython.core.display.Markdown object>"
      ]
     },
     "metadata": {},
     "output_type": "display_data"
    },
    {
     "data": {
      "text/markdown": [
       "[Debate link](https://www.theyworkforyou.com/debates/?id=2024-09-05b.411.1) | [Register link](https://www.theyworkforyou.com/mp//register)"
      ],
      "text/plain": [
       "<IPython.core.display.Markdown object>"
      ]
     },
     "metadata": {},
     "output_type": "display_data"
    },
    {
     "data": {
      "text/markdown": [
       "match score: 0.66"
      ],
      "text/plain": [
       "<IPython.core.display.Markdown object>"
      ]
     },
     "metadata": {},
     "output_type": "display_data"
    },
    {
     "data": {
      "text/markdown": [
       ">Inward Investment"
      ],
      "text/plain": [
       "<IPython.core.display.Markdown object>"
      ]
     },
     "metadata": {},
     "output_type": "display_data"
    },
    {
     "data": {
      "text/markdown": [
       "## Gareth Thomas (10594)"
      ],
      "text/plain": [
       "<IPython.core.display.Markdown object>"
      ]
     },
     "metadata": {},
     "output_type": "display_data"
    },
    {
     "data": {
      "text/markdown": [
       "[Debate link](https://www.theyworkforyou.com/debates/?id=2024-09-05b.417.1) | [Register link](https://www.theyworkforyou.com/mp/10594/register)"
      ],
      "text/plain": [
       "<IPython.core.display.Markdown object>"
      ]
     },
     "metadata": {},
     "output_type": "display_data"
    },
    {
     "data": {
      "text/markdown": [
       "match score: 0.66"
      ],
      "text/plain": [
       "<IPython.core.display.Markdown object>"
      ]
     },
     "metadata": {},
     "output_type": "display_data"
    },
    {
     "data": {
      "text/markdown": [
       ">I would be happy to meet my hon. Friend to discuss the question about a banking hub in his constituency. As he will have heard in answers that I gave earlier, reform of the business rates system to tackle some of the egregious disincentives in respect of the need to invest in our high streets and the competition from online giants is something we took seriously in opposition and continue to take seriously in government. Colleagues in the Treasury are working hard to bring forward proposals to reform the business rates system."
      ],
      "text/plain": [
       "<IPython.core.display.Markdown object>"
      ]
     },
     "metadata": {},
     "output_type": "display_data"
    },
    {
     "data": {
      "text/markdown": [
       "## Jonathan Reynolds (24929)"
      ],
      "text/plain": [
       "<IPython.core.display.Markdown object>"
      ]
     },
     "metadata": {},
     "output_type": "display_data"
    },
    {
     "data": {
      "text/markdown": [
       "[Debate link](https://www.theyworkforyou.com/debates/?id=2024-09-05b.400.1) | [Register link](https://www.theyworkforyou.com/mp/24929/register)"
      ],
      "text/plain": [
       "<IPython.core.display.Markdown object>"
      ]
     },
     "metadata": {},
     "output_type": "display_data"
    },
    {
     "data": {
      "text/markdown": [
       "match score: 0.66"
      ],
      "text/plain": [
       "<IPython.core.display.Markdown object>"
      ]
     },
     "metadata": {},
     "output_type": "display_data"
    },
    {
     "data": {
      "text/markdown": [
       ">I also welcome my hon. Friend to her place. I was pleased to meet her at the Farnborough air show, of which I am sure her community is extremely proud. I also extend birthday wishes to the Federation of Small Businesses, with which we work very closely, particularly on policies on issues such as late payments. I am always aware of the FSB’s incredible coverage; it has over 150,000 members across the country. Of course, the FSB began in Blackpool, so it is another great thing that the north-west of England has given this country."
      ],
      "text/plain": [
       "<IPython.core.display.Markdown object>"
      ]
     },
     "metadata": {},
     "output_type": "display_data"
    },
    {
     "data": {
      "text/markdown": [
       "## Jonathan Reynolds (24929)"
      ],
      "text/plain": [
       "<IPython.core.display.Markdown object>"
      ]
     },
     "metadata": {},
     "output_type": "display_data"
    },
    {
     "data": {
      "text/markdown": [
       "[Debate link](https://www.theyworkforyou.com/debates/?id=2024-09-05b.400.3) | [Register link](https://www.theyworkforyou.com/mp/24929/register)"
      ],
      "text/plain": [
       "<IPython.core.display.Markdown object>"
      ]
     },
     "metadata": {},
     "output_type": "display_data"
    },
    {
     "data": {
      "text/markdown": [
       "match score: 0.65"
      ],
      "text/plain": [
       "<IPython.core.display.Markdown object>"
      ]
     },
     "metadata": {},
     "output_type": "display_data"
    },
    {
     "data": {
      "text/markdown": [
       ">This issue is important to Members in all parts of the country, but I recognise my hon. Friend’s particular point about prosperous rural economies. Access to banking and financial services is a prime example of the fact that the Government will work across every Department to make sure we are giving businesses what they need. I am not nostalgic, and I understand that banking has changed, but small businesses need to be able to deposit cash on the high street. The key policy in this area will be run by the Treasury, but this is about changing the eligibility for banking hubs, so that we have more of them. We will see at least an additional 350 in this Parliament, including in my constituency; tomorrow, I will take a sneak peek at the new banking hub in Stalybridge."
      ],
      "text/plain": [
       "<IPython.core.display.Markdown object>"
      ]
     },
     "metadata": {},
     "output_type": "display_data"
    },
    {
     "data": {
      "text/markdown": [
       "## Afzal Khan (25662)"
      ],
      "text/plain": [
       "<IPython.core.display.Markdown object>"
      ]
     },
     "metadata": {},
     "output_type": "display_data"
    },
    {
     "data": {
      "text/markdown": [
       "[Debate link](https://www.theyworkforyou.com/debates/?id=2024-09-05b.446.5) | [Register link](https://www.theyworkforyou.com/mp/25662/register)"
      ],
      "text/plain": [
       "<IPython.core.display.Markdown object>"
      ]
     },
     "metadata": {},
     "output_type": "display_data"
    },
    {
     "data": {
      "text/markdown": [
       "match score: 0.65"
      ],
      "text/plain": [
       "<IPython.core.display.Markdown object>"
      ]
     },
     "metadata": {},
     "output_type": "display_data"
    },
    {
     "data": {
      "text/markdown": [
       ">My right hon. Friend will know of the important role of the Carlton Club community interest company in Whalley Range in my constituency, as well as across Manchester. It is not just a social club but an important venue that supports grassroots music and arts. The company that owns the building has now threatened to end the CIC’s use of the site. Will the Leader of the House join me in calling for the building owners to reconsider their decision, and will she provide Government time to debate the importance of social clubs and small venues such as the Carlton Club to our local communities?"
      ],
      "text/plain": [
       "<IPython.core.display.Markdown object>"
      ]
     },
     "metadata": {},
     "output_type": "display_data"
    },
    {
     "data": {
      "text/markdown": [
       "# 2024-09-04"
      ],
      "text/plain": [
       "<IPython.core.display.Markdown object>"
      ]
     },
     "metadata": {},
     "output_type": "display_data"
    },
    {
     "data": {
      "text/markdown": [
       "## Andrew Griffith (25927)"
      ],
      "text/plain": [
       "<IPython.core.display.Markdown object>"
      ]
     },
     "metadata": {},
     "output_type": "display_data"
    },
    {
     "data": {
      "text/markdown": [
       "[Debate link](https://www.theyworkforyou.com/debates/?id=2024-09-04b.340.3) | [Register link](https://www.theyworkforyou.com/mp/25927/register)"
      ],
      "text/plain": [
       "<IPython.core.display.Markdown object>"
      ]
     },
     "metadata": {},
     "output_type": "display_data"
    },
    {
     "data": {
      "text/markdown": [
       "match score: 0.67"
      ],
      "text/plain": [
       "<IPython.core.display.Markdown object>"
      ]
     },
     "metadata": {},
     "output_type": "display_data"
    },
    {
     "data": {
      "text/markdown": [
       ">That is my point. I understand that many colleagues wish to get in. I support the amendment put forward by my hon. Friend the Member for Droitwich and Evesham, because it is quite right that we have rules. I was an accountant by training, and the first thing we learn—whether someone is an accountant or in performance sport—is that we play by the rules as they are; we do not seek to rig the rules in our favour."
      ],
      "text/plain": [
       "<IPython.core.display.Markdown object>"
      ]
     },
     "metadata": {},
     "output_type": "display_data"
    },
    {
     "data": {
      "text/markdown": [
       "## Diana R. Johnson (11647)"
      ],
      "text/plain": [
       "<IPython.core.display.Markdown object>"
      ]
     },
     "metadata": {},
     "output_type": "display_data"
    },
    {
     "data": {
      "text/markdown": [
       "[Debate link](https://www.theyworkforyou.com/debates/?id=2024-09-04b.394.2) | [Register link](https://www.theyworkforyou.com/mp/11647/register)"
      ],
      "text/plain": [
       "<IPython.core.display.Markdown object>"
      ]
     },
     "metadata": {},
     "output_type": "display_data"
    },
    {
     "data": {
      "text/markdown": [
       "match score: 0.67"
      ],
      "text/plain": [
       "<IPython.core.display.Markdown object>"
      ]
     },
     "metadata": {},
     "output_type": "display_data"
    },
    {
     "data": {
      "text/markdown": [
       ">Secondly, Members will be aware that police forces are operationally independent from Ministers and Government, and that is absolutely as it should be. It means that the democratically elected police and crime commissioners, and the operationally independent chief constables, are responsible for taking decisions on police stations and their whole estate. In doing so, they will use their judgment, local knowledge and expertise to ensure that the use of their estate gives the best service to the community and fulfils value-for-money obligations. I know that the right hon. Gentleman will be concerned about getting value for money."
      ],
      "text/plain": [
       "<IPython.core.display.Markdown object>"
      ]
     },
     "metadata": {},
     "output_type": "display_data"
    },
    {
     "data": {
      "text/markdown": [
       "## Nusrat Ghani (25354)"
      ],
      "text/plain": [
       "<IPython.core.display.Markdown object>"
      ]
     },
     "metadata": {},
     "output_type": "display_data"
    },
    {
     "data": {
      "text/markdown": [
       "[Debate link](https://www.theyworkforyou.com/debates/?id=2024-09-04b.333.5) | [Register link](https://www.theyworkforyou.com/mp/25354/register)"
      ],
      "text/plain": [
       "<IPython.core.display.Markdown object>"
      ]
     },
     "metadata": {},
     "output_type": "display_data"
    },
    {
     "data": {
      "text/markdown": [
       "match score: 0.67"
      ],
      "text/plain": [
       "<IPython.core.display.Markdown object>"
      ]
     },
     "metadata": {},
     "output_type": "display_data"
    },
    {
     "data": {
      "text/markdown": [
       ">(ii) interest rates, or"
      ],
      "text/plain": [
       "<IPython.core.display.Markdown object>"
      ]
     },
     "metadata": {},
     "output_type": "display_data"
    },
    {
     "data": {
      "text/markdown": [
       "## Nusrat Ghani (25354)"
      ],
      "text/plain": [
       "<IPython.core.display.Markdown object>"
      ]
     },
     "metadata": {},
     "output_type": "display_data"
    },
    {
     "data": {
      "text/markdown": [
       "[Debate link](https://www.theyworkforyou.com/debates/?id=2024-09-04b.333.5) | [Register link](https://www.theyworkforyou.com/mp/25354/register)"
      ],
      "text/plain": [
       "<IPython.core.display.Markdown object>"
      ]
     },
     "metadata": {},
     "output_type": "display_data"
    },
    {
     "data": {
      "text/markdown": [
       "match score: 0.67"
      ],
      "text/plain": [
       "<IPython.core.display.Markdown object>"
      ]
     },
     "metadata": {},
     "output_type": "display_data"
    },
    {
     "data": {
      "text/markdown": [
       ">(ii) interest rates, or"
      ],
      "text/plain": [
       "<IPython.core.display.Markdown object>"
      ]
     },
     "metadata": {},
     "output_type": "display_data"
    },
    {
     "data": {
      "text/markdown": [
       "## None ()"
      ],
      "text/plain": [
       "<IPython.core.display.Markdown object>"
      ]
     },
     "metadata": {},
     "output_type": "display_data"
    },
    {
     "data": {
      "text/markdown": [
       "[Debate link](https://www.theyworkforyou.com/debates/?id=2024-09-04b.381.1) | [Register link](https://www.theyworkforyou.com/mp//register)"
      ],
      "text/plain": [
       "<IPython.core.display.Markdown object>"
      ]
     },
     "metadata": {},
     "output_type": "display_data"
    },
    {
     "data": {
      "text/markdown": [
       "match score: 0.66"
      ],
      "text/plain": [
       "<IPython.core.display.Markdown object>"
      ]
     },
     "metadata": {},
     "output_type": "display_data"
    },
    {
     "data": {
      "text/markdown": [
       ">(b) the functions of the Independent Adviser on Ministers’ Interests"
      ],
      "text/plain": [
       "<IPython.core.display.Markdown object>"
      ]
     },
     "metadata": {},
     "output_type": "display_data"
    },
    {
     "data": {
      "text/markdown": [
       "## Nusrat Ghani (25354)"
      ],
      "text/plain": [
       "<IPython.core.display.Markdown object>"
      ]
     },
     "metadata": {},
     "output_type": "display_data"
    },
    {
     "data": {
      "text/markdown": [
       "[Debate link](https://www.theyworkforyou.com/debates/?id=2024-09-04b.333.5) | [Register link](https://www.theyworkforyou.com/mp/25354/register)"
      ],
      "text/plain": [
       "<IPython.core.display.Markdown object>"
      ]
     },
     "metadata": {},
     "output_type": "display_data"
    },
    {
     "data": {
      "text/markdown": [
       "match score: 0.66"
      ],
      "text/plain": [
       "<IPython.core.display.Markdown object>"
      ]
     },
     "metadata": {},
     "output_type": "display_data"
    },
    {
     "data": {
      "text/markdown": [
       ">(b) the functions of the Independent Adviser on Ministers’ Interests"
      ],
      "text/plain": [
       "<IPython.core.display.Markdown object>"
      ]
     },
     "metadata": {},
     "output_type": "display_data"
    },
    {
     "data": {
      "text/markdown": [
       "## Kirsty McNeill (26460)"
      ],
      "text/plain": [
       "<IPython.core.display.Markdown object>"
      ]
     },
     "metadata": {},
     "output_type": "display_data"
    },
    {
     "data": {
      "text/markdown": [
       "[Debate link](https://www.theyworkforyou.com/debates/?id=2024-09-04b.292.6) | [Register link](https://www.theyworkforyou.com/mp/26460/register)"
      ],
      "text/plain": [
       "<IPython.core.display.Markdown object>"
      ]
     },
     "metadata": {},
     "output_type": "display_data"
    },
    {
     "data": {
      "text/markdown": [
       "match score: 0.66"
      ],
      "text/plain": [
       "<IPython.core.display.Markdown object>"
      ]
     },
     "metadata": {},
     "output_type": "display_data"
    },
    {
     "data": {
      "text/markdown": [
       ">The Member will be aware that the Institute for Fiscal Studies has said this morning that the tax policies of the Scottish Government have actually cost Scotland money rather than raised it. He will know, too, that this Government have had to undertake a comprehensive audit of spending to make sure that we can clear up the mess that we have inherited. The £22 billion black hole is real, and the Treasury reserves have been spent more than three times over. He will be aware that the focus of the Chancellor is on making sure that we fix the foundations and get the economy back on track."
      ],
      "text/plain": [
       "<IPython.core.display.Markdown object>"
      ]
     },
     "metadata": {},
     "output_type": "display_data"
    },
    {
     "data": {
      "text/markdown": [
       "## Stella Creasy (24949)"
      ],
      "text/plain": [
       "<IPython.core.display.Markdown object>"
      ]
     },
     "metadata": {},
     "output_type": "display_data"
    },
    {
     "data": {
      "text/markdown": [
       "[Debate link](https://www.theyworkforyou.com/debates/?id=2024-09-04b.342.1) | [Register link](https://www.theyworkforyou.com/mp/24949/register)"
      ],
      "text/plain": [
       "<IPython.core.display.Markdown object>"
      ]
     },
     "metadata": {},
     "output_type": "display_data"
    },
    {
     "data": {
      "text/markdown": [
       "match score: 0.66"
      ],
      "text/plain": [
       "<IPython.core.display.Markdown object>"
      ]
     },
     "metadata": {},
     "output_type": "display_data"
    },
    {
     "data": {
      "text/markdown": [
       ">My amendments are about trying to understand how we will deal with cumulative debt and cumulatively fiscally significant policies"
      ],
      "text/plain": [
       "<IPython.core.display.Markdown object>"
      ]
     },
     "metadata": {},
     "output_type": "display_data"
    },
    {
     "data": {
      "text/markdown": [
       "## Lindsay Hoyle (10295)"
      ],
      "text/plain": [
       "<IPython.core.display.Markdown object>"
      ]
     },
     "metadata": {},
     "output_type": "display_data"
    },
    {
     "data": {
      "text/markdown": [
       "[Debate link](https://www.theyworkforyou.com/debates/?id=2024-09-04b.289.1) | [Register link](https://www.theyworkforyou.com/mp/10295/register)"
      ],
      "text/plain": [
       "<IPython.core.display.Markdown object>"
      ]
     },
     "metadata": {},
     "output_type": "display_data"
    },
    {
     "data": {
      "text/markdown": [
       "match score: 0.65"
      ],
      "text/plain": [
       "<IPython.core.display.Markdown object>"
      ]
     },
     "metadata": {},
     "output_type": "display_data"
    },
    {
     "data": {
      "text/markdown": [
       ">I remind Members that the private Member’s Bills ballot book is open today in the No Lobby until 6pm, at which point it will be taken to the Public Bill Office and remain open for signatures until the rise of the House. The ballot draw will be held at 9 am tomorrow in Committee Room 8."
      ],
      "text/plain": [
       "<IPython.core.display.Markdown object>"
      ]
     },
     "metadata": {},
     "output_type": "display_data"
    },
    {
     "data": {
      "text/markdown": [
       "## None ()"
      ],
      "text/plain": [
       "<IPython.core.display.Markdown object>"
      ]
     },
     "metadata": {},
     "output_type": "display_data"
    },
    {
     "data": {
      "text/markdown": [
       "[Debate link](https://www.theyworkforyou.com/debates/?id=2024-09-04b.333.1) | [Register link](https://www.theyworkforyou.com/mp//register)"
      ],
      "text/plain": [
       "<IPython.core.display.Markdown object>"
      ]
     },
     "metadata": {},
     "output_type": "display_data"
    },
    {
     "data": {
      "text/markdown": [
       "match score: 0.65"
      ],
      "text/plain": [
       "<IPython.core.display.Markdown object>"
      ]
     },
     "metadata": {},
     "output_type": "display_data"
    },
    {
     "data": {
      "text/markdown": [
       ">Considered in Committee"
      ],
      "text/plain": [
       "<IPython.core.display.Markdown object>"
      ]
     },
     "metadata": {},
     "output_type": "display_data"
    },
    {
     "data": {
      "text/markdown": [
       "## None ()"
      ],
      "text/plain": [
       "<IPython.core.display.Markdown object>"
      ]
     },
     "metadata": {},
     "output_type": "display_data"
    },
    {
     "data": {
      "text/markdown": [
       "[Debate link](https://www.theyworkforyou.com/debates/?id=2024-09-04b.333.1) | [Register link](https://www.theyworkforyou.com/mp//register)"
      ],
      "text/plain": [
       "<IPython.core.display.Markdown object>"
      ]
     },
     "metadata": {},
     "output_type": "display_data"
    },
    {
     "data": {
      "text/markdown": [
       "match score: 0.65"
      ],
      "text/plain": [
       "<IPython.core.display.Markdown object>"
      ]
     },
     "metadata": {},
     "output_type": "display_data"
    },
    {
     "data": {
      "text/markdown": [
       ">Considered in Committee"
      ],
      "text/plain": [
       "<IPython.core.display.Markdown object>"
      ]
     },
     "metadata": {},
     "output_type": "display_data"
    },
    {
     "data": {
      "text/markdown": [
       "## Darren Jones (25637)"
      ],
      "text/plain": [
       "<IPython.core.display.Markdown object>"
      ]
     },
     "metadata": {},
     "output_type": "display_data"
    },
    {
     "data": {
      "text/markdown": [
       "[Debate link](https://www.theyworkforyou.com/debates/?id=2024-09-04b.377.3) | [Register link](https://www.theyworkforyou.com/mp/25637/register)"
      ],
      "text/plain": [
       "<IPython.core.display.Markdown object>"
      ]
     },
     "metadata": {},
     "output_type": "display_data"
    },
    {
     "data": {
      "text/markdown": [
       "match score: 0.65"
      ],
      "text/plain": [
       "<IPython.core.display.Markdown object>"
      ]
     },
     "metadata": {},
     "output_type": "display_data"
    },
    {
     "data": {
      "text/markdown": [
       ">The amendments would also place a condition on policies with a cumulative impact on public sector net debt, and my hon. Friend noted public-private partnerships as an example. She was referring to PFI and PF2 models, which the previous Government had no longer proceeded with, and there has been no change to this policy. As the Chancellor said in her Mais lecture earlier this year, we will also report on wider measures of public sector assets and liabilities at fiscal events to ensure transparency across the whole balance sheet, which includes non-debt liabilities. Reporting transparently on the Government’s stock of contingent liabilities is key to ensuring we do not take excessive risk. I can therefore confirm today that the Government will publish a report on our contingent liabilities. I expect the contingent liability central capability to do this in early 2025. Having said all that, I recognise the issues my hon. Friend raises, and I will arrange to meet her to discuss them further."
      ],
      "text/plain": [
       "<IPython.core.display.Markdown object>"
      ]
     },
     "metadata": {},
     "output_type": "display_data"
    },
    {
     "data": {
      "text/markdown": [
       "# 2024-09-03"
      ],
      "text/plain": [
       "<IPython.core.display.Markdown object>"
      ]
     },
     "metadata": {},
     "output_type": "display_data"
    },
    {
     "data": {
      "text/markdown": [
       "## Ed Miliband (11545)"
      ],
      "text/plain": [
       "<IPython.core.display.Markdown object>"
      ]
     },
     "metadata": {},
     "output_type": "display_data"
    },
    {
     "data": {
      "text/markdown": [
       "[Debate link](https://www.theyworkforyou.com/debates/?id=2024-09-03c.182.0) | [Register link](https://www.theyworkforyou.com/mp/11545/register)"
      ],
      "text/plain": [
       "<IPython.core.display.Markdown object>"
      ]
     },
     "metadata": {},
     "output_type": "display_data"
    },
    {
     "data": {
      "text/markdown": [
       "match score: 0.72"
      ],
      "text/plain": [
       "<IPython.core.display.Markdown object>"
      ]
     },
     "metadata": {},
     "output_type": "display_data"
    },
    {
     "data": {
      "text/markdown": [
       ">Let me deal with the hon Member’s specific points"
      ],
      "text/plain": [
       "<IPython.core.display.Markdown object>"
      ]
     },
     "metadata": {},
     "output_type": "display_data"
    },
    {
     "data": {
      "text/markdown": [
       "## Grahame Morris (24715)"
      ],
      "text/plain": [
       "<IPython.core.display.Markdown object>"
      ]
     },
     "metadata": {},
     "output_type": "display_data"
    },
    {
     "data": {
      "text/markdown": [
       "[Debate link](https://www.theyworkforyou.com/debates/?id=2024-09-03c.212.0) | [Register link](https://www.theyworkforyou.com/mp/24715/register)"
      ],
      "text/plain": [
       "<IPython.core.display.Markdown object>"
      ]
     },
     "metadata": {},
     "output_type": "display_data"
    },
    {
     "data": {
      "text/markdown": [
       "match score: 0.69"
      ],
      "text/plain": [
       "<IPython.core.display.Markdown object>"
      ]
     },
     "metadata": {},
     "output_type": "display_data"
    },
    {
     "data": {
      "text/markdown": [
       ">I start by declaring an interest"
      ],
      "text/plain": [
       "<IPython.core.display.Markdown object>"
      ]
     },
     "metadata": {},
     "output_type": "display_data"
    },
    {
     "data": {
      "text/markdown": [
       "## Lindsay Hoyle (10295)"
      ],
      "text/plain": [
       "<IPython.core.display.Markdown object>"
      ]
     },
     "metadata": {},
     "output_type": "display_data"
    },
    {
     "data": {
      "text/markdown": [
       "[Debate link](https://www.theyworkforyou.com/debates/?id=2024-09-03c.137.1) | [Register link](https://www.theyworkforyou.com/mp/10295/register)"
      ],
      "text/plain": [
       "<IPython.core.display.Markdown object>"
      ]
     },
     "metadata": {},
     "output_type": "display_data"
    },
    {
     "data": {
      "text/markdown": [
       "match score: 0.69"
      ],
      "text/plain": [
       "<IPython.core.display.Markdown object>"
      ]
     },
     "metadata": {},
     "output_type": "display_data"
    },
    {
     "data": {
      "text/markdown": [
       ">I would like to draw Members’ attention to the fact that the book for entering the private Members’ Bill ballot is now open in the No Lobby"
      ],
      "text/plain": [
       "<IPython.core.display.Markdown object>"
      ]
     },
     "metadata": {},
     "output_type": "display_data"
    },
    {
     "data": {
      "text/markdown": [
       "## Ed Miliband (11545)"
      ],
      "text/plain": [
       "<IPython.core.display.Markdown object>"
      ]
     },
     "metadata": {},
     "output_type": "display_data"
    },
    {
     "data": {
      "text/markdown": [
       "[Debate link](https://www.theyworkforyou.com/debates/?id=2024-09-03c.179.2) | [Register link](https://www.theyworkforyou.com/mp/11545/register)"
      ],
      "text/plain": [
       "<IPython.core.display.Markdown object>"
      ]
     },
     "metadata": {},
     "output_type": "display_data"
    },
    {
     "data": {
      "text/markdown": [
       "match score: 0.69"
      ],
      "text/plain": [
       "<IPython.core.display.Markdown object>"
      ]
     },
     "metadata": {},
     "output_type": "display_data"
    },
    {
     "data": {
      "text/markdown": [
       ">With permission, I would like to make a statement about the sixth contracts for difference allocation round"
      ],
      "text/plain": [
       "<IPython.core.display.Markdown object>"
      ]
     },
     "metadata": {},
     "output_type": "display_data"
    },
    {
     "data": {
      "text/markdown": [
       "## Lindsay Hoyle (10295)"
      ],
      "text/plain": [
       "<IPython.core.display.Markdown object>"
      ]
     },
     "metadata": {},
     "output_type": "display_data"
    },
    {
     "data": {
      "text/markdown": [
       "[Debate link](https://www.theyworkforyou.com/debates/?id=2024-09-03c.137.1) | [Register link](https://www.theyworkforyou.com/mp/10295/register)"
      ],
      "text/plain": [
       "<IPython.core.display.Markdown object>"
      ]
     },
     "metadata": {},
     "output_type": "display_data"
    },
    {
     "data": {
      "text/markdown": [
       "match score: 0.68"
      ],
      "text/plain": [
       "<IPython.core.display.Markdown object>"
      ]
     },
     "metadata": {},
     "output_type": "display_data"
    },
    {
     "data": {
      "text/markdown": [
       ">I would like to draw Members’ attention to the fact that the book for entering the private Members’ Bill ballot is now open in the No Lobby. It will be open until the House rises today, and while the House is sitting tomorrow. The book will be available for Members to sign in the No Lobby until 6 pm on both days, at which point it will be taken to the Public Bill Office and remain open for signatures until the rise of the House. The ballot itself will be drawn at 9 am this Thursday, in Committee Room 8. An announcement setting out these and other arrangements, and the dates when ten-minute rule motions can be made and presentation Bills introduced, is published in the Order Paper."
      ],
      "text/plain": [
       "<IPython.core.display.Markdown object>"
      ]
     },
     "metadata": {},
     "output_type": "display_data"
    },
    {
     "data": {
      "text/markdown": [
       "## Simon Lightwood (26085)"
      ],
      "text/plain": [
       "<IPython.core.display.Markdown object>"
      ]
     },
     "metadata": {},
     "output_type": "display_data"
    },
    {
     "data": {
      "text/markdown": [
       "[Debate link](https://www.theyworkforyou.com/debates/?id=2024-09-03c.255.0) | [Register link](https://www.theyworkforyou.com/mp/26085/register)"
      ],
      "text/plain": [
       "<IPython.core.display.Markdown object>"
      ]
     },
     "metadata": {},
     "output_type": "display_data"
    },
    {
     "data": {
      "text/markdown": [
       "match score: 0.68"
      ],
      "text/plain": [
       "<IPython.core.display.Markdown object>"
      ]
     },
     "metadata": {},
     "output_type": "display_data"
    },
    {
     "data": {
      "text/markdown": [
       ">Amendments 8 and 11 look to require independent monitoring of the financial and operational performance of public sector train operators. The Department holds train operating companies to account for their financial management through regular reviews of their management accounts and business plans. That applies to both public and privately owned operators. In addition, in England publicly owned operators are overseen by DFT OLR Holdings Ltd, known as DOHL. As a holding company owned by the Secretary of State, DOHL is experienced in reviewing and monitoring the financial arrangements of the companies it manages, and contrary to what the hon. Lady said, it is building its capacity in readiness to take over more services. At the same time, public ownership will reduce the other contract management costs, because there will no longer be the same commercial tension of the taxpayer interacting with private profit. Amendment 8 refers specifically to the auditing of publicly owned train operating companies’ accounts. It is already the case that DOHL and the operators it oversees must publish their audited accounts annually."
      ],
      "text/plain": [
       "<IPython.core.display.Markdown object>"
      ]
     },
     "metadata": {},
     "output_type": "display_data"
    },
    {
     "data": {
      "text/markdown": [
       "## Caroline Nokes (24809)"
      ],
      "text/plain": [
       "<IPython.core.display.Markdown object>"
      ]
     },
     "metadata": {},
     "output_type": "display_data"
    },
    {
     "data": {
      "text/markdown": [
       "[Debate link](https://www.theyworkforyou.com/debates/?id=2024-09-03c.194.5) | [Register link](https://www.theyworkforyou.com/mp/24809/register)"
      ],
      "text/plain": [
       "<IPython.core.display.Markdown object>"
      ]
     },
     "metadata": {},
     "output_type": "display_data"
    },
    {
     "data": {
      "text/markdown": [
       "match score: 0.68"
      ],
      "text/plain": [
       "<IPython.core.display.Markdown object>"
      ]
     },
     "metadata": {},
     "output_type": "display_data"
    },
    {
     "data": {
      "text/markdown": [
       ">(1) The Secretary of State must, within three months of the coming into force of the Passenger Railway Services (Public Ownership) Act 2024, instruct an independent body to conduct monitoring of the financial management of any public sector company with whom a direct award of a public service contract is made under section 30(1A)."
      ],
      "text/plain": [
       "<IPython.core.display.Markdown object>"
      ]
     },
     "metadata": {},
     "output_type": "display_data"
    },
    {
     "data": {
      "text/markdown": [
       "## Simon Lightwood (26085)"
      ],
      "text/plain": [
       "<IPython.core.display.Markdown object>"
      ]
     },
     "metadata": {},
     "output_type": "display_data"
    },
    {
     "data": {
      "text/markdown": [
       "[Debate link](https://www.theyworkforyou.com/debates/?id=2024-09-03c.255.0) | [Register link](https://www.theyworkforyou.com/mp/26085/register)"
      ],
      "text/plain": [
       "<IPython.core.display.Markdown object>"
      ]
     },
     "metadata": {},
     "output_type": "display_data"
    },
    {
     "data": {
      "text/markdown": [
       "match score: 0.67"
      ],
      "text/plain": [
       "<IPython.core.display.Markdown object>"
      ]
     },
     "metadata": {},
     "output_type": "display_data"
    },
    {
     "data": {
      "text/markdown": [
       ">Amendment 9 would require the Secretary of State to procure independent reports about the costs of the contracts awarded to public sector operators. The Department already publishes information on payments made to operators, whether private or public. There is therefore no need for the taxpayer to fund a separate body to report the same data. Nevertheless, the hon. Lady is entirely right to take an interest in the cost of  these contracts. In that spirit, I would gently remind her that ending the taxpayer funding of private profits will result in an immediate and enduring reduction in these costs."
      ],
      "text/plain": [
       "<IPython.core.display.Markdown object>"
      ]
     },
     "metadata": {},
     "output_type": "display_data"
    },
    {
     "data": {
      "text/markdown": [
       "## None ()"
      ],
      "text/plain": [
       "<IPython.core.display.Markdown object>"
      ]
     },
     "metadata": {},
     "output_type": "display_data"
    },
    {
     "data": {
      "text/markdown": [
       "[Debate link](https://www.theyworkforyou.com/debates/?id=2024-09-03c.137.4) | [Register link](https://www.theyworkforyou.com/mp//register)"
      ],
      "text/plain": [
       "<IPython.core.display.Markdown object>"
      ]
     },
     "metadata": {},
     "output_type": "display_data"
    },
    {
     "data": {
      "text/markdown": [
       "match score: 0.67"
      ],
      "text/plain": [
       "<IPython.core.display.Markdown object>"
      ]
     },
     "metadata": {},
     "output_type": "display_data"
    },
    {
     "data": {
      "text/markdown": [
       ">(8) Grand Committees and the Regional Affairs Committee"
      ],
      "text/plain": [
       "<IPython.core.display.Markdown object>"
      ]
     },
     "metadata": {},
     "output_type": "display_data"
    },
    {
     "data": {
      "text/markdown": [
       "## None ()"
      ],
      "text/plain": [
       "<IPython.core.display.Markdown object>"
      ]
     },
     "metadata": {},
     "output_type": "display_data"
    },
    {
     "data": {
      "text/markdown": [
       "[Debate link](https://www.theyworkforyou.com/debates/?id=2024-09-03c.137.4) | [Register link](https://www.theyworkforyou.com/mp//register)"
      ],
      "text/plain": [
       "<IPython.core.display.Markdown object>"
      ]
     },
     "metadata": {},
     "output_type": "display_data"
    },
    {
     "data": {
      "text/markdown": [
       "match score: 0.67"
      ],
      "text/plain": [
       "<IPython.core.display.Markdown object>"
      ]
     },
     "metadata": {},
     "output_type": "display_data"
    },
    {
     "data": {
      "text/markdown": [
       ">(8) Grand Committees and the Regional Affairs Committee"
      ],
      "text/plain": [
       "<IPython.core.display.Markdown object>"
      ]
     },
     "metadata": {},
     "output_type": "display_data"
    },
    {
     "data": {
      "text/markdown": [
       "## None ()"
      ],
      "text/plain": [
       "<IPython.core.display.Markdown object>"
      ]
     },
     "metadata": {},
     "output_type": "display_data"
    },
    {
     "data": {
      "text/markdown": [
       "[Debate link](https://www.theyworkforyou.com/debates/?id=2024-09-03c.137.4) | [Register link](https://www.theyworkforyou.com/mp//register)"
      ],
      "text/plain": [
       "<IPython.core.display.Markdown object>"
      ]
     },
     "metadata": {},
     "output_type": "display_data"
    },
    {
     "data": {
      "text/markdown": [
       "match score: 0.67"
      ],
      "text/plain": [
       "<IPython.core.display.Markdown object>"
      ]
     },
     "metadata": {},
     "output_type": "display_data"
    },
    {
     "data": {
      "text/markdown": [
       ">(10) Select Committees"
      ],
      "text/plain": [
       "<IPython.core.display.Markdown object>"
      ]
     },
     "metadata": {},
     "output_type": "display_data"
    },
    {
     "data": {
      "text/markdown": [
       "## Rachel Reeves (24851)"
      ],
      "text/plain": [
       "<IPython.core.display.Markdown object>"
      ]
     },
     "metadata": {},
     "output_type": "display_data"
    },
    {
     "data": {
      "text/markdown": [
       "[Debate link](https://www.theyworkforyou.com/debates/?id=2024-09-03c.152.0) | [Register link](https://www.theyworkforyou.com/mp/24851/register)"
      ],
      "text/plain": [
       "<IPython.core.display.Markdown object>"
      ]
     },
     "metadata": {},
     "output_type": "display_data"
    },
    {
     "data": {
      "text/markdown": [
       "match score: 0.67"
      ],
      "text/plain": [
       "<IPython.core.display.Markdown object>"
      ]
     },
     "metadata": {},
     "output_type": "display_data"
    },
    {
     "data": {
      "text/markdown": [
       ">I welcome my hon. Friend to her place; it is already obvious that she will be a strong voice for the people of Monmouthshire. In our party manifesto, we committed to rolling out 350 banking hubs in communities like those she speaks about, which have lost multiple banks in the past few years. The Economic Secretary to the Treasury will happily meet my hon. Friend to work on achieving one such banking hub in her constituency. That is an offer to Members right across the House; so many of our constituencies have lost bank branches in the past few years. For older people, small businesses and families, the lack of access to cash can be devastating, and we are determined to reverse it with the roll-out of the new banking hubs."
      ],
      "text/plain": [
       "<IPython.core.display.Markdown object>"
      ]
     },
     "metadata": {},
     "output_type": "display_data"
    },
    {
     "data": {
      "text/markdown": [
       "## Graham Stringer (10576)"
      ],
      "text/plain": [
       "<IPython.core.display.Markdown object>"
      ]
     },
     "metadata": {},
     "output_type": "display_data"
    },
    {
     "data": {
      "text/markdown": [
       "[Debate link](https://www.theyworkforyou.com/debates/?id=2024-09-03c.206.3) | [Register link](https://www.theyworkforyou.com/mp/10576/register)"
      ],
      "text/plain": [
       "<IPython.core.display.Markdown object>"
      ]
     },
     "metadata": {},
     "output_type": "display_data"
    },
    {
     "data": {
      "text/markdown": [
       "match score: 0.67"
      ],
      "text/plain": [
       "<IPython.core.display.Markdown object>"
      ]
     },
     "metadata": {},
     "output_type": "display_data"
    },
    {
     "data": {
      "text/markdown": [
       ">There are other points too, but I do not want to bore the Committee too much. The last point is:"
      ],
      "text/plain": [
       "<IPython.core.display.Markdown object>"
      ]
     },
     "metadata": {},
     "output_type": "display_data"
    },
    {
     "data": {
      "text/markdown": [
       "## Caroline Nokes (24809)"
      ],
      "text/plain": [
       "<IPython.core.display.Markdown object>"
      ]
     },
     "metadata": {},
     "output_type": "display_data"
    },
    {
     "data": {
      "text/markdown": [
       "[Debate link](https://www.theyworkforyou.com/debates/?id=2024-09-03c.194.5) | [Register link](https://www.theyworkforyou.com/mp/24809/register)"
      ],
      "text/plain": [
       "<IPython.core.display.Markdown object>"
      ]
     },
     "metadata": {},
     "output_type": "display_data"
    },
    {
     "data": {
      "text/markdown": [
       "match score: 0.67"
      ],
      "text/plain": [
       "<IPython.core.display.Markdown object>"
      ]
     },
     "metadata": {},
     "output_type": "display_data"
    },
    {
     "data": {
      "text/markdown": [
       ">(1) The Secretary of State must, within three months of the coming into force of the Passenger Railway Services (Public Ownership) Act 2024, instruct an independent body to conduct monitoring of the financial management of any public sector company with whom a direct award of a public service contract is made under section 30(1A)"
      ],
      "text/plain": [
       "<IPython.core.display.Markdown object>"
      ]
     },
     "metadata": {},
     "output_type": "display_data"
    },
    {
     "data": {
      "text/markdown": [
       "## Ed Miliband (11545)"
      ],
      "text/plain": [
       "<IPython.core.display.Markdown object>"
      ]
     },
     "metadata": {},
     "output_type": "display_data"
    },
    {
     "data": {
      "text/markdown": [
       "[Debate link](https://www.theyworkforyou.com/debates/?id=2024-09-03c.179.2) | [Register link](https://www.theyworkforyou.com/mp/11545/register)"
      ],
      "text/plain": [
       "<IPython.core.display.Markdown object>"
      ]
     },
     "metadata": {},
     "output_type": "display_data"
    },
    {
     "data": {
      "text/markdown": [
       "match score: 0.67"
      ],
      "text/plain": [
       "<IPython.core.display.Markdown object>"
      ]
     },
     "metadata": {},
     "output_type": "display_data"
    },
    {
     "data": {
      "text/markdown": [
       ">With permission, I would like to make a statement about the sixth contracts for difference allocation round."
      ],
      "text/plain": [
       "<IPython.core.display.Markdown object>"
      ]
     },
     "metadata": {},
     "output_type": "display_data"
    },
    {
     "data": {
      "text/markdown": [
       "## Darren Jones (25637)"
      ],
      "text/plain": [
       "<IPython.core.display.Markdown object>"
      ]
     },
     "metadata": {},
     "output_type": "display_data"
    },
    {
     "data": {
      "text/markdown": [
       "[Debate link](https://www.theyworkforyou.com/debates/?id=2024-09-03c.155.5) | [Register link](https://www.theyworkforyou.com/mp/25637/register)"
      ],
      "text/plain": [
       "<IPython.core.display.Markdown object>"
      ]
     },
     "metadata": {},
     "output_type": "display_data"
    },
    {
     "data": {
      "text/markdown": [
       "match score: 0.67"
      ],
      "text/plain": [
       "<IPython.core.display.Markdown object>"
      ]
     },
     "metadata": {},
     "output_type": "display_data"
    },
    {
     "data": {
      "text/markdown": [
       ">It is for the company and its investors to resolve their possible issues"
      ],
      "text/plain": [
       "<IPython.core.display.Markdown object>"
      ]
     },
     "metadata": {},
     "output_type": "display_data"
    },
    {
     "data": {
      "text/markdown": [
       "## Grahame Morris (24715)"
      ],
      "text/plain": [
       "<IPython.core.display.Markdown object>"
      ]
     },
     "metadata": {},
     "output_type": "display_data"
    },
    {
     "data": {
      "text/markdown": [
       "[Debate link](https://www.theyworkforyou.com/debates/?id=2024-09-03c.212.0) | [Register link](https://www.theyworkforyou.com/mp/24715/register)"
      ],
      "text/plain": [
       "<IPython.core.display.Markdown object>"
      ]
     },
     "metadata": {},
     "output_type": "display_data"
    },
    {
     "data": {
      "text/markdown": [
       "match score: 0.67"
      ],
      "text/plain": [
       "<IPython.core.display.Markdown object>"
      ]
     },
     "metadata": {},
     "output_type": "display_data"
    },
    {
     "data": {
      "text/markdown": [
       ">I start by declaring an interest. I am proud of the fact that I am a trade unionist and have strong links to the transport unions, particularly Unite, the National Union of Rail, Maritime and Transport Workers, and ASLEF. Indeed, as I pointed out on Second Reading, when I was a young fellow many years ago, my first job was on the railways, when they were part of British Rail. In those days, I was a member of the National Union of Railwaymen. More recently, I served on the Transport Committee for almost six years, and I am delighted that many of the arguments and issues that I and many other stakeholders raised in numerous sessions have finally found their way into a Government Bill and on to the Floor of the House of Commons."
      ],
      "text/plain": [
       "<IPython.core.display.Markdown object>"
      ]
     },
     "metadata": {},
     "output_type": "display_data"
    },
    {
     "data": {
      "text/markdown": [
       "## Rachel Reeves (24851)"
      ],
      "text/plain": [
       "<IPython.core.display.Markdown object>"
      ]
     },
     "metadata": {},
     "output_type": "display_data"
    },
    {
     "data": {
      "text/markdown": [
       "[Debate link](https://www.theyworkforyou.com/debates/?id=2024-09-03c.146.3) | [Register link](https://www.theyworkforyou.com/mp/24851/register)"
      ],
      "text/plain": [
       "<IPython.core.display.Markdown object>"
      ]
     },
     "metadata": {},
     "output_type": "display_data"
    },
    {
     "data": {
      "text/markdown": [
       "match score: 0.67"
      ],
      "text/plain": [
       "<IPython.core.display.Markdown object>"
      ]
     },
     "metadata": {},
     "output_type": "display_data"
    },
    {
     "data": {
      "text/markdown": [
       ">We are ensuring that pensioners get the pensions that they are entitled to and have contributed to"
      ],
      "text/plain": [
       "<IPython.core.display.Markdown object>"
      ]
     },
     "metadata": {},
     "output_type": "display_data"
    },
    {
     "data": {
      "text/markdown": [
       "## Caroline Nokes (24809)"
      ],
      "text/plain": [
       "<IPython.core.display.Markdown object>"
      ]
     },
     "metadata": {},
     "output_type": "display_data"
    },
    {
     "data": {
      "text/markdown": [
       "[Debate link](https://www.theyworkforyou.com/debates/?id=2024-09-03c.194.5) | [Register link](https://www.theyworkforyou.com/mp/24809/register)"
      ],
      "text/plain": [
       "<IPython.core.display.Markdown object>"
      ]
     },
     "metadata": {},
     "output_type": "display_data"
    },
    {
     "data": {
      "text/markdown": [
       "match score: 0.66"
      ],
      "text/plain": [
       "<IPython.core.display.Markdown object>"
      ]
     },
     "metadata": {},
     "output_type": "display_data"
    },
    {
     "data": {
      "text/markdown": [
       ">“30D Independent body to provide advice on proposed contracts"
      ],
      "text/plain": [
       "<IPython.core.display.Markdown object>"
      ]
     },
     "metadata": {},
     "output_type": "display_data"
    },
    {
     "data": {
      "text/markdown": [
       "## Caroline Nokes (24809)"
      ],
      "text/plain": [
       "<IPython.core.display.Markdown object>"
      ]
     },
     "metadata": {},
     "output_type": "display_data"
    },
    {
     "data": {
      "text/markdown": [
       "[Debate link](https://www.theyworkforyou.com/debates/?id=2024-09-03c.194.5) | [Register link](https://www.theyworkforyou.com/mp/24809/register)"
      ],
      "text/plain": [
       "<IPython.core.display.Markdown object>"
      ]
     },
     "metadata": {},
     "output_type": "display_data"
    },
    {
     "data": {
      "text/markdown": [
       "match score: 0.66"
      ],
      "text/plain": [
       "<IPython.core.display.Markdown object>"
      ]
     },
     "metadata": {},
     "output_type": "display_data"
    },
    {
     "data": {
      "text/markdown": [
       ">“30D Independent body to provide advice on proposed contracts"
      ],
      "text/plain": [
       "<IPython.core.display.Markdown object>"
      ]
     },
     "metadata": {},
     "output_type": "display_data"
    },
    {
     "data": {
      "text/markdown": [
       "## Josh Newbury (26317)"
      ],
      "text/plain": [
       "<IPython.core.display.Markdown object>"
      ]
     },
     "metadata": {},
     "output_type": "display_data"
    },
    {
     "data": {
      "text/markdown": [
       "[Debate link](https://www.theyworkforyou.com/debates/?id=2024-09-03c.155.6) | [Register link](https://www.theyworkforyou.com/mp/26317/register)"
      ],
      "text/plain": [
       "<IPython.core.display.Markdown object>"
      ]
     },
     "metadata": {},
     "output_type": "display_data"
    },
    {
     "data": {
      "text/markdown": [
       "match score: 0.66"
      ],
      "text/plain": [
       "<IPython.core.display.Markdown object>"
      ]
     },
     "metadata": {},
     "output_type": "display_data"
    },
    {
     "data": {
      "text/markdown": [
       ">For decades, members of the mineworkers’ pension scheme in Cannock Chase and across the country have seen billions go to successive Governments. With an average of 19 scheme members passing away every day, resolution cannot come too soon. What progress has been made on transferring the Government’s share of the MPS investment reserve to scheme members?"
      ],
      "text/plain": [
       "<IPython.core.display.Markdown object>"
      ]
     },
     "metadata": {},
     "output_type": "display_data"
    },
    {
     "data": {
      "text/markdown": [
       "## Caroline Nokes (24809)"
      ],
      "text/plain": [
       "<IPython.core.display.Markdown object>"
      ]
     },
     "metadata": {},
     "output_type": "display_data"
    },
    {
     "data": {
      "text/markdown": [
       "[Debate link](https://www.theyworkforyou.com/debates/?id=2024-09-03c.194.5) | [Register link](https://www.theyworkforyou.com/mp/24809/register)"
      ],
      "text/plain": [
       "<IPython.core.display.Markdown object>"
      ]
     },
     "metadata": {},
     "output_type": "display_data"
    },
    {
     "data": {
      "text/markdown": [
       "match score: 0.66"
      ],
      "text/plain": [
       "<IPython.core.display.Markdown object>"
      ]
     },
     "metadata": {},
     "output_type": "display_data"
    },
    {
     "data": {
      "text/markdown": [
       ">“30ZA Independent financial monitoring of public sector companies"
      ],
      "text/plain": [
       "<IPython.core.display.Markdown object>"
      ]
     },
     "metadata": {},
     "output_type": "display_data"
    },
    {
     "data": {
      "text/markdown": [
       "## Caroline Nokes (24809)"
      ],
      "text/plain": [
       "<IPython.core.display.Markdown object>"
      ]
     },
     "metadata": {},
     "output_type": "display_data"
    },
    {
     "data": {
      "text/markdown": [
       "[Debate link](https://www.theyworkforyou.com/debates/?id=2024-09-03c.194.5) | [Register link](https://www.theyworkforyou.com/mp/24809/register)"
      ],
      "text/plain": [
       "<IPython.core.display.Markdown object>"
      ]
     },
     "metadata": {},
     "output_type": "display_data"
    },
    {
     "data": {
      "text/markdown": [
       "match score: 0.66"
      ],
      "text/plain": [
       "<IPython.core.display.Markdown object>"
      ]
     },
     "metadata": {},
     "output_type": "display_data"
    },
    {
     "data": {
      "text/markdown": [
       ">“30ZA Independent financial monitoring of public sector companies"
      ],
      "text/plain": [
       "<IPython.core.display.Markdown object>"
      ]
     },
     "metadata": {},
     "output_type": "display_data"
    },
    {
     "data": {
      "text/markdown": [
       "## Simon Lightwood (26085)"
      ],
      "text/plain": [
       "<IPython.core.display.Markdown object>"
      ]
     },
     "metadata": {},
     "output_type": "display_data"
    },
    {
     "data": {
      "text/markdown": [
       "[Debate link](https://www.theyworkforyou.com/debates/?id=2024-09-03c.255.0) | [Register link](https://www.theyworkforyou.com/mp/26085/register)"
      ],
      "text/plain": [
       "<IPython.core.display.Markdown object>"
      ]
     },
     "metadata": {},
     "output_type": "display_data"
    },
    {
     "data": {
      "text/markdown": [
       "match score: 0.66"
      ],
      "text/plain": [
       "<IPython.core.display.Markdown object>"
      ]
     },
     "metadata": {},
     "output_type": "display_data"
    },
    {
     "data": {
      "text/markdown": [
       ">Amendment 9 also raises the specific question of whether public ownership will expose the Government to liabilities that have previously sat with private operators. Under the current national rail contracts, the Government fund the costs legitimately incurred by train operating companies. That includes, for example, the net operational cost of running services and the cost of meeting pension liabilities. Prior to the pandemic, franchised operators bore some cost risk, but were protected by the taxpayer against, among other things, inflation and, in more recent contracts, risk on movements in pension deficit recovery payments. The franchising system meant that bidders simply priced any change in liabilities into their bids, meaning that the taxpayer was exposed to liabilities in the long term. Public ownership therefore does not materially change the Government’s exposure to liabilities in the long run."
      ],
      "text/plain": [
       "<IPython.core.display.Markdown object>"
      ]
     },
     "metadata": {},
     "output_type": "display_data"
    },
    {
     "data": {
      "text/markdown": [
       "## Anneliese Dodds (25618)"
      ],
      "text/plain": [
       "<IPython.core.display.Markdown object>"
      ]
     },
     "metadata": {},
     "output_type": "display_data"
    },
    {
     "data": {
      "text/markdown": [
       "[Debate link](https://www.theyworkforyou.com/debates/?id=2024-09-03c.167.3) | [Register link](https://www.theyworkforyou.com/mp/25618/register)"
      ],
      "text/plain": [
       "<IPython.core.display.Markdown object>"
      ]
     },
     "metadata": {},
     "output_type": "display_data"
    },
    {
     "data": {
      "text/markdown": [
       "match score: 0.66"
      ],
      "text/plain": [
       "<IPython.core.display.Markdown object>"
      ]
     },
     "metadata": {},
     "output_type": "display_data"
    },
    {
     "data": {
      "text/markdown": [
       ">It is important that their contribution is recognised"
      ],
      "text/plain": [
       "<IPython.core.display.Markdown object>"
      ]
     },
     "metadata": {},
     "output_type": "display_data"
    },
    {
     "data": {
      "text/markdown": [
       "## Helen Whately (25398)"
      ],
      "text/plain": [
       "<IPython.core.display.Markdown object>"
      ]
     },
     "metadata": {},
     "output_type": "display_data"
    },
    {
     "data": {
      "text/markdown": [
       "[Debate link](https://www.theyworkforyou.com/debates/?id=2024-09-03c.205.1) | [Register link](https://www.theyworkforyou.com/mp/25398/register)"
      ],
      "text/plain": [
       "<IPython.core.display.Markdown object>"
      ]
     },
     "metadata": {},
     "output_type": "display_data"
    },
    {
     "data": {
      "text/markdown": [
       "match score: 0.66"
      ],
      "text/plain": [
       "<IPython.core.display.Markdown object>"
      ]
     },
     "metadata": {},
     "output_type": "display_data"
    },
    {
     "data": {
      "text/markdown": [
       ">The independent body I am proposing would look at pay and terms and conditions in the round"
      ],
      "text/plain": [
       "<IPython.core.display.Markdown object>"
      ]
     },
     "metadata": {},
     "output_type": "display_data"
    },
    {
     "data": {
      "text/markdown": [
       "## Darren Jones (25637)"
      ],
      "text/plain": [
       "<IPython.core.display.Markdown object>"
      ]
     },
     "metadata": {},
     "output_type": "display_data"
    },
    {
     "data": {
      "text/markdown": [
       "[Debate link](https://www.theyworkforyou.com/debates/?id=2024-09-03c.157.4) | [Register link](https://www.theyworkforyou.com/mp/25637/register)"
      ],
      "text/plain": [
       "<IPython.core.display.Markdown object>"
      ]
     },
     "metadata": {},
     "output_type": "display_data"
    },
    {
     "data": {
      "text/markdown": [
       "match score: 0.66"
      ],
      "text/plain": [
       "<IPython.core.display.Markdown object>"
      ]
     },
     "metadata": {},
     "output_type": "display_data"
    },
    {
     "data": {
      "text/markdown": [
       ">We are appointing a fixed-term covid fraud commissioner through an open competition that is now running as of this morning. The commissioner will make sure everything is done to return money owed to the taxpayer. It will report to the Chancellor, working with the Secretary of State for Health and Social Care, and will report to Parliament in due course."
      ],
      "text/plain": [
       "<IPython.core.display.Markdown object>"
      ]
     },
     "metadata": {},
     "output_type": "display_data"
    },
    {
     "data": {
      "text/markdown": [
       "## Helen Whately (25398)"
      ],
      "text/plain": [
       "<IPython.core.display.Markdown object>"
      ]
     },
     "metadata": {},
     "output_type": "display_data"
    },
    {
     "data": {
      "text/markdown": [
       "[Debate link](https://www.theyworkforyou.com/debates/?id=2024-09-03c.202.1) | [Register link](https://www.theyworkforyou.com/mp/25398/register)"
      ],
      "text/plain": [
       "<IPython.core.display.Markdown object>"
      ]
     },
     "metadata": {},
     "output_type": "display_data"
    },
    {
     "data": {
      "text/markdown": [
       "match score: 0.66"
      ],
      "text/plain": [
       "<IPython.core.display.Markdown object>"
      ]
     },
     "metadata": {},
     "output_type": "display_data"
    },
    {
     "data": {
      "text/markdown": [
       ">Our proposals will allow us to identify both good and bad performance, hold the managers of those companies to account and reward them accordingly, such as by linking managerial pay to performance. Those companies will no longer have shareholders to answer to, or the financial incentives that go with a senior role in the private sector. The Government have told us that part of their rationale for these changes is to better align the incentives of train operators with the interests of passengers, but the Bill currently provides no mechanism for that. We are not seeking to frustrate a change that this Government were elected to deliver; we simply wish to bring proper transparency and accountability to the process. That includes reporting on the costs involved in bringing operating companies into public ownership."
      ],
      "text/plain": [
       "<IPython.core.display.Markdown object>"
      ]
     },
     "metadata": {},
     "output_type": "display_data"
    },
    {
     "data": {
      "text/markdown": [
       "## None ()"
      ],
      "text/plain": [
       "<IPython.core.display.Markdown object>"
      ]
     },
     "metadata": {},
     "output_type": "display_data"
    },
    {
     "data": {
      "text/markdown": [
       "[Debate link](https://www.theyworkforyou.com/debates/?id=2024-09-03c.137.4) | [Register link](https://www.theyworkforyou.com/mp//register)"
      ],
      "text/plain": [
       "<IPython.core.display.Markdown object>"
      ]
     },
     "metadata": {},
     "output_type": "display_data"
    },
    {
     "data": {
      "text/markdown": [
       "match score: 0.66"
      ],
      "text/plain": [
       "<IPython.core.display.Markdown object>"
      ]
     },
     "metadata": {},
     "output_type": "display_data"
    },
    {
     "data": {
      "text/markdown": [
       ">(1) Business of the House"
      ],
      "text/plain": [
       "<IPython.core.display.Markdown object>"
      ]
     },
     "metadata": {},
     "output_type": "display_data"
    },
    {
     "data": {
      "text/markdown": [
       "## None ()"
      ],
      "text/plain": [
       "<IPython.core.display.Markdown object>"
      ]
     },
     "metadata": {},
     "output_type": "display_data"
    },
    {
     "data": {
      "text/markdown": [
       "[Debate link](https://www.theyworkforyou.com/debates/?id=2024-09-03c.137.4) | [Register link](https://www.theyworkforyou.com/mp//register)"
      ],
      "text/plain": [
       "<IPython.core.display.Markdown object>"
      ]
     },
     "metadata": {},
     "output_type": "display_data"
    },
    {
     "data": {
      "text/markdown": [
       "match score: 0.66"
      ],
      "text/plain": [
       "<IPython.core.display.Markdown object>"
      ]
     },
     "metadata": {},
     "output_type": "display_data"
    },
    {
     "data": {
      "text/markdown": [
       ">(1) Business of the House"
      ],
      "text/plain": [
       "<IPython.core.display.Markdown object>"
      ]
     },
     "metadata": {},
     "output_type": "display_data"
    },
    {
     "data": {
      "text/markdown": [
       "## Caroline Nokes (24809)"
      ],
      "text/plain": [
       "<IPython.core.display.Markdown object>"
      ]
     },
     "metadata": {},
     "output_type": "display_data"
    },
    {
     "data": {
      "text/markdown": [
       "[Debate link](https://www.theyworkforyou.com/debates/?id=2024-09-03c.194.5) | [Register link](https://www.theyworkforyou.com/mp/24809/register)"
      ],
      "text/plain": [
       "<IPython.core.display.Markdown object>"
      ]
     },
     "metadata": {},
     "output_type": "display_data"
    },
    {
     "data": {
      "text/markdown": [
       "match score: 0.65"
      ],
      "text/plain": [
       "<IPython.core.display.Markdown object>"
      ]
     },
     "metadata": {},
     "output_type": "display_data"
    },
    {
     "data": {
      "text/markdown": [
       ">(2) An annual report published under subsection (1) shall include details of a company’s—"
      ],
      "text/plain": [
       "<IPython.core.display.Markdown object>"
      ]
     },
     "metadata": {},
     "output_type": "display_data"
    },
    {
     "data": {
      "text/markdown": [
       "## Caroline Nokes (24809)"
      ],
      "text/plain": [
       "<IPython.core.display.Markdown object>"
      ]
     },
     "metadata": {},
     "output_type": "display_data"
    },
    {
     "data": {
      "text/markdown": [
       "[Debate link](https://www.theyworkforyou.com/debates/?id=2024-09-03c.194.5) | [Register link](https://www.theyworkforyou.com/mp/24809/register)"
      ],
      "text/plain": [
       "<IPython.core.display.Markdown object>"
      ]
     },
     "metadata": {},
     "output_type": "display_data"
    },
    {
     "data": {
      "text/markdown": [
       "match score: 0.65"
      ],
      "text/plain": [
       "<IPython.core.display.Markdown object>"
      ]
     },
     "metadata": {},
     "output_type": "display_data"
    },
    {
     "data": {
      "text/markdown": [
       ">(2) An annual report published under subsection (1) shall include details of a company’s—"
      ],
      "text/plain": [
       "<IPython.core.display.Markdown object>"
      ]
     },
     "metadata": {},
     "output_type": "display_data"
    },
    {
     "data": {
      "text/markdown": [
       "## None ()"
      ],
      "text/plain": [
       "<IPython.core.display.Markdown object>"
      ]
     },
     "metadata": {},
     "output_type": "display_data"
    },
    {
     "data": {
      "text/markdown": [
       "[Debate link](https://www.theyworkforyou.com/debates/?id=2024-09-03c.137.4) | [Register link](https://www.theyworkforyou.com/mp//register)"
      ],
      "text/plain": [
       "<IPython.core.display.Markdown object>"
      ]
     },
     "metadata": {},
     "output_type": "display_data"
    },
    {
     "data": {
      "text/markdown": [
       "match score: 0.65"
      ],
      "text/plain": [
       "<IPython.core.display.Markdown object>"
      ]
     },
     "metadata": {},
     "output_type": "display_data"
    },
    {
     "data": {
      "text/markdown": [
       ">(4) Private Bills and Private Business"
      ],
      "text/plain": [
       "<IPython.core.display.Markdown object>"
      ]
     },
     "metadata": {},
     "output_type": "display_data"
    },
    {
     "data": {
      "text/markdown": [
       "## None ()"
      ],
      "text/plain": [
       "<IPython.core.display.Markdown object>"
      ]
     },
     "metadata": {},
     "output_type": "display_data"
    },
    {
     "data": {
      "text/markdown": [
       "[Debate link](https://www.theyworkforyou.com/debates/?id=2024-09-03c.137.4) | [Register link](https://www.theyworkforyou.com/mp//register)"
      ],
      "text/plain": [
       "<IPython.core.display.Markdown object>"
      ]
     },
     "metadata": {},
     "output_type": "display_data"
    },
    {
     "data": {
      "text/markdown": [
       "match score: 0.65"
      ],
      "text/plain": [
       "<IPython.core.display.Markdown object>"
      ]
     },
     "metadata": {},
     "output_type": "display_data"
    },
    {
     "data": {
      "text/markdown": [
       ">(4) Private Bills and Private Business"
      ],
      "text/plain": [
       "<IPython.core.display.Markdown object>"
      ]
     },
     "metadata": {},
     "output_type": "display_data"
    },
    {
     "data": {
      "text/markdown": [
       "## Wendy Morton (25342)"
      ],
      "text/plain": [
       "<IPython.core.display.Markdown object>"
      ]
     },
     "metadata": {},
     "output_type": "display_data"
    },
    {
     "data": {
      "text/markdown": [
       "[Debate link](https://www.theyworkforyou.com/debates/?id=2024-09-03c.217.0) | [Register link](https://www.theyworkforyou.com/mp/25342/register)"
      ],
      "text/plain": [
       "<IPython.core.display.Markdown object>"
      ]
     },
     "metadata": {},
     "output_type": "display_data"
    },
    {
     "data": {
      "text/markdown": [
       "match score: 0.65"
      ],
      "text/plain": [
       "<IPython.core.display.Markdown object>"
      ]
     },
     "metadata": {},
     "output_type": "display_data"
    },
    {
     "data": {
      "text/markdown": [
       ">I would like to understand how some of the investments will be progressed under the new model, and how they will be held to account"
      ],
      "text/plain": [
       "<IPython.core.display.Markdown object>"
      ]
     },
     "metadata": {},
     "output_type": "display_data"
    },
    {
     "data": {
      "text/markdown": [
       "## None ()"
      ],
      "text/plain": [
       "<IPython.core.display.Markdown object>"
      ]
     },
     "metadata": {},
     "output_type": "display_data"
    },
    {
     "data": {
      "text/markdown": [
       "[Debate link](https://www.theyworkforyou.com/debates/?id=2024-09-03c.194.1) | [Register link](https://www.theyworkforyou.com/mp//register)"
      ],
      "text/plain": [
       "<IPython.core.display.Markdown object>"
      ]
     },
     "metadata": {},
     "output_type": "display_data"
    },
    {
     "data": {
      "text/markdown": [
       "match score: 0.65"
      ],
      "text/plain": [
       "<IPython.core.display.Markdown object>"
      ]
     },
     "metadata": {},
     "output_type": "display_data"
    },
    {
     "data": {
      "text/markdown": [
       ">Considered in Committee"
      ],
      "text/plain": [
       "<IPython.core.display.Markdown object>"
      ]
     },
     "metadata": {},
     "output_type": "display_data"
    },
    {
     "data": {
      "text/markdown": [
       "## None ()"
      ],
      "text/plain": [
       "<IPython.core.display.Markdown object>"
      ]
     },
     "metadata": {},
     "output_type": "display_data"
    },
    {
     "data": {
      "text/markdown": [
       "[Debate link](https://www.theyworkforyou.com/debates/?id=2024-09-03c.194.1) | [Register link](https://www.theyworkforyou.com/mp//register)"
      ],
      "text/plain": [
       "<IPython.core.display.Markdown object>"
      ]
     },
     "metadata": {},
     "output_type": "display_data"
    },
    {
     "data": {
      "text/markdown": [
       "match score: 0.65"
      ],
      "text/plain": [
       "<IPython.core.display.Markdown object>"
      ]
     },
     "metadata": {},
     "output_type": "display_data"
    },
    {
     "data": {
      "text/markdown": [
       ">Considered in Committee"
      ],
      "text/plain": [
       "<IPython.core.display.Markdown object>"
      ]
     },
     "metadata": {},
     "output_type": "display_data"
    },
    {
     "data": {
      "text/markdown": [
       "## Caroline Nokes (24809)"
      ],
      "text/plain": [
       "<IPython.core.display.Markdown object>"
      ]
     },
     "metadata": {},
     "output_type": "display_data"
    },
    {
     "data": {
      "text/markdown": [
       "[Debate link](https://www.theyworkforyou.com/debates/?id=2024-09-03c.206.0) | [Register link](https://www.theyworkforyou.com/mp/24809/register)"
      ],
      "text/plain": [
       "<IPython.core.display.Markdown object>"
      ]
     },
     "metadata": {},
     "output_type": "display_data"
    },
    {
     "data": {
      "text/markdown": [
       "match score: 0.65"
      ],
      "text/plain": [
       "<IPython.core.display.Markdown object>"
      ]
     },
     "metadata": {},
     "output_type": "display_data"
    },
    {
     "data": {
      "text/markdown": [
       ">As a point of information and for my assistance, it would be very helpful if Members wishing to be called could indicate clearly that they wish to speak"
      ],
      "text/plain": [
       "<IPython.core.display.Markdown object>"
      ]
     },
     "metadata": {},
     "output_type": "display_data"
    },
    {
     "data": {
      "text/markdown": [
       "## Simon Lightwood (26085)"
      ],
      "text/plain": [
       "<IPython.core.display.Markdown object>"
      ]
     },
     "metadata": {},
     "output_type": "display_data"
    },
    {
     "data": {
      "text/markdown": [
       "[Debate link](https://www.theyworkforyou.com/debates/?id=2024-09-03c.257.1) | [Register link](https://www.theyworkforyou.com/mp/26085/register)"
      ],
      "text/plain": [
       "<IPython.core.display.Markdown object>"
      ]
     },
     "metadata": {},
     "output_type": "display_data"
    },
    {
     "data": {
      "text/markdown": [
       "match score: 0.65"
      ],
      "text/plain": [
       "<IPython.core.display.Markdown object>"
      ]
     },
     "metadata": {},
     "output_type": "display_data"
    },
    {
     "data": {
      "text/markdown": [
       ">My officials are engaging with Eurofima to consider the potential of UK membership and the role that could play in the UK market"
      ],
      "text/plain": [
       "<IPython.core.display.Markdown object>"
      ]
     },
     "metadata": {},
     "output_type": "display_data"
    },
    {
     "data": {
      "text/markdown": [
       "## Caroline Nokes (24809)"
      ],
      "text/plain": [
       "<IPython.core.display.Markdown object>"
      ]
     },
     "metadata": {},
     "output_type": "display_data"
    },
    {
     "data": {
      "text/markdown": [
       "[Debate link](https://www.theyworkforyou.com/debates/?id=2024-09-03c.194.5) | [Register link](https://www.theyworkforyou.com/mp/24809/register)"
      ],
      "text/plain": [
       "<IPython.core.display.Markdown object>"
      ]
     },
     "metadata": {},
     "output_type": "display_data"
    },
    {
     "data": {
      "text/markdown": [
       "match score: 0.65"
      ],
      "text/plain": [
       "<IPython.core.display.Markdown object>"
      ]
     },
     "metadata": {},
     "output_type": "display_data"
    },
    {
     "data": {
      "text/markdown": [
       ">(a) value for money;"
      ],
      "text/plain": [
       "<IPython.core.display.Markdown object>"
      ]
     },
     "metadata": {},
     "output_type": "display_data"
    },
    {
     "data": {
      "text/markdown": [
       "## Caroline Nokes (24809)"
      ],
      "text/plain": [
       "<IPython.core.display.Markdown object>"
      ]
     },
     "metadata": {},
     "output_type": "display_data"
    },
    {
     "data": {
      "text/markdown": [
       "[Debate link](https://www.theyworkforyou.com/debates/?id=2024-09-03c.194.5) | [Register link](https://www.theyworkforyou.com/mp/24809/register)"
      ],
      "text/plain": [
       "<IPython.core.display.Markdown object>"
      ]
     },
     "metadata": {},
     "output_type": "display_data"
    },
    {
     "data": {
      "text/markdown": [
       "match score: 0.65"
      ],
      "text/plain": [
       "<IPython.core.display.Markdown object>"
      ]
     },
     "metadata": {},
     "output_type": "display_data"
    },
    {
     "data": {
      "text/markdown": [
       ">(a) value for money;"
      ],
      "text/plain": [
       "<IPython.core.display.Markdown object>"
      ]
     },
     "metadata": {},
     "output_type": "display_data"
    },
    {
     "data": {
      "text/markdown": [
       "## None ()"
      ],
      "text/plain": [
       "<IPython.core.display.Markdown object>"
      ]
     },
     "metadata": {},
     "output_type": "display_data"
    },
    {
     "data": {
      "text/markdown": [
       "[Debate link](https://www.theyworkforyou.com/debates/?id=2024-09-03c.263.4) | [Register link](https://www.theyworkforyou.com/mp//register)"
      ],
      "text/plain": [
       "<IPython.core.display.Markdown object>"
      ]
     },
     "metadata": {},
     "output_type": "display_data"
    },
    {
     "data": {
      "text/markdown": [
       "match score: 0.65"
      ],
      "text/plain": [
       "<IPython.core.display.Markdown object>"
      ]
     },
     "metadata": {},
     "output_type": "display_data"
    },
    {
     "data": {
      "text/markdown": [
       ">(a) value for money;"
      ],
      "text/plain": [
       "<IPython.core.display.Markdown object>"
      ]
     },
     "metadata": {},
     "output_type": "display_data"
    },
    {
     "data": {
      "text/markdown": [
       "## None ()"
      ],
      "text/plain": [
       "<IPython.core.display.Markdown object>"
      ]
     },
     "metadata": {},
     "output_type": "display_data"
    },
    {
     "data": {
      "text/markdown": [
       "[Debate link](https://www.theyworkforyou.com/debates/?id=2024-09-03c.263.4) | [Register link](https://www.theyworkforyou.com/mp//register)"
      ],
      "text/plain": [
       "<IPython.core.display.Markdown object>"
      ]
     },
     "metadata": {},
     "output_type": "display_data"
    },
    {
     "data": {
      "text/markdown": [
       "match score: 0.65"
      ],
      "text/plain": [
       "<IPython.core.display.Markdown object>"
      ]
     },
     "metadata": {},
     "output_type": "display_data"
    },
    {
     "data": {
      "text/markdown": [
       ">(a) value for money;"
      ],
      "text/plain": [
       "<IPython.core.display.Markdown object>"
      ]
     },
     "metadata": {},
     "output_type": "display_data"
    },
    {
     "data": {
      "text/markdown": [
       "# 2024-09-02"
      ],
      "text/plain": [
       "<IPython.core.display.Markdown object>"
      ]
     },
     "metadata": {},
     "output_type": "display_data"
    },
    {
     "data": {
      "text/markdown": [
       "## Anna Sabine (26497)"
      ],
      "text/plain": [
       "<IPython.core.display.Markdown object>"
      ]
     },
     "metadata": {},
     "output_type": "display_data"
    },
    {
     "data": {
      "text/markdown": [
       "[Debate link](https://www.theyworkforyou.com/debates/?id=2024-09-02a.131.0) | [Register link](https://www.theyworkforyou.com/mp/26497/register)"
      ],
      "text/plain": [
       "<IPython.core.display.Markdown object>"
      ]
     },
     "metadata": {},
     "output_type": "display_data"
    },
    {
     "data": {
      "text/markdown": [
       "match score: 0.69"
      ],
      "text/plain": [
       "<IPython.core.display.Markdown object>"
      ]
     },
     "metadata": {},
     "output_type": "display_data"
    },
    {
     "data": {
      "text/markdown": [
       ">Given that banks play such an important role in our communities and our businesses, does the hon Member agree that there should be some obligation placed on banks to ensure adequate provision across communities in any given constituency? We can see from the discussion this evening that it is critical to so many aspects of our public life that we have proper banking provision"
      ],
      "text/plain": [
       "<IPython.core.display.Markdown object>"
      ]
     },
     "metadata": {},
     "output_type": "display_data"
    },
    {
     "data": {
      "text/markdown": [
       "## Anna Sabine (26497)"
      ],
      "text/plain": [
       "<IPython.core.display.Markdown object>"
      ]
     },
     "metadata": {},
     "output_type": "display_data"
    },
    {
     "data": {
      "text/markdown": [
       "[Debate link](https://www.theyworkforyou.com/debates/?id=2024-09-02a.131.0) | [Register link](https://www.theyworkforyou.com/mp/26497/register)"
      ],
      "text/plain": [
       "<IPython.core.display.Markdown object>"
      ]
     },
     "metadata": {},
     "output_type": "display_data"
    },
    {
     "data": {
      "text/markdown": [
       "match score: 0.68"
      ],
      "text/plain": [
       "<IPython.core.display.Markdown object>"
      ]
     },
     "metadata": {},
     "output_type": "display_data"
    },
    {
     "data": {
      "text/markdown": [
       ">I represent a thriving market town in Somerset called Frome, and even there it was announced in May that we would lose our last bank. Given that banks play such an important role in our communities and our businesses, does the hon. Member agree that there should be some obligation placed on banks to ensure adequate provision across communities in any given constituency? We can see from the discussion this evening that it is critical to so many aspects of our public life that we have proper banking provision."
      ],
      "text/plain": [
       "<IPython.core.display.Markdown object>"
      ]
     },
     "metadata": {},
     "output_type": "display_data"
    },
    {
     "data": {
      "text/markdown": [
       "## Tulip Siddiq (25344)"
      ],
      "text/plain": [
       "<IPython.core.display.Markdown object>"
      ]
     },
     "metadata": {},
     "output_type": "display_data"
    },
    {
     "data": {
      "text/markdown": [
       "[Debate link](https://www.theyworkforyou.com/debates/?id=2024-09-02a.135.0) | [Register link](https://www.theyworkforyou.com/mp/25344/register)"
      ],
      "text/plain": [
       "<IPython.core.display.Markdown object>"
      ]
     },
     "metadata": {},
     "output_type": "display_data"
    },
    {
     "data": {
      "text/markdown": [
       "match score: 0.68"
      ],
      "text/plain": [
       "<IPython.core.display.Markdown object>"
      ]
     },
     "metadata": {},
     "output_type": "display_data"
    },
    {
     "data": {
      "text/markdown": [
       ">However, it is important that coverage is maintained, so I welcome the FCA’s forthcoming rules on access to cash, under which designated banks and building societies will be required to assess the impact of a closure on a community’s ability to access cash. If a closure results in a gap in provision, firms will be required to put in place a new service that meets the community’s needs. That could mean a new ATM deposit service or a banking hub. Where a new service is recommended, firms will need to ensure that it is place before they are able to close the existing service, to avoid gaps emerging in access to cash. Those rules will come into force on 18 September, which I am sure will be welcomed by Members across the House."
      ],
      "text/plain": [
       "<IPython.core.display.Markdown object>"
      ]
     },
     "metadata": {},
     "output_type": "display_data"
    },
    {
     "data": {
      "text/markdown": [
       "## Anneliese Dodds (25618)"
      ],
      "text/plain": [
       "<IPython.core.display.Markdown object>"
      ]
     },
     "metadata": {},
     "output_type": "display_data"
    },
    {
     "data": {
      "text/markdown": [
       "[Debate link](https://www.theyworkforyou.com/debates/?id=2024-09-02a.29.3) | [Register link](https://www.theyworkforyou.com/mp/25618/register)"
      ],
      "text/plain": [
       "<IPython.core.display.Markdown object>"
      ]
     },
     "metadata": {},
     "output_type": "display_data"
    },
    {
     "data": {
      "text/markdown": [
       "match score: 0.68"
      ],
      "text/plain": [
       "<IPython.core.display.Markdown object>"
      ]
     },
     "metadata": {},
     "output_type": "display_data"
    },
    {
     "data": {
      "text/markdown": [
       ">The right hon Member raises an important question"
      ],
      "text/plain": [
       "<IPython.core.display.Markdown object>"
      ]
     },
     "metadata": {},
     "output_type": "display_data"
    },
    {
     "data": {
      "text/markdown": [
       "## Tulip Siddiq (25344)"
      ],
      "text/plain": [
       "<IPython.core.display.Markdown object>"
      ]
     },
     "metadata": {},
     "output_type": "display_data"
    },
    {
     "data": {
      "text/markdown": [
       "[Debate link](https://www.theyworkforyou.com/debates/?id=2024-09-02a.134.0) | [Register link](https://www.theyworkforyou.com/mp/25344/register)"
      ],
      "text/plain": [
       "<IPython.core.display.Markdown object>"
      ]
     },
     "metadata": {},
     "output_type": "display_data"
    },
    {
     "data": {
      "text/markdown": [
       "match score: 0.68"
      ],
      "text/plain": [
       "<IPython.core.display.Markdown object>"
      ]
     },
     "metadata": {},
     "output_type": "display_data"
    },
    {
     "data": {
      "text/markdown": [
       ">As the hon. Member might know, 60 banking hubs have already opened. As I said, we anticipate that 100 will be open at the end of this year, but I agree that it is frustrating to have to wait and watch. We want them to be up and running so that our constituents can make good use of them. We want to ensure that the hubs mean that people and businesses can withdraw and deposit cash, because we know that people still use it. They will deposit cheques, pay bills and make balance inquiries. They will also contain dedicated community bankers from the largest banks in the area on a rotating basis, to help people and businesses carry out wider banking services."
      ],
      "text/plain": [
       "<IPython.core.display.Markdown object>"
      ]
     },
     "metadata": {},
     "output_type": "display_data"
    },
    {
     "data": {
      "text/markdown": [
       "## Tulip Siddiq (25344)"
      ],
      "text/plain": [
       "<IPython.core.display.Markdown object>"
      ]
     },
     "metadata": {},
     "output_type": "display_data"
    },
    {
     "data": {
      "text/markdown": [
       "[Debate link](https://www.theyworkforyou.com/debates/?id=2024-09-02a.135.0) | [Register link](https://www.theyworkforyou.com/mp/25344/register)"
      ],
      "text/plain": [
       "<IPython.core.display.Markdown object>"
      ]
     },
     "metadata": {},
     "output_type": "display_data"
    },
    {
     "data": {
      "text/markdown": [
       "match score: 0.68"
      ],
      "text/plain": [
       "<IPython.core.display.Markdown object>"
      ]
     },
     "metadata": {},
     "output_type": "display_data"
    },
    {
     "data": {
      "text/markdown": [
       ">I want to take my hon Friend the Member for Hexham, and other Members who have spoken, along with me on my journey, working together with the financial services sector and the public to deliver financial services"
      ],
      "text/plain": [
       "<IPython.core.display.Markdown object>"
      ]
     },
     "metadata": {},
     "output_type": "display_data"
    },
    {
     "data": {
      "text/markdown": [
       "## Yvette Cooper (10131)"
      ],
      "text/plain": [
       "<IPython.core.display.Markdown object>"
      ]
     },
     "metadata": {},
     "output_type": "display_data"
    },
    {
     "data": {
      "text/markdown": [
       "[Debate link](https://www.theyworkforyou.com/debates/?id=2024-09-02a.62.0) | [Register link](https://www.theyworkforyou.com/mp/10131/register)"
      ],
      "text/plain": [
       "<IPython.core.display.Markdown object>"
      ]
     },
     "metadata": {},
     "output_type": "display_data"
    },
    {
     "data": {
      "text/markdown": [
       "match score: 0.67"
      ],
      "text/plain": [
       "<IPython.core.display.Markdown object>"
      ]
     },
     "metadata": {},
     "output_type": "display_data"
    },
    {
     "data": {
      "text/markdown": [
       ">The right hon Member makes an important point"
      ],
      "text/plain": [
       "<IPython.core.display.Markdown object>"
      ]
     },
     "metadata": {},
     "output_type": "display_data"
    },
    {
     "data": {
      "text/markdown": [
       "## Yvette Cooper (10131)"
      ],
      "text/plain": [
       "<IPython.core.display.Markdown object>"
      ]
     },
     "metadata": {},
     "output_type": "display_data"
    },
    {
     "data": {
      "text/markdown": [
       "[Debate link](https://www.theyworkforyou.com/debates/?id=2024-09-02a.64.0) | [Register link](https://www.theyworkforyou.com/mp/10131/register)"
      ],
      "text/plain": [
       "<IPython.core.display.Markdown object>"
      ]
     },
     "metadata": {},
     "output_type": "display_data"
    },
    {
     "data": {
      "text/markdown": [
       "match score: 0.67"
      ],
      "text/plain": [
       "<IPython.core.display.Markdown object>"
      ]
     },
     "metadata": {},
     "output_type": "display_data"
    },
    {
     "data": {
      "text/markdown": [
       ">The hon. Member will know that decisions on charging and on which courts take the decisions is not a matter for Government and rightly so. Those are independent matters for the CPS and for the courts and the judicial system. I am happy to write to her with detailed information about the numbers of cases that have been dealt with in the different courts, as I do not have that to hand."
      ],
      "text/plain": [
       "<IPython.core.display.Markdown object>"
      ]
     },
     "metadata": {},
     "output_type": "display_data"
    },
    {
     "data": {
      "text/markdown": [
       "## Ian Lavery (24963)"
      ],
      "text/plain": [
       "<IPython.core.display.Markdown object>"
      ]
     },
     "metadata": {},
     "output_type": "display_data"
    },
    {
     "data": {
      "text/markdown": [
       "[Debate link](https://www.theyworkforyou.com/debates/?id=2024-09-02a.133.0) | [Register link](https://www.theyworkforyou.com/mp/24963/register)"
      ],
      "text/plain": [
       "<IPython.core.display.Markdown object>"
      ]
     },
     "metadata": {},
     "output_type": "display_data"
    },
    {
     "data": {
      "text/markdown": [
       "match score: 0.67"
      ],
      "text/plain": [
       "<IPython.core.display.Markdown object>"
      ]
     },
     "metadata": {},
     "output_type": "display_data"
    },
    {
     "data": {
      "text/markdown": [
       ">However, will the Minister consider reviewing the criteria? I have an issue in my constituency where the distance of the nearest bank is one tenth of a mile too short to get a banking hub"
      ],
      "text/plain": [
       "<IPython.core.display.Markdown object>"
      ]
     },
     "metadata": {},
     "output_type": "display_data"
    },
    {
     "data": {
      "text/markdown": [
       "## Yvette Cooper (10131)"
      ],
      "text/plain": [
       "<IPython.core.display.Markdown object>"
      ]
     },
     "metadata": {},
     "output_type": "display_data"
    },
    {
     "data": {
      "text/markdown": [
       "[Debate link](https://www.theyworkforyou.com/debates/?id=2024-09-02a.68.0) | [Register link](https://www.theyworkforyou.com/mp/10131/register)"
      ],
      "text/plain": [
       "<IPython.core.display.Markdown object>"
      ]
     },
     "metadata": {},
     "output_type": "display_data"
    },
    {
     "data": {
      "text/markdown": [
       "match score: 0.67"
      ],
      "text/plain": [
       "<IPython.core.display.Markdown object>"
      ]
     },
     "metadata": {},
     "output_type": "display_data"
    },
    {
     "data": {
      "text/markdown": [
       ">The hon Member makes an important point"
      ],
      "text/plain": [
       "<IPython.core.display.Markdown object>"
      ]
     },
     "metadata": {},
     "output_type": "display_data"
    },
    {
     "data": {
      "text/markdown": [
       "## Tulip Siddiq (25344)"
      ],
      "text/plain": [
       "<IPython.core.display.Markdown object>"
      ]
     },
     "metadata": {},
     "output_type": "display_data"
    },
    {
     "data": {
      "text/markdown": [
       "[Debate link](https://www.theyworkforyou.com/debates/?id=2024-09-02a.134.0) | [Register link](https://www.theyworkforyou.com/mp/25344/register)"
      ],
      "text/plain": [
       "<IPython.core.display.Markdown object>"
      ]
     },
     "metadata": {},
     "output_type": "display_data"
    },
    {
     "data": {
      "text/markdown": [
       "match score: 0.66"
      ],
      "text/plain": [
       "<IPython.core.display.Markdown object>"
      ]
     },
     "metadata": {},
     "output_type": "display_data"
    },
    {
     "data": {
      "text/markdown": [
       ">The decisions on the locations of future banking hubs will be made by LINK, which is the banking industry’s cash co-ordinating body. It will consider criteria such as population size, the number of retailers in the community and the availability of alternative bank branches. Communities can ask LINK to carry out an assessment of the local area; I urge my hon. Friends the Members for Blyth and Ashington (Ian Lavery) and for Hexham to make to LINK the case that has so convincingly been made to me. At the end of the day, we have asked it to make the decisions, but I can help in the process as well."
      ],
      "text/plain": [
       "<IPython.core.display.Markdown object>"
      ]
     },
     "metadata": {},
     "output_type": "display_data"
    },
    {
     "data": {
      "text/markdown": [
       "## Joe Morris (26468)"
      ],
      "text/plain": [
       "<IPython.core.display.Markdown object>"
      ]
     },
     "metadata": {},
     "output_type": "display_data"
    },
    {
     "data": {
      "text/markdown": [
       "[Debate link](https://www.theyworkforyou.com/debates/?id=2024-09-02a.131.1) | [Register link](https://www.theyworkforyou.com/mp/26468/register)"
      ],
      "text/plain": [
       "<IPython.core.display.Markdown object>"
      ]
     },
     "metadata": {},
     "output_type": "display_data"
    },
    {
     "data": {
      "text/markdown": [
       "match score: 0.66"
      ],
      "text/plain": [
       "<IPython.core.display.Markdown object>"
      ]
     },
     "metadata": {},
     "output_type": "display_data"
    },
    {
     "data": {
      "text/markdown": [
       ">I agree with the hon. Lady. It is important that banks recognise the almost unique role that they play on our high streets as anchor institutions; they need to be far more responsible when conditions dictate that bank branches need to close. This is not about asking them to play a charitable role; it is about asking them to play a responsible role in our economy and our society. As an MP for many picturesque market towns, I recognise the problems that the hon. Lady is having in her constituency."
      ],
      "text/plain": [
       "<IPython.core.display.Markdown object>"
      ]
     },
     "metadata": {},
     "output_type": "display_data"
    },
    {
     "data": {
      "text/markdown": [
       "## Tulip Siddiq (25344)"
      ],
      "text/plain": [
       "<IPython.core.display.Markdown object>"
      ]
     },
     "metadata": {},
     "output_type": "display_data"
    },
    {
     "data": {
      "text/markdown": [
       "[Debate link](https://www.theyworkforyou.com/debates/?id=2024-09-02a.132.2) | [Register link](https://www.theyworkforyou.com/mp/25344/register)"
      ],
      "text/plain": [
       "<IPython.core.display.Markdown object>"
      ]
     },
     "metadata": {},
     "output_type": "display_data"
    },
    {
     "data": {
      "text/markdown": [
       "match score: 0.66"
      ],
      "text/plain": [
       "<IPython.core.display.Markdown object>"
      ]
     },
     "metadata": {},
     "output_type": "display_data"
    },
    {
     "data": {
      "text/markdown": [
       ">I am pleased that this is my first parliamentary debate as the Economic Secretary to the Treasury, because this is an issue that is close to my heart, and one that I am determined to try to address. It is a privilege to be able to use this office to tackle some of the country’s most important issues, as my hon. Friend just said. Ensuring  access to banking and supporting financial inclusion featured very highly in our manifesto, which all Labour Members were elected on. We want to ensure that our constituents manage to access the services that they deserve."
      ],
      "text/plain": [
       "<IPython.core.display.Markdown object>"
      ]
     },
     "metadata": {},
     "output_type": "display_data"
    },
    {
     "data": {
      "text/markdown": [
       "## Angela Rayner (25429)"
      ],
      "text/plain": [
       "<IPython.core.display.Markdown object>"
      ]
     },
     "metadata": {},
     "output_type": "display_data"
    },
    {
     "data": {
      "text/markdown": [
       "[Debate link](https://www.theyworkforyou.com/debates/?id=2024-09-02a.17.4) | [Register link](https://www.theyworkforyou.com/mp/25429/register)"
      ],
      "text/plain": [
       "<IPython.core.display.Markdown object>"
      ]
     },
     "metadata": {},
     "output_type": "display_data"
    },
    {
     "data": {
      "text/markdown": [
       "match score: 0.66"
      ],
      "text/plain": [
       "<IPython.core.display.Markdown object>"
      ]
     },
     "metadata": {},
     "output_type": "display_data"
    },
    {
     "data": {
      "text/markdown": [
       ">The hon. Member will know that Birmingham city council will not be making decisions over asset sales lightly. I know that it is working with commissioners to ensure that its financing decisions deliver value for money and that it can avoid fire sales, and I will work constructively with the council and commissioners as that work continues."
      ],
      "text/plain": [
       "<IPython.core.display.Markdown object>"
      ]
     },
     "metadata": {},
     "output_type": "display_data"
    },
    {
     "data": {
      "text/markdown": [
       "## Tulip Siddiq (25344)"
      ],
      "text/plain": [
       "<IPython.core.display.Markdown object>"
      ]
     },
     "metadata": {},
     "output_type": "display_data"
    },
    {
     "data": {
      "text/markdown": [
       "[Debate link](https://www.theyworkforyou.com/debates/?id=2024-09-02a.135.0) | [Register link](https://www.theyworkforyou.com/mp/25344/register)"
      ],
      "text/plain": [
       "<IPython.core.display.Markdown object>"
      ]
     },
     "metadata": {},
     "output_type": "display_data"
    },
    {
     "data": {
      "text/markdown": [
       "match score: 0.66"
      ],
      "text/plain": [
       "<IPython.core.display.Markdown object>"
      ]
     },
     "metadata": {},
     "output_type": "display_data"
    },
    {
     "data": {
      "text/markdown": [
       ">We recognise that banking has changed through a shift towards online and mobile access, which mean that customers have more ways to access banking services   conveniently and securely. Banking users have clearly taken up those opportunities; recent FCA data shows that almost nine in 10 adults bank online. However, that does not mean that everyone has the means, confidence and skills to use those services, as many hon. Friends have said. We recognise that although we live in an increasingly online world, part of the population, including in my constituency, remain digitally excluded."
      ],
      "text/plain": [
       "<IPython.core.display.Markdown object>"
      ]
     },
     "metadata": {},
     "output_type": "display_data"
    },
    {
     "data": {
      "text/markdown": [
       "## Tulip Siddiq (25344)"
      ],
      "text/plain": [
       "<IPython.core.display.Markdown object>"
      ]
     },
     "metadata": {},
     "output_type": "display_data"
    },
    {
     "data": {
      "text/markdown": [
       "[Debate link](https://www.theyworkforyou.com/debates/?id=2024-09-02a.133.1) | [Register link](https://www.theyworkforyou.com/mp/25344/register)"
      ],
      "text/plain": [
       "<IPython.core.display.Markdown object>"
      ]
     },
     "metadata": {},
     "output_type": "display_data"
    },
    {
     "data": {
      "text/markdown": [
       "match score: 0.65"
      ],
      "text/plain": [
       "<IPython.core.display.Markdown object>"
      ]
     },
     "metadata": {},
     "output_type": "display_data"
    },
    {
     "data": {
      "text/markdown": [
       ">I will come on to LINK, which provides the banking hubs, but if he does not mind writing to me and laying out exactly what the issue is, I can write to him about the topic and about the criteria, because it sounds as if there is a very small matter that needs looking at and I am happy to do so"
      ],
      "text/plain": [
       "<IPython.core.display.Markdown object>"
      ]
     },
     "metadata": {},
     "output_type": "display_data"
    },
    {
     "data": {
      "text/markdown": [
       "## Rachel Blake (26546)"
      ],
      "text/plain": [
       "<IPython.core.display.Markdown object>"
      ]
     },
     "metadata": {},
     "output_type": "display_data"
    },
    {
     "data": {
      "text/markdown": [
       "[Debate link](https://www.theyworkforyou.com/debates/?id=2024-09-02a.33.1) | [Register link](https://www.theyworkforyou.com/mp/26546/register)"
      ],
      "text/plain": [
       "<IPython.core.display.Markdown object>"
      ]
     },
     "metadata": {},
     "output_type": "display_data"
    },
    {
     "data": {
      "text/markdown": [
       "match score: 0.65"
      ],
      "text/plain": [
       "<IPython.core.display.Markdown object>"
      ]
     },
     "metadata": {},
     "output_type": "display_data"
    },
    {
     "data": {
      "text/markdown": [
       ">We have heard about the role of Russian assets in this country. The Minister will be aware of my concerns about asset ownership in the constituency of Cities of London and Westminster, and how vital it is for UK economic growth that we can pride ourselves on having clean and transparent financial markets in the City of London. Does she agree that securing transparency through trust ownership is a really important part of ensuring that we can understand ownership of assets in this country, and that we cannot wait any longer for enforcement around the transparency of trusts in order to secure our understanding of the situation?"
      ],
      "text/plain": [
       "<IPython.core.display.Markdown object>"
      ]
     },
     "metadata": {},
     "output_type": "display_data"
    },
    {
     "data": {
      "text/markdown": [
       "## Ian Lavery (24963)"
      ],
      "text/plain": [
       "<IPython.core.display.Markdown object>"
      ]
     },
     "metadata": {},
     "output_type": "display_data"
    },
    {
     "data": {
      "text/markdown": [
       "[Debate link](https://www.theyworkforyou.com/debates/?id=2024-09-02a.133.0) | [Register link](https://www.theyworkforyou.com/mp/24963/register)"
      ],
      "text/plain": [
       "<IPython.core.display.Markdown object>"
      ]
     },
     "metadata": {},
     "output_type": "display_data"
    },
    {
     "data": {
      "text/markdown": [
       "match score: 0.65"
      ],
      "text/plain": [
       "<IPython.core.display.Markdown object>"
      ]
     },
     "metadata": {},
     "output_type": "display_data"
    },
    {
     "data": {
      "text/markdown": [
       ">Banking hubs are in many ways very helpful. However, will the Minister consider reviewing the criteria? I have an issue in my constituency where the distance of the nearest bank is one tenth of a mile too short to get a banking hub. Because of that, they are considering not putting a banking hub in place. Is there potential to review the criteria, to support the most vulnerable people in our communities?"
      ],
      "text/plain": [
       "<IPython.core.display.Markdown object>"
      ]
     },
     "metadata": {},
     "output_type": "display_data"
    },
    {
     "data": {
      "text/markdown": [
       "## David Smith (26606)"
      ],
      "text/plain": [
       "<IPython.core.display.Markdown object>"
      ]
     },
     "metadata": {},
     "output_type": "display_data"
    },
    {
     "data": {
      "text/markdown": [
       "[Debate link](https://www.theyworkforyou.com/debates/?id=2024-09-02a.130.0) | [Register link](https://www.theyworkforyou.com/mp/26606/register)"
      ],
      "text/plain": [
       "<IPython.core.display.Markdown object>"
      ]
     },
     "metadata": {},
     "output_type": "display_data"
    },
    {
     "data": {
      "text/markdown": [
       "match score: 0.65"
      ],
      "text/plain": [
       "<IPython.core.display.Markdown object>"
      ]
     },
     "metadata": {},
     "output_type": "display_data"
    },
    {
     "data": {
      "text/markdown": [
       ">I thank my hon. Friend for securing the debate on an issue that is important in both his constituency and mine. I draw attention to the correlated issue of post offices. In Wooler in North Northumberland, where there are no bank branches, the post office, which provides the only banking services for that community, is also at risk of closure. Thankfully, an incredible community response, led by the Glendale Gateway Trust, is fighting to retain it. I will do everything in my power, too. Does my hon. Friend agree that banking hubs more generally, and the Post Office specifically, must be part of the solution to the lack of access to banking services in Northumberland?"
      ],
      "text/plain": [
       "<IPython.core.display.Markdown object>"
      ]
     },
     "metadata": {},
     "output_type": "display_data"
    }
   ],
   "source": [
    "# atched_text\tspeaker_name\tperson_id\tchamber\ttranscript_type\tspeech_id\ttwfy_ur\n",
    "df[\"date\"] = df[\"speech_id\"].apply(lambda x: x.split(\"/\")[2][:10])\n",
    "df[\"int_person_id\"] = df[\"person_id\"].apply(lambda x: x.split(\"/\")[-1] if x else \"\")\n",
    "\n",
    "# sort by reverse date\n",
    "df = df.sort_values(\"date\", ascending=False)\n",
    "\n",
    "for date, gdf in df.groupby(\"date\", sort=False):\n",
    "    gdf = gdf.sort_values(\"distance\", ascending=True)\n",
    "    dmd(f\"# {date}\")\n",
    "    for _, row in gdf.iterrows():\n",
    "        dmd(f\"## {row.speaker_name} ({row.int_person_id})\")\n",
    "        dmd(\n",
    "            f\"[Debate link]({row.twfy_url}) | [Register link](https://www.theyworkforyou.com/mp/{row.int_person_id}/register)\"\n",
    "        )\n",
    "\n",
    "        dmd(f\"match score: {round(1 - row.distance,2)}\")\n",
    "\n",
    "        dmd(\">\" + row.matched_text)"
   ]
  }
 ],
 "metadata": {
  "language_info": {
   "name": "python"
  }
 },
 "nbformat": 4,
 "nbformat_minor": 2
}
